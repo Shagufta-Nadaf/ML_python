{
  "nbformat": 4,
  "nbformat_minor": 0,
  "metadata": {
    "colab": {
      "provenance": []
    },
    "kernelspec": {
      "name": "python3",
      "display_name": "Python 3"
    },
    "language_info": {
      "name": "python"
    }
  },
  "cells": [
    {
      "cell_type": "markdown",
      "source": [
        "# Problem: predict insurance defaulter\n",
        "\n",
        "given data is from a kaggle competetion for prediction of insurance defaulter\n",
        "\n",
        "There are two target columns premium and target (defaulter)\n",
        "\n",
        "In our case we will be predicting only defaulter not the premium\n",
        "\n"
      ],
      "metadata": {
        "id": "3ve03WqHt6VO"
      }
    },
    {
      "cell_type": "markdown",
      "source": [
        "# load the data"
      ],
      "metadata": {
        "id": "EqCkz660uTUI"
      }
    },
    {
      "cell_type": "code",
      "execution_count": null,
      "metadata": {
        "id": "Svkoezz-t1fi"
      },
      "outputs": [],
      "source": [
        "import pandas as pd"
      ]
    },
    {
      "cell_type": "code",
      "source": [
        "data = pd.read_csv(\"/content/train_jRxnrHD.csv\")"
      ],
      "metadata": {
        "id": "d9kEHyY0ug9X"
      },
      "execution_count": null,
      "outputs": []
    },
    {
      "cell_type": "code",
      "source": [
        "data.info()"
      ],
      "metadata": {
        "colab": {
          "base_uri": "https://localhost:8080/"
        },
        "id": "Y0qgRAI-unoI",
        "outputId": "3558c001-931d-4232-da53-2fd40d239dc8"
      },
      "execution_count": null,
      "outputs": [
        {
          "output_type": "stream",
          "name": "stdout",
          "text": [
            "<class 'pandas.core.frame.DataFrame'>\n",
            "RangeIndex: 79853 entries, 0 to 79852\n",
            "Data columns (total 13 columns):\n",
            " #   Column                            Non-Null Count  Dtype  \n",
            "---  ------                            --------------  -----  \n",
            " 0   id                                79853 non-null  int64  \n",
            " 1   perc_premium_paid_by_cash_credit  79853 non-null  float64\n",
            " 2   age_in_days                       79853 non-null  int64  \n",
            " 3   Income                            79853 non-null  int64  \n",
            " 4   Count_3-6_months_late             79756 non-null  float64\n",
            " 5   Count_6-12_months_late            79756 non-null  float64\n",
            " 6   Count_more_than_12_months_late    79756 non-null  float64\n",
            " 7   application_underwriting_score    76879 non-null  float64\n",
            " 8   no_of_premiums_paid               79853 non-null  int64  \n",
            " 9   sourcing_channel                  79853 non-null  object \n",
            " 10  residence_area_type               79853 non-null  object \n",
            " 11  premium                           79853 non-null  int64  \n",
            " 12  target                            79853 non-null  int64  \n",
            "dtypes: float64(5), int64(6), object(2)\n",
            "memory usage: 7.9+ MB\n"
          ]
        }
      ]
    },
    {
      "cell_type": "code",
      "source": [
        "X = data.drop(['premium', 'target'], axis=1)\n",
        "y = data.loc[:,'target']"
      ],
      "metadata": {
        "id": "_ENv0wpTupiR"
      },
      "execution_count": null,
      "outputs": []
    },
    {
      "cell_type": "code",
      "source": [
        "X.shape, y.shape"
      ],
      "metadata": {
        "colab": {
          "base_uri": "https://localhost:8080/"
        },
        "id": "bISiimQ6uv5h",
        "outputId": "c10f0b5b-a999-43ff-b698-44ac1f010415"
      },
      "execution_count": null,
      "outputs": [
        {
          "output_type": "execute_result",
          "data": {
            "text/plain": [
              "((79853, 11), (79853,))"
            ]
          },
          "metadata": {},
          "execution_count": 5
        }
      ]
    },
    {
      "cell_type": "code",
      "source": [
        "y.value_counts(normalize=True)"
      ],
      "metadata": {
        "colab": {
          "base_uri": "https://localhost:8080/"
        },
        "id": "_byOCgvn9xVZ",
        "outputId": "6e86d169-695a-4338-ed60-cea55f7d9a4d"
      },
      "execution_count": null,
      "outputs": [
        {
          "output_type": "execute_result",
          "data": {
            "text/plain": [
              "target\n",
              "1    0.937397\n",
              "0    0.062603\n",
              "Name: proportion, dtype: float64"
            ]
          },
          "metadata": {},
          "execution_count": 43
        }
      ]
    },
    {
      "cell_type": "code",
      "source": [
        "from sklearn.model_selection import train_test_split"
      ],
      "metadata": {
        "id": "cfQ7fRhvuzAy"
      },
      "execution_count": null,
      "outputs": []
    },
    {
      "cell_type": "code",
      "source": [
        "X_train,X_test,y_train,y_test = train_test_split(X,y,\n",
        "                 test_size=0.3,\n",
        "                 random_state=7,\n",
        "                 stratify=y)"
      ],
      "metadata": {
        "id": "CKFRM2NZvB6W"
      },
      "execution_count": null,
      "outputs": []
    },
    {
      "cell_type": "code",
      "source": [
        "X_train.shape,X_test.shape,y_train.shape,y_test.shape"
      ],
      "metadata": {
        "colab": {
          "base_uri": "https://localhost:8080/"
        },
        "id": "4FwRw_pkvDTf",
        "outputId": "e4948e41-7d4a-450d-f690-a720f7dd01c7"
      },
      "execution_count": null,
      "outputs": [
        {
          "output_type": "execute_result",
          "data": {
            "text/plain": [
              "((55897, 11), (23956, 11), (55897,), (23956,))"
            ]
          },
          "metadata": {},
          "execution_count": 8
        }
      ]
    },
    {
      "cell_type": "markdown",
      "source": [
        "# preprocessing\n",
        "\n",
        "- remove id column\n",
        "\n",
        "- fill missing values\n",
        "\n",
        "- one hot encode string columns"
      ],
      "metadata": {
        "id": "kNRgwQ4QvJSv"
      }
    },
    {
      "cell_type": "code",
      "source": [
        "# drop id column\n",
        "drop_columns = ['id']\n",
        "X_train.drop(drop_columns,axis=1,inplace=True)"
      ],
      "metadata": {
        "id": "LJ9fpPSIvEvO"
      },
      "execution_count": null,
      "outputs": []
    },
    {
      "cell_type": "code",
      "source": [
        "# Encode the string columns\n",
        "# X_train.select_dtypes(include='object').columns\n",
        "X_train = pd.get_dummies(X_train)\n",
        "X_train.shape"
      ],
      "metadata": {
        "colab": {
          "base_uri": "https://localhost:8080/"
        },
        "id": "kcYctzKdwPpo",
        "outputId": "ba9cbc96-1d27-409f-fb07-00fd58e4f0fa"
      },
      "execution_count": null,
      "outputs": [
        {
          "output_type": "execute_result",
          "data": {
            "text/plain": [
              "(55897, 15)"
            ]
          },
          "metadata": {},
          "execution_count": 11
        }
      ]
    },
    {
      "cell_type": "code",
      "source": [
        "X_train.columns"
      ],
      "metadata": {
        "colab": {
          "base_uri": "https://localhost:8080/"
        },
        "id": "hj3WGLckwgjI",
        "outputId": "6698ea90-f75a-44a5-866b-460ff001af95"
      },
      "execution_count": null,
      "outputs": [
        {
          "output_type": "execute_result",
          "data": {
            "text/plain": [
              "Index(['perc_premium_paid_by_cash_credit', 'age_in_days', 'Income',\n",
              "       'Count_3-6_months_late', 'Count_6-12_months_late',\n",
              "       'Count_more_than_12_months_late', 'application_underwriting_score',\n",
              "       'no_of_premiums_paid', 'sourcing_channel_A', 'sourcing_channel_B',\n",
              "       'sourcing_channel_C', 'sourcing_channel_D', 'sourcing_channel_E',\n",
              "       'residence_area_type_Rural', 'residence_area_type_Urban'],\n",
              "      dtype='object')"
            ]
          },
          "metadata": {},
          "execution_count": 13
        }
      ]
    },
    {
      "cell_type": "code",
      "source": [
        "# fill missing values\n",
        "fill_value = X_train.median()\n",
        "X_train.fillna(fill_value, inplace=True)"
      ],
      "metadata": {
        "id": "7juwKd1Ov7WG"
      },
      "execution_count": null,
      "outputs": []
    },
    {
      "cell_type": "code",
      "source": [
        "#standardization ONLY on numeric columns\n",
        "numeric_columns = X_train.select_dtypes(exclude='bool').columns\n",
        "numeric_columns"
      ],
      "metadata": {
        "colab": {
          "base_uri": "https://localhost:8080/"
        },
        "id": "X5xO4bHYwEQO",
        "outputId": "050b5662-dc67-4460-83c0-6df710d6c99f"
      },
      "execution_count": null,
      "outputs": [
        {
          "output_type": "execute_result",
          "data": {
            "text/plain": [
              "Index(['perc_premium_paid_by_cash_credit', 'age_in_days', 'Income',\n",
              "       'Count_3-6_months_late', 'Count_6-12_months_late',\n",
              "       'Count_more_than_12_months_late', 'application_underwriting_score',\n",
              "       'no_of_premiums_paid'],\n",
              "      dtype='object')"
            ]
          },
          "metadata": {},
          "execution_count": 14
        }
      ]
    },
    {
      "cell_type": "code",
      "source": [
        "from sklearn.preprocessing import StandardScaler\n",
        "sd = StandardScaler()\n",
        "sd.fit(X_train.loc[:,numeric_columns])"
      ],
      "metadata": {
        "colab": {
          "base_uri": "https://localhost:8080/",
          "height": 94
        },
        "id": "GERd1P0FyUP5",
        "outputId": "fd84d065-9bfb-45bd-afa6-b4f46c66f359"
      },
      "execution_count": null,
      "outputs": [
        {
          "output_type": "execute_result",
          "data": {
            "text/plain": [
              "StandardScaler()"
            ],
            "text/html": [
              "<style>#sk-container-id-1 {color: black;background-color: white;}#sk-container-id-1 pre{padding: 0;}#sk-container-id-1 div.sk-toggleable {background-color: white;}#sk-container-id-1 label.sk-toggleable__label {cursor: pointer;display: block;width: 100%;margin-bottom: 0;padding: 0.3em;box-sizing: border-box;text-align: center;}#sk-container-id-1 label.sk-toggleable__label-arrow:before {content: \"▸\";float: left;margin-right: 0.25em;color: #696969;}#sk-container-id-1 label.sk-toggleable__label-arrow:hover:before {color: black;}#sk-container-id-1 div.sk-estimator:hover label.sk-toggleable__label-arrow:before {color: black;}#sk-container-id-1 div.sk-toggleable__content {max-height: 0;max-width: 0;overflow: hidden;text-align: left;background-color: #f0f8ff;}#sk-container-id-1 div.sk-toggleable__content pre {margin: 0.2em;color: black;border-radius: 0.25em;background-color: #f0f8ff;}#sk-container-id-1 input.sk-toggleable__control:checked~div.sk-toggleable__content {max-height: 200px;max-width: 100%;overflow: auto;}#sk-container-id-1 input.sk-toggleable__control:checked~label.sk-toggleable__label-arrow:before {content: \"▾\";}#sk-container-id-1 div.sk-estimator input.sk-toggleable__control:checked~label.sk-toggleable__label {background-color: #d4ebff;}#sk-container-id-1 div.sk-label input.sk-toggleable__control:checked~label.sk-toggleable__label {background-color: #d4ebff;}#sk-container-id-1 input.sk-hidden--visually {border: 0;clip: rect(1px 1px 1px 1px);clip: rect(1px, 1px, 1px, 1px);height: 1px;margin: -1px;overflow: hidden;padding: 0;position: absolute;width: 1px;}#sk-container-id-1 div.sk-estimator {font-family: monospace;background-color: #f0f8ff;border: 1px dotted black;border-radius: 0.25em;box-sizing: border-box;margin-bottom: 0.5em;}#sk-container-id-1 div.sk-estimator:hover {background-color: #d4ebff;}#sk-container-id-1 div.sk-parallel-item::after {content: \"\";width: 100%;border-bottom: 1px solid gray;flex-grow: 1;}#sk-container-id-1 div.sk-label:hover label.sk-toggleable__label {background-color: #d4ebff;}#sk-container-id-1 div.sk-serial::before {content: \"\";position: absolute;border-left: 1px solid gray;box-sizing: border-box;top: 0;bottom: 0;left: 50%;z-index: 0;}#sk-container-id-1 div.sk-serial {display: flex;flex-direction: column;align-items: center;background-color: white;padding-right: 0.2em;padding-left: 0.2em;position: relative;}#sk-container-id-1 div.sk-item {position: relative;z-index: 1;}#sk-container-id-1 div.sk-parallel {display: flex;align-items: stretch;justify-content: center;background-color: white;position: relative;}#sk-container-id-1 div.sk-item::before, #sk-container-id-1 div.sk-parallel-item::before {content: \"\";position: absolute;border-left: 1px solid gray;box-sizing: border-box;top: 0;bottom: 0;left: 50%;z-index: -1;}#sk-container-id-1 div.sk-parallel-item {display: flex;flex-direction: column;z-index: 1;position: relative;background-color: white;}#sk-container-id-1 div.sk-parallel-item:first-child::after {align-self: flex-end;width: 50%;}#sk-container-id-1 div.sk-parallel-item:last-child::after {align-self: flex-start;width: 50%;}#sk-container-id-1 div.sk-parallel-item:only-child::after {width: 0;}#sk-container-id-1 div.sk-dashed-wrapped {border: 1px dashed gray;margin: 0 0.4em 0.5em 0.4em;box-sizing: border-box;padding-bottom: 0.4em;background-color: white;}#sk-container-id-1 div.sk-label label {font-family: monospace;font-weight: bold;display: inline-block;line-height: 1.2em;}#sk-container-id-1 div.sk-label-container {text-align: center;}#sk-container-id-1 div.sk-container {/* jupyter's `normalize.less` sets `[hidden] { display: none; }` but bootstrap.min.css set `[hidden] { display: none !important; }` so we also need the `!important` here to be able to override the default hidden behavior on the sphinx rendered scikit-learn.org. See: https://github.com/scikit-learn/scikit-learn/issues/21755 */display: inline-block !important;position: relative;}#sk-container-id-1 div.sk-text-repr-fallback {display: none;}</style><div id=\"sk-container-id-1\" class=\"sk-top-container\"><div class=\"sk-text-repr-fallback\"><pre>StandardScaler()</pre><b>In a Jupyter environment, please rerun this cell to show the HTML representation or trust the notebook. <br />On GitHub, the HTML representation is unable to render, please try loading this page with nbviewer.org.</b></div><div class=\"sk-container\" hidden><div class=\"sk-item\"><div class=\"sk-estimator sk-toggleable\"><input class=\"sk-toggleable__control sk-hidden--visually\" id=\"sk-estimator-id-1\" type=\"checkbox\" checked><label for=\"sk-estimator-id-1\" class=\"sk-toggleable__label sk-toggleable__label-arrow\">StandardScaler</label><div class=\"sk-toggleable__content\"><pre>StandardScaler()</pre></div></div></div></div></div>"
            ]
          },
          "metadata": {},
          "execution_count": 15
        }
      ]
    },
    {
      "cell_type": "code",
      "source": [
        "X_train_std = X_train.copy()\n",
        "X_train_std.loc[:,numeric_columns] = sd.transform(X_train.loc[:,numeric_columns])"
      ],
      "metadata": {
        "id": "kYl0kDSlyiP7"
      },
      "execution_count": null,
      "outputs": []
    },
    {
      "cell_type": "code",
      "source": [
        "X_train_std.describe()"
      ],
      "metadata": {
        "id": "CF5_yDXIyumM",
        "outputId": "83a03843-838b-4a07-d633-f3a95753a20e",
        "colab": {
          "base_uri": "https://localhost:8080/",
          "height": 320
        }
      },
      "execution_count": null,
      "outputs": [
        {
          "output_type": "execute_result",
          "data": {
            "text/plain": [
              "       perc_premium_paid_by_cash_credit   age_in_days        Income  \\\n",
              "count                      5.589700e+04  5.589700e+04  5.589700e+04   \n",
              "mean                       1.738953e-16 -1.016931e-16 -3.101641e-17   \n",
              "std                        1.000009e+00  1.000009e+00  1.000009e+00   \n",
              "min                       -9.387686e-01 -2.140568e+00 -3.857647e-01   \n",
              "25%                       -8.372128e-01 -7.393826e-01 -2.106783e-01   \n",
              "50%                       -4.399504e-01 -3.917330e-02 -8.917958e-02   \n",
              "75%                        6.741763e-01  7.304814e-01  9.174928e-02   \n",
              "max                        2.048166e+00  3.601531e+00  1.885814e+02   \n",
              "\n",
              "       Count_3-6_months_late  Count_6-12_months_late  \\\n",
              "count           5.589700e+04            5.589700e+04   \n",
              "mean           -2.949101e-17           -1.652514e-17   \n",
              "std             1.000009e+00            1.000009e+00   \n",
              "min            -3.590767e-01           -1.819266e-01   \n",
              "25%            -3.590767e-01           -1.819266e-01   \n",
              "50%            -3.590767e-01           -1.819266e-01   \n",
              "75%            -3.590767e-01           -1.819266e-01   \n",
              "max             1.848178e+01            3.996568e+01   \n",
              "\n",
              "       Count_more_than_12_months_late  application_underwriting_score  \\\n",
              "count                    5.589700e+04                    5.589700e+04   \n",
              "mean                     5.084657e-19                   -1.375120e-14   \n",
              "std                      1.000009e+00                    1.000009e+00   \n",
              "min                     -1.927652e-01                   -9.906984e+00   \n",
              "25%                     -1.927652e-01                   -3.335534e-01   \n",
              "50%                     -1.927652e-01                    1.913966e-01   \n",
              "75%                     -1.927652e-01                    6.196453e-01   \n",
              "max                      3.462655e+01                    1.130781e+00   \n",
              "\n",
              "       no_of_premiums_paid  \n",
              "count         5.589700e+04  \n",
              "mean          2.415212e-17  \n",
              "std           1.000009e+00  \n",
              "min          -1.713579e+00  \n",
              "25%          -7.465512e-01  \n",
              "50%          -1.663343e-01  \n",
              "75%           6.072882e-01  \n",
              "max           9.503947e+00  "
            ],
            "text/html": [
              "\n",
              "  <div id=\"df-a5c6a6d9-2893-46b1-923a-21bb03053e94\" class=\"colab-df-container\">\n",
              "    <div>\n",
              "<style scoped>\n",
              "    .dataframe tbody tr th:only-of-type {\n",
              "        vertical-align: middle;\n",
              "    }\n",
              "\n",
              "    .dataframe tbody tr th {\n",
              "        vertical-align: top;\n",
              "    }\n",
              "\n",
              "    .dataframe thead th {\n",
              "        text-align: right;\n",
              "    }\n",
              "</style>\n",
              "<table border=\"1\" class=\"dataframe\">\n",
              "  <thead>\n",
              "    <tr style=\"text-align: right;\">\n",
              "      <th></th>\n",
              "      <th>perc_premium_paid_by_cash_credit</th>\n",
              "      <th>age_in_days</th>\n",
              "      <th>Income</th>\n",
              "      <th>Count_3-6_months_late</th>\n",
              "      <th>Count_6-12_months_late</th>\n",
              "      <th>Count_more_than_12_months_late</th>\n",
              "      <th>application_underwriting_score</th>\n",
              "      <th>no_of_premiums_paid</th>\n",
              "    </tr>\n",
              "  </thead>\n",
              "  <tbody>\n",
              "    <tr>\n",
              "      <th>count</th>\n",
              "      <td>5.589700e+04</td>\n",
              "      <td>5.589700e+04</td>\n",
              "      <td>5.589700e+04</td>\n",
              "      <td>5.589700e+04</td>\n",
              "      <td>5.589700e+04</td>\n",
              "      <td>5.589700e+04</td>\n",
              "      <td>5.589700e+04</td>\n",
              "      <td>5.589700e+04</td>\n",
              "    </tr>\n",
              "    <tr>\n",
              "      <th>mean</th>\n",
              "      <td>1.738953e-16</td>\n",
              "      <td>-1.016931e-16</td>\n",
              "      <td>-3.101641e-17</td>\n",
              "      <td>-2.949101e-17</td>\n",
              "      <td>-1.652514e-17</td>\n",
              "      <td>5.084657e-19</td>\n",
              "      <td>-1.375120e-14</td>\n",
              "      <td>2.415212e-17</td>\n",
              "    </tr>\n",
              "    <tr>\n",
              "      <th>std</th>\n",
              "      <td>1.000009e+00</td>\n",
              "      <td>1.000009e+00</td>\n",
              "      <td>1.000009e+00</td>\n",
              "      <td>1.000009e+00</td>\n",
              "      <td>1.000009e+00</td>\n",
              "      <td>1.000009e+00</td>\n",
              "      <td>1.000009e+00</td>\n",
              "      <td>1.000009e+00</td>\n",
              "    </tr>\n",
              "    <tr>\n",
              "      <th>min</th>\n",
              "      <td>-9.387686e-01</td>\n",
              "      <td>-2.140568e+00</td>\n",
              "      <td>-3.857647e-01</td>\n",
              "      <td>-3.590767e-01</td>\n",
              "      <td>-1.819266e-01</td>\n",
              "      <td>-1.927652e-01</td>\n",
              "      <td>-9.906984e+00</td>\n",
              "      <td>-1.713579e+00</td>\n",
              "    </tr>\n",
              "    <tr>\n",
              "      <th>25%</th>\n",
              "      <td>-8.372128e-01</td>\n",
              "      <td>-7.393826e-01</td>\n",
              "      <td>-2.106783e-01</td>\n",
              "      <td>-3.590767e-01</td>\n",
              "      <td>-1.819266e-01</td>\n",
              "      <td>-1.927652e-01</td>\n",
              "      <td>-3.335534e-01</td>\n",
              "      <td>-7.465512e-01</td>\n",
              "    </tr>\n",
              "    <tr>\n",
              "      <th>50%</th>\n",
              "      <td>-4.399504e-01</td>\n",
              "      <td>-3.917330e-02</td>\n",
              "      <td>-8.917958e-02</td>\n",
              "      <td>-3.590767e-01</td>\n",
              "      <td>-1.819266e-01</td>\n",
              "      <td>-1.927652e-01</td>\n",
              "      <td>1.913966e-01</td>\n",
              "      <td>-1.663343e-01</td>\n",
              "    </tr>\n",
              "    <tr>\n",
              "      <th>75%</th>\n",
              "      <td>6.741763e-01</td>\n",
              "      <td>7.304814e-01</td>\n",
              "      <td>9.174928e-02</td>\n",
              "      <td>-3.590767e-01</td>\n",
              "      <td>-1.819266e-01</td>\n",
              "      <td>-1.927652e-01</td>\n",
              "      <td>6.196453e-01</td>\n",
              "      <td>6.072882e-01</td>\n",
              "    </tr>\n",
              "    <tr>\n",
              "      <th>max</th>\n",
              "      <td>2.048166e+00</td>\n",
              "      <td>3.601531e+00</td>\n",
              "      <td>1.885814e+02</td>\n",
              "      <td>1.848178e+01</td>\n",
              "      <td>3.996568e+01</td>\n",
              "      <td>3.462655e+01</td>\n",
              "      <td>1.130781e+00</td>\n",
              "      <td>9.503947e+00</td>\n",
              "    </tr>\n",
              "  </tbody>\n",
              "</table>\n",
              "</div>\n",
              "    <div class=\"colab-df-buttons\">\n",
              "\n",
              "  <div class=\"colab-df-container\">\n",
              "    <button class=\"colab-df-convert\" onclick=\"convertToInteractive('df-a5c6a6d9-2893-46b1-923a-21bb03053e94')\"\n",
              "            title=\"Convert this dataframe to an interactive table.\"\n",
              "            style=\"display:none;\">\n",
              "\n",
              "  <svg xmlns=\"http://www.w3.org/2000/svg\" height=\"24px\" viewBox=\"0 -960 960 960\">\n",
              "    <path d=\"M120-120v-720h720v720H120Zm60-500h600v-160H180v160Zm220 220h160v-160H400v160Zm0 220h160v-160H400v160ZM180-400h160v-160H180v160Zm440 0h160v-160H620v160ZM180-180h160v-160H180v160Zm440 0h160v-160H620v160Z\"/>\n",
              "  </svg>\n",
              "    </button>\n",
              "\n",
              "  <style>\n",
              "    .colab-df-container {\n",
              "      display:flex;\n",
              "      gap: 12px;\n",
              "    }\n",
              "\n",
              "    .colab-df-convert {\n",
              "      background-color: #E8F0FE;\n",
              "      border: none;\n",
              "      border-radius: 50%;\n",
              "      cursor: pointer;\n",
              "      display: none;\n",
              "      fill: #1967D2;\n",
              "      height: 32px;\n",
              "      padding: 0 0 0 0;\n",
              "      width: 32px;\n",
              "    }\n",
              "\n",
              "    .colab-df-convert:hover {\n",
              "      background-color: #E2EBFA;\n",
              "      box-shadow: 0px 1px 2px rgba(60, 64, 67, 0.3), 0px 1px 3px 1px rgba(60, 64, 67, 0.15);\n",
              "      fill: #174EA6;\n",
              "    }\n",
              "\n",
              "    .colab-df-buttons div {\n",
              "      margin-bottom: 4px;\n",
              "    }\n",
              "\n",
              "    [theme=dark] .colab-df-convert {\n",
              "      background-color: #3B4455;\n",
              "      fill: #D2E3FC;\n",
              "    }\n",
              "\n",
              "    [theme=dark] .colab-df-convert:hover {\n",
              "      background-color: #434B5C;\n",
              "      box-shadow: 0px 1px 3px 1px rgba(0, 0, 0, 0.15);\n",
              "      filter: drop-shadow(0px 1px 2px rgba(0, 0, 0, 0.3));\n",
              "      fill: #FFFFFF;\n",
              "    }\n",
              "  </style>\n",
              "\n",
              "    <script>\n",
              "      const buttonEl =\n",
              "        document.querySelector('#df-a5c6a6d9-2893-46b1-923a-21bb03053e94 button.colab-df-convert');\n",
              "      buttonEl.style.display =\n",
              "        google.colab.kernel.accessAllowed ? 'block' : 'none';\n",
              "\n",
              "      async function convertToInteractive(key) {\n",
              "        const element = document.querySelector('#df-a5c6a6d9-2893-46b1-923a-21bb03053e94');\n",
              "        const dataTable =\n",
              "          await google.colab.kernel.invokeFunction('convertToInteractive',\n",
              "                                                    [key], {});\n",
              "        if (!dataTable) return;\n",
              "\n",
              "        const docLinkHtml = 'Like what you see? Visit the ' +\n",
              "          '<a target=\"_blank\" href=https://colab.research.google.com/notebooks/data_table.ipynb>data table notebook</a>'\n",
              "          + ' to learn more about interactive tables.';\n",
              "        element.innerHTML = '';\n",
              "        dataTable['output_type'] = 'display_data';\n",
              "        await google.colab.output.renderOutput(dataTable, element);\n",
              "        const docLink = document.createElement('div');\n",
              "        docLink.innerHTML = docLinkHtml;\n",
              "        element.appendChild(docLink);\n",
              "      }\n",
              "    </script>\n",
              "  </div>\n",
              "\n",
              "\n",
              "<div id=\"df-f3af9178-5675-4293-af30-511b7b5a445d\">\n",
              "  <button class=\"colab-df-quickchart\" onclick=\"quickchart('df-f3af9178-5675-4293-af30-511b7b5a445d')\"\n",
              "            title=\"Suggest charts\"\n",
              "            style=\"display:none;\">\n",
              "\n",
              "<svg xmlns=\"http://www.w3.org/2000/svg\" height=\"24px\"viewBox=\"0 0 24 24\"\n",
              "     width=\"24px\">\n",
              "    <g>\n",
              "        <path d=\"M19 3H5c-1.1 0-2 .9-2 2v14c0 1.1.9 2 2 2h14c1.1 0 2-.9 2-2V5c0-1.1-.9-2-2-2zM9 17H7v-7h2v7zm4 0h-2V7h2v10zm4 0h-2v-4h2v4z\"/>\n",
              "    </g>\n",
              "</svg>\n",
              "  </button>\n",
              "\n",
              "<style>\n",
              "  .colab-df-quickchart {\n",
              "      --bg-color: #E8F0FE;\n",
              "      --fill-color: #1967D2;\n",
              "      --hover-bg-color: #E2EBFA;\n",
              "      --hover-fill-color: #174EA6;\n",
              "      --disabled-fill-color: #AAA;\n",
              "      --disabled-bg-color: #DDD;\n",
              "  }\n",
              "\n",
              "  [theme=dark] .colab-df-quickchart {\n",
              "      --bg-color: #3B4455;\n",
              "      --fill-color: #D2E3FC;\n",
              "      --hover-bg-color: #434B5C;\n",
              "      --hover-fill-color: #FFFFFF;\n",
              "      --disabled-bg-color: #3B4455;\n",
              "      --disabled-fill-color: #666;\n",
              "  }\n",
              "\n",
              "  .colab-df-quickchart {\n",
              "    background-color: var(--bg-color);\n",
              "    border: none;\n",
              "    border-radius: 50%;\n",
              "    cursor: pointer;\n",
              "    display: none;\n",
              "    fill: var(--fill-color);\n",
              "    height: 32px;\n",
              "    padding: 0;\n",
              "    width: 32px;\n",
              "  }\n",
              "\n",
              "  .colab-df-quickchart:hover {\n",
              "    background-color: var(--hover-bg-color);\n",
              "    box-shadow: 0 1px 2px rgba(60, 64, 67, 0.3), 0 1px 3px 1px rgba(60, 64, 67, 0.15);\n",
              "    fill: var(--button-hover-fill-color);\n",
              "  }\n",
              "\n",
              "  .colab-df-quickchart-complete:disabled,\n",
              "  .colab-df-quickchart-complete:disabled:hover {\n",
              "    background-color: var(--disabled-bg-color);\n",
              "    fill: var(--disabled-fill-color);\n",
              "    box-shadow: none;\n",
              "  }\n",
              "\n",
              "  .colab-df-spinner {\n",
              "    border: 2px solid var(--fill-color);\n",
              "    border-color: transparent;\n",
              "    border-bottom-color: var(--fill-color);\n",
              "    animation:\n",
              "      spin 1s steps(1) infinite;\n",
              "  }\n",
              "\n",
              "  @keyframes spin {\n",
              "    0% {\n",
              "      border-color: transparent;\n",
              "      border-bottom-color: var(--fill-color);\n",
              "      border-left-color: var(--fill-color);\n",
              "    }\n",
              "    20% {\n",
              "      border-color: transparent;\n",
              "      border-left-color: var(--fill-color);\n",
              "      border-top-color: var(--fill-color);\n",
              "    }\n",
              "    30% {\n",
              "      border-color: transparent;\n",
              "      border-left-color: var(--fill-color);\n",
              "      border-top-color: var(--fill-color);\n",
              "      border-right-color: var(--fill-color);\n",
              "    }\n",
              "    40% {\n",
              "      border-color: transparent;\n",
              "      border-right-color: var(--fill-color);\n",
              "      border-top-color: var(--fill-color);\n",
              "    }\n",
              "    60% {\n",
              "      border-color: transparent;\n",
              "      border-right-color: var(--fill-color);\n",
              "    }\n",
              "    80% {\n",
              "      border-color: transparent;\n",
              "      border-right-color: var(--fill-color);\n",
              "      border-bottom-color: var(--fill-color);\n",
              "    }\n",
              "    90% {\n",
              "      border-color: transparent;\n",
              "      border-bottom-color: var(--fill-color);\n",
              "    }\n",
              "  }\n",
              "</style>\n",
              "\n",
              "  <script>\n",
              "    async function quickchart(key) {\n",
              "      const quickchartButtonEl =\n",
              "        document.querySelector('#' + key + ' button');\n",
              "      quickchartButtonEl.disabled = true;  // To prevent multiple clicks.\n",
              "      quickchartButtonEl.classList.add('colab-df-spinner');\n",
              "      try {\n",
              "        const charts = await google.colab.kernel.invokeFunction(\n",
              "            'suggestCharts', [key], {});\n",
              "      } catch (error) {\n",
              "        console.error('Error during call to suggestCharts:', error);\n",
              "      }\n",
              "      quickchartButtonEl.classList.remove('colab-df-spinner');\n",
              "      quickchartButtonEl.classList.add('colab-df-quickchart-complete');\n",
              "    }\n",
              "    (() => {\n",
              "      let quickchartButtonEl =\n",
              "        document.querySelector('#df-f3af9178-5675-4293-af30-511b7b5a445d button');\n",
              "      quickchartButtonEl.style.display =\n",
              "        google.colab.kernel.accessAllowed ? 'block' : 'none';\n",
              "    })();\n",
              "  </script>\n",
              "</div>\n",
              "\n",
              "    </div>\n",
              "  </div>\n"
            ],
            "application/vnd.google.colaboratory.intrinsic+json": {
              "type": "dataframe",
              "summary": "{\n  \"name\": \"X_train_std\",\n  \"rows\": 8,\n  \"fields\": [\n    {\n      \"column\": \"perc_premium_paid_by_cash_credit\",\n      \"properties\": {\n        \"dtype\": \"number\",\n        \"std\": 19762.497813971197,\n        \"min\": -0.9387685687121704,\n        \"max\": 55897.0,\n        \"num_unique_values\": 8,\n        \"samples\": [\n          1.7389528284520047e-16,\n          -0.43995044218626445,\n          55897.0\n        ],\n        \"semantic_type\": \"\",\n        \"description\": \"\"\n      }\n    },\n    {\n      \"column\": \"age_in_days\",\n      \"properties\": {\n        \"dtype\": \"number\",\n        \"std\": 19762.452072241897,\n        \"min\": -2.1405684284830917,\n        \"max\": 55897.0,\n        \"num_unique_values\": 8,\n        \"samples\": [\n          -1.0169314786269033e-16,\n          -0.03917330140540553,\n          55897.0\n        ],\n        \"semantic_type\": \"\",\n        \"description\": \"\"\n      }\n    },\n    {\n      \"column\": \"Income\",\n      \"properties\": {\n        \"dtype\": \"number\",\n        \"std\": 19753.138714719546,\n        \"min\": -0.3857647129207524,\n        \"max\": 55897.0,\n        \"num_unique_values\": 8,\n        \"samples\": [\n          -3.101641009812055e-17,\n          -0.08917958408151402,\n          55897.0\n        ],\n        \"semantic_type\": \"\",\n        \"description\": \"\"\n      }\n    },\n    {\n      \"column\": \"Count_3-6_months_late\",\n      \"properties\": {\n        \"dtype\": \"number\",\n        \"std\": 19761.663511506355,\n        \"min\": -0.35907666920389175,\n        \"max\": 55897.0,\n        \"num_unique_values\": 5,\n        \"samples\": [\n          -2.9491012880180194e-17,\n          18.481779098026173,\n          1.0000089451439054\n        ],\n        \"semantic_type\": \"\",\n        \"description\": \"\"\n      }\n    },\n    {\n      \"column\": \"Count_6-12_months_late\",\n      \"properties\": {\n        \"dtype\": \"number\",\n        \"std\": 19760.54649039542,\n        \"min\": -0.1819266444883233,\n        \"max\": 55897.0,\n        \"num_unique_values\": 5,\n        \"samples\": [\n          -1.6525136527687178e-17,\n          39.96568413079842,\n          1.0000089451439051\n        ],\n        \"semantic_type\": \"\",\n        \"description\": \"\"\n      }\n    },\n    {\n      \"column\": \"Count_more_than_12_months_late\",\n      \"properties\": {\n        \"dtype\": \"number\",\n        \"std\": 19760.817116072907,\n        \"min\": -0.19276520128771382,\n        \"max\": 55897.0,\n        \"num_unique_values\": 5,\n        \"samples\": [\n          5.084657393134516e-19,\n          34.62655354729417,\n          1.0000089451439051\n        ],\n        \"semantic_type\": \"\",\n        \"description\": \"\"\n      }\n    },\n    {\n      \"column\": \"application_underwriting_score\",\n      \"properties\": {\n        \"dtype\": \"number\",\n        \"std\": 19762.942851698892,\n        \"min\": -9.90698420966043,\n        \"max\": 55897.0,\n        \"num_unique_values\": 8,\n        \"samples\": [\n          -1.3751201686862643e-14,\n          0.19139659349445884,\n          55897.0\n        ],\n        \"semantic_type\": \"\",\n        \"description\": \"\"\n      }\n    },\n    {\n      \"column\": \"no_of_premiums_paid\",\n      \"properties\": {\n        \"dtype\": \"number\",\n        \"std\": 19762.145634877485,\n        \"min\": -1.7135793927754122,\n        \"max\": 55897.0,\n        \"num_unique_values\": 8,\n        \"samples\": [\n          2.4152122617388954e-17,\n          -0.16633431293933432,\n          55897.0\n        ],\n        \"semantic_type\": \"\",\n        \"description\": \"\"\n      }\n    }\n  ]\n}"
            }
          },
          "metadata": {},
          "execution_count": 17
        }
      ]
    },
    {
      "cell_type": "code",
      "source": [
        "X_train_std.columns"
      ],
      "metadata": {
        "id": "Mrgl__1vywyL",
        "colab": {
          "base_uri": "https://localhost:8080/"
        },
        "outputId": "6b22f050-ded1-4866-a974-1ad79aebf05f"
      },
      "execution_count": null,
      "outputs": [
        {
          "output_type": "execute_result",
          "data": {
            "text/plain": [
              "Index(['perc_premium_paid_by_cash_credit', 'age_in_days', 'Income',\n",
              "       'Count_3-6_months_late', 'Count_6-12_months_late',\n",
              "       'Count_more_than_12_months_late', 'application_underwriting_score',\n",
              "       'no_of_premiums_paid', 'sourcing_channel_A', 'sourcing_channel_B',\n",
              "       'sourcing_channel_C', 'sourcing_channel_D', 'sourcing_channel_E',\n",
              "       'residence_area_type_Rural', 'residence_area_type_Urban'],\n",
              "      dtype='object')"
            ]
          },
          "metadata": {},
          "execution_count": 19
        }
      ]
    },
    {
      "cell_type": "markdown",
      "source": [
        "# featre selection\n",
        "\n",
        "- PCA"
      ],
      "metadata": {
        "id": "PO6-GROR1EB8"
      }
    },
    {
      "cell_type": "code",
      "source": [
        "from sklearn.decomposition import PCA"
      ],
      "metadata": {
        "id": "J_X5Zx4Oz_a_"
      },
      "execution_count": null,
      "outputs": []
    },
    {
      "cell_type": "code",
      "source": [
        "pca = PCA(n_components = 0.99, random_state=7)"
      ],
      "metadata": {
        "id": "gSjSzY6f1Kg2"
      },
      "execution_count": null,
      "outputs": []
    },
    {
      "cell_type": "code",
      "source": [
        "pca.fit(X_train_std)"
      ],
      "metadata": {
        "colab": {
          "base_uri": "https://localhost:8080/",
          "height": 94
        },
        "id": "o6e0beB11MMP",
        "outputId": "9be42065-444c-4ce2-e5fb-e0cead208aa5"
      },
      "execution_count": null,
      "outputs": [
        {
          "output_type": "execute_result",
          "data": {
            "text/plain": [
              "PCA(n_components=0.99, random_state=7)"
            ],
            "text/html": [
              "<style>#sk-container-id-2 {color: black;background-color: white;}#sk-container-id-2 pre{padding: 0;}#sk-container-id-2 div.sk-toggleable {background-color: white;}#sk-container-id-2 label.sk-toggleable__label {cursor: pointer;display: block;width: 100%;margin-bottom: 0;padding: 0.3em;box-sizing: border-box;text-align: center;}#sk-container-id-2 label.sk-toggleable__label-arrow:before {content: \"▸\";float: left;margin-right: 0.25em;color: #696969;}#sk-container-id-2 label.sk-toggleable__label-arrow:hover:before {color: black;}#sk-container-id-2 div.sk-estimator:hover label.sk-toggleable__label-arrow:before {color: black;}#sk-container-id-2 div.sk-toggleable__content {max-height: 0;max-width: 0;overflow: hidden;text-align: left;background-color: #f0f8ff;}#sk-container-id-2 div.sk-toggleable__content pre {margin: 0.2em;color: black;border-radius: 0.25em;background-color: #f0f8ff;}#sk-container-id-2 input.sk-toggleable__control:checked~div.sk-toggleable__content {max-height: 200px;max-width: 100%;overflow: auto;}#sk-container-id-2 input.sk-toggleable__control:checked~label.sk-toggleable__label-arrow:before {content: \"▾\";}#sk-container-id-2 div.sk-estimator input.sk-toggleable__control:checked~label.sk-toggleable__label {background-color: #d4ebff;}#sk-container-id-2 div.sk-label input.sk-toggleable__control:checked~label.sk-toggleable__label {background-color: #d4ebff;}#sk-container-id-2 input.sk-hidden--visually {border: 0;clip: rect(1px 1px 1px 1px);clip: rect(1px, 1px, 1px, 1px);height: 1px;margin: -1px;overflow: hidden;padding: 0;position: absolute;width: 1px;}#sk-container-id-2 div.sk-estimator {font-family: monospace;background-color: #f0f8ff;border: 1px dotted black;border-radius: 0.25em;box-sizing: border-box;margin-bottom: 0.5em;}#sk-container-id-2 div.sk-estimator:hover {background-color: #d4ebff;}#sk-container-id-2 div.sk-parallel-item::after {content: \"\";width: 100%;border-bottom: 1px solid gray;flex-grow: 1;}#sk-container-id-2 div.sk-label:hover label.sk-toggleable__label {background-color: #d4ebff;}#sk-container-id-2 div.sk-serial::before {content: \"\";position: absolute;border-left: 1px solid gray;box-sizing: border-box;top: 0;bottom: 0;left: 50%;z-index: 0;}#sk-container-id-2 div.sk-serial {display: flex;flex-direction: column;align-items: center;background-color: white;padding-right: 0.2em;padding-left: 0.2em;position: relative;}#sk-container-id-2 div.sk-item {position: relative;z-index: 1;}#sk-container-id-2 div.sk-parallel {display: flex;align-items: stretch;justify-content: center;background-color: white;position: relative;}#sk-container-id-2 div.sk-item::before, #sk-container-id-2 div.sk-parallel-item::before {content: \"\";position: absolute;border-left: 1px solid gray;box-sizing: border-box;top: 0;bottom: 0;left: 50%;z-index: -1;}#sk-container-id-2 div.sk-parallel-item {display: flex;flex-direction: column;z-index: 1;position: relative;background-color: white;}#sk-container-id-2 div.sk-parallel-item:first-child::after {align-self: flex-end;width: 50%;}#sk-container-id-2 div.sk-parallel-item:last-child::after {align-self: flex-start;width: 50%;}#sk-container-id-2 div.sk-parallel-item:only-child::after {width: 0;}#sk-container-id-2 div.sk-dashed-wrapped {border: 1px dashed gray;margin: 0 0.4em 0.5em 0.4em;box-sizing: border-box;padding-bottom: 0.4em;background-color: white;}#sk-container-id-2 div.sk-label label {font-family: monospace;font-weight: bold;display: inline-block;line-height: 1.2em;}#sk-container-id-2 div.sk-label-container {text-align: center;}#sk-container-id-2 div.sk-container {/* jupyter's `normalize.less` sets `[hidden] { display: none; }` but bootstrap.min.css set `[hidden] { display: none !important; }` so we also need the `!important` here to be able to override the default hidden behavior on the sphinx rendered scikit-learn.org. See: https://github.com/scikit-learn/scikit-learn/issues/21755 */display: inline-block !important;position: relative;}#sk-container-id-2 div.sk-text-repr-fallback {display: none;}</style><div id=\"sk-container-id-2\" class=\"sk-top-container\"><div class=\"sk-text-repr-fallback\"><pre>PCA(n_components=0.99, random_state=7)</pre><b>In a Jupyter environment, please rerun this cell to show the HTML representation or trust the notebook. <br />On GitHub, the HTML representation is unable to render, please try loading this page with nbviewer.org.</b></div><div class=\"sk-container\" hidden><div class=\"sk-item\"><div class=\"sk-estimator sk-toggleable\"><input class=\"sk-toggleable__control sk-hidden--visually\" id=\"sk-estimator-id-2\" type=\"checkbox\" checked><label for=\"sk-estimator-id-2\" class=\"sk-toggleable__label sk-toggleable__label-arrow\">PCA</label><div class=\"sk-toggleable__content\"><pre>PCA(n_components=0.99, random_state=7)</pre></div></div></div></div></div>"
            ]
          },
          "metadata": {},
          "execution_count": 22
        }
      ]
    },
    {
      "cell_type": "code",
      "source": [
        "pca.n_components_"
      ],
      "metadata": {
        "colab": {
          "base_uri": "https://localhost:8080/"
        },
        "id": "wDRVsquA1P_5",
        "outputId": "f47f4e70-94af-4759-8c85-7cdff0e1680b"
      },
      "execution_count": null,
      "outputs": [
        {
          "output_type": "execute_result",
          "data": {
            "text/plain": [
              "12"
            ]
          },
          "metadata": {},
          "execution_count": 23
        }
      ]
    },
    {
      "cell_type": "code",
      "source": [
        "X_train_pca = pca.transform(X_train_std)"
      ],
      "metadata": {
        "id": "uRrDoVYd1TZf"
      },
      "execution_count": null,
      "outputs": []
    },
    {
      "cell_type": "code",
      "source": [
        "X_train_pca.shape"
      ],
      "metadata": {
        "colab": {
          "base_uri": "https://localhost:8080/"
        },
        "id": "k8vJY2i01bHk",
        "outputId": "b20e396a-ee72-4f51-8439-a810eddc7000"
      },
      "execution_count": null,
      "outputs": [
        {
          "output_type": "execute_result",
          "data": {
            "text/plain": [
              "(55897, 12)"
            ]
          },
          "metadata": {},
          "execution_count": 25
        }
      ]
    },
    {
      "cell_type": "markdown",
      "source": [
        "# Preprocessing and feature selection of test data"
      ],
      "metadata": {
        "id": "KVhqcSEO2EQW"
      }
    },
    {
      "cell_type": "code",
      "source": [
        "X_test.shape"
      ],
      "metadata": {
        "colab": {
          "base_uri": "https://localhost:8080/"
        },
        "id": "TVbSSOuL1cgk",
        "outputId": "a97049f6-de7b-4f37-c0f9-8eb690b08331"
      },
      "execution_count": null,
      "outputs": [
        {
          "output_type": "execute_result",
          "data": {
            "text/plain": [
              "(23956, 11)"
            ]
          },
          "metadata": {},
          "execution_count": 26
        }
      ]
    },
    {
      "cell_type": "code",
      "source": [
        "X_test.drop(drop_columns, axis=1,inplace=True)"
      ],
      "metadata": {
        "id": "s6IYbEnl2J8Y"
      },
      "execution_count": null,
      "outputs": []
    },
    {
      "cell_type": "code",
      "source": [
        "X_test.fillna(fill_value, inplace=True)"
      ],
      "metadata": {
        "id": "r38olZIA2SHp"
      },
      "execution_count": null,
      "outputs": []
    },
    {
      "cell_type": "code",
      "source": [
        "X_test_ohe = pd.get_dummies(X_test)"
      ],
      "metadata": {
        "id": "zpHJppyE2SdC"
      },
      "execution_count": null,
      "outputs": []
    },
    {
      "cell_type": "code",
      "source": [
        "X_test_ohe.shape, X_test.shape"
      ],
      "metadata": {
        "colab": {
          "base_uri": "https://localhost:8080/"
        },
        "id": "XOg-EiIk2T24",
        "outputId": "b1280a8a-3fd5-45e2-e88e-dacb7b35e79d"
      },
      "execution_count": null,
      "outputs": [
        {
          "output_type": "execute_result",
          "data": {
            "text/plain": [
              "((23956, 15), (23956, 10))"
            ]
          },
          "metadata": {},
          "execution_count": 30
        }
      ]
    },
    {
      "cell_type": "code",
      "source": [
        "X_test_ohe.loc[:, numeric_columns] = sd.transform(X_test_ohe.loc[:, numeric_columns])"
      ],
      "metadata": {
        "id": "n-qCQiw-2VQp"
      },
      "execution_count": null,
      "outputs": []
    },
    {
      "cell_type": "code",
      "source": [
        "X_test_pca = pca.transform(X_test_ohe)"
      ],
      "metadata": {
        "id": "PojGkJ4S2X64"
      },
      "execution_count": null,
      "outputs": []
    },
    {
      "cell_type": "code",
      "source": [
        "X_test_pca.shape"
      ],
      "metadata": {
        "colab": {
          "base_uri": "https://localhost:8080/"
        },
        "id": "Qi3GmCup2gNG",
        "outputId": "c83f9923-18f1-49a4-f5a8-676310b3d971"
      },
      "execution_count": null,
      "outputs": [
        {
          "output_type": "execute_result",
          "data": {
            "text/plain": [
              "(23956, 12)"
            ]
          },
          "metadata": {},
          "execution_count": 35
        }
      ]
    },
    {
      "cell_type": "markdown",
      "source": [
        "# Classification\n",
        "\n",
        "- svm\n",
        "\n",
        "- Logistic regression\n",
        "\n",
        "- Random forest"
      ],
      "metadata": {
        "id": "Q5jfREAh8wTJ"
      }
    },
    {
      "cell_type": "code",
      "source": [
        "from sklearn.ensemble import RandomForestClassifier"
      ],
      "metadata": {
        "id": "da0aua4z84s0"
      },
      "execution_count": null,
      "outputs": []
    },
    {
      "cell_type": "code",
      "source": [
        "rfc = RandomForestClassifier(n_estimators = 200,\n",
        "                       max_samples= 0.6,#%of data take for bootstrap\n",
        "                        max_depth = 4,\n",
        "                        oob_score=True,\n",
        "                        class_weight='balanced',\n",
        "                        random_state=7)"
      ],
      "metadata": {
        "id": "jOhNyu6m2haL"
      },
      "execution_count": null,
      "outputs": []
    },
    {
      "cell_type": "code",
      "source": [
        "rfc.fit(X_train_pca,y_train)"
      ],
      "metadata": {
        "colab": {
          "base_uri": "https://localhost:8080/",
          "height": 111
        },
        "id": "-1K7CFg686BI",
        "outputId": "26aa6b38-0a19-4ee9-cd0b-14cc54291d8f"
      },
      "execution_count": null,
      "outputs": [
        {
          "output_type": "execute_result",
          "data": {
            "text/plain": [
              "RandomForestClassifier(class_weight='balanced', max_depth=4, max_samples=0.6,\n",
              "                       n_estimators=200, oob_score=True, random_state=7)"
            ],
            "text/html": [
              "<style>#sk-container-id-3 {color: black;background-color: white;}#sk-container-id-3 pre{padding: 0;}#sk-container-id-3 div.sk-toggleable {background-color: white;}#sk-container-id-3 label.sk-toggleable__label {cursor: pointer;display: block;width: 100%;margin-bottom: 0;padding: 0.3em;box-sizing: border-box;text-align: center;}#sk-container-id-3 label.sk-toggleable__label-arrow:before {content: \"▸\";float: left;margin-right: 0.25em;color: #696969;}#sk-container-id-3 label.sk-toggleable__label-arrow:hover:before {color: black;}#sk-container-id-3 div.sk-estimator:hover label.sk-toggleable__label-arrow:before {color: black;}#sk-container-id-3 div.sk-toggleable__content {max-height: 0;max-width: 0;overflow: hidden;text-align: left;background-color: #f0f8ff;}#sk-container-id-3 div.sk-toggleable__content pre {margin: 0.2em;color: black;border-radius: 0.25em;background-color: #f0f8ff;}#sk-container-id-3 input.sk-toggleable__control:checked~div.sk-toggleable__content {max-height: 200px;max-width: 100%;overflow: auto;}#sk-container-id-3 input.sk-toggleable__control:checked~label.sk-toggleable__label-arrow:before {content: \"▾\";}#sk-container-id-3 div.sk-estimator input.sk-toggleable__control:checked~label.sk-toggleable__label {background-color: #d4ebff;}#sk-container-id-3 div.sk-label input.sk-toggleable__control:checked~label.sk-toggleable__label {background-color: #d4ebff;}#sk-container-id-3 input.sk-hidden--visually {border: 0;clip: rect(1px 1px 1px 1px);clip: rect(1px, 1px, 1px, 1px);height: 1px;margin: -1px;overflow: hidden;padding: 0;position: absolute;width: 1px;}#sk-container-id-3 div.sk-estimator {font-family: monospace;background-color: #f0f8ff;border: 1px dotted black;border-radius: 0.25em;box-sizing: border-box;margin-bottom: 0.5em;}#sk-container-id-3 div.sk-estimator:hover {background-color: #d4ebff;}#sk-container-id-3 div.sk-parallel-item::after {content: \"\";width: 100%;border-bottom: 1px solid gray;flex-grow: 1;}#sk-container-id-3 div.sk-label:hover label.sk-toggleable__label {background-color: #d4ebff;}#sk-container-id-3 div.sk-serial::before {content: \"\";position: absolute;border-left: 1px solid gray;box-sizing: border-box;top: 0;bottom: 0;left: 50%;z-index: 0;}#sk-container-id-3 div.sk-serial {display: flex;flex-direction: column;align-items: center;background-color: white;padding-right: 0.2em;padding-left: 0.2em;position: relative;}#sk-container-id-3 div.sk-item {position: relative;z-index: 1;}#sk-container-id-3 div.sk-parallel {display: flex;align-items: stretch;justify-content: center;background-color: white;position: relative;}#sk-container-id-3 div.sk-item::before, #sk-container-id-3 div.sk-parallel-item::before {content: \"\";position: absolute;border-left: 1px solid gray;box-sizing: border-box;top: 0;bottom: 0;left: 50%;z-index: -1;}#sk-container-id-3 div.sk-parallel-item {display: flex;flex-direction: column;z-index: 1;position: relative;background-color: white;}#sk-container-id-3 div.sk-parallel-item:first-child::after {align-self: flex-end;width: 50%;}#sk-container-id-3 div.sk-parallel-item:last-child::after {align-self: flex-start;width: 50%;}#sk-container-id-3 div.sk-parallel-item:only-child::after {width: 0;}#sk-container-id-3 div.sk-dashed-wrapped {border: 1px dashed gray;margin: 0 0.4em 0.5em 0.4em;box-sizing: border-box;padding-bottom: 0.4em;background-color: white;}#sk-container-id-3 div.sk-label label {font-family: monospace;font-weight: bold;display: inline-block;line-height: 1.2em;}#sk-container-id-3 div.sk-label-container {text-align: center;}#sk-container-id-3 div.sk-container {/* jupyter's `normalize.less` sets `[hidden] { display: none; }` but bootstrap.min.css set `[hidden] { display: none !important; }` so we also need the `!important` here to be able to override the default hidden behavior on the sphinx rendered scikit-learn.org. See: https://github.com/scikit-learn/scikit-learn/issues/21755 */display: inline-block !important;position: relative;}#sk-container-id-3 div.sk-text-repr-fallback {display: none;}</style><div id=\"sk-container-id-3\" class=\"sk-top-container\"><div class=\"sk-text-repr-fallback\"><pre>RandomForestClassifier(class_weight=&#x27;balanced&#x27;, max_depth=4, max_samples=0.6,\n",
              "                       n_estimators=200, oob_score=True, random_state=7)</pre><b>In a Jupyter environment, please rerun this cell to show the HTML representation or trust the notebook. <br />On GitHub, the HTML representation is unable to render, please try loading this page with nbviewer.org.</b></div><div class=\"sk-container\" hidden><div class=\"sk-item\"><div class=\"sk-estimator sk-toggleable\"><input class=\"sk-toggleable__control sk-hidden--visually\" id=\"sk-estimator-id-3\" type=\"checkbox\" checked><label for=\"sk-estimator-id-3\" class=\"sk-toggleable__label sk-toggleable__label-arrow\">RandomForestClassifier</label><div class=\"sk-toggleable__content\"><pre>RandomForestClassifier(class_weight=&#x27;balanced&#x27;, max_depth=4, max_samples=0.6,\n",
              "                       n_estimators=200, oob_score=True, random_state=7)</pre></div></div></div></div></div>"
            ]
          },
          "metadata": {},
          "execution_count": 38
        }
      ]
    },
    {
      "cell_type": "code",
      "source": [
        "y_pred= rfc.predict(X_test_pca)"
      ],
      "metadata": {
        "id": "alRrfU5x881b"
      },
      "execution_count": null,
      "outputs": []
    },
    {
      "cell_type": "code",
      "source": [
        "from sklearn.metrics import f1_score\n",
        "f1_score(y_test, y_pred)"
      ],
      "metadata": {
        "colab": {
          "base_uri": "https://localhost:8080/"
        },
        "id": "wTjCTcwy9Ab2",
        "outputId": "f652864f-5cf2-4eb8-b6a7-47411c9f04be"
      },
      "execution_count": null,
      "outputs": [
        {
          "output_type": "execute_result",
          "data": {
            "text/plain": [
              "0.8577289670527606"
            ]
          },
          "metadata": {},
          "execution_count": 44
        }
      ]
    },
    {
      "cell_type": "code",
      "source": [
        "from sklearn.metrics import classification_report\n",
        "print(classification_report(y_test,y_pred))"
      ],
      "metadata": {
        "colab": {
          "base_uri": "https://localhost:8080/"
        },
        "id": "Xov9kqCj9GVX",
        "outputId": "5c79d7f8-24f1-4825-c122-a3f0132143f2"
      },
      "execution_count": null,
      "outputs": [
        {
          "output_type": "stream",
          "name": "stdout",
          "text": [
            "              precision    recall  f1-score   support\n",
            "\n",
            "           0       0.17      0.75      0.28      1500\n",
            "           1       0.98      0.76      0.86     22456\n",
            "\n",
            "    accuracy                           0.76     23956\n",
            "   macro avg       0.58      0.76      0.57     23956\n",
            "weighted avg       0.93      0.76      0.82     23956\n",
            "\n"
          ]
        }
      ]
    },
    {
      "cell_type": "code",
      "source": [],
      "metadata": {
        "id": "q3XA3xhk9LPp"
      },
      "execution_count": null,
      "outputs": []
    }
  ]
}