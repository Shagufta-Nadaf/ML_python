{
  "nbformat": 4,
  "nbformat_minor": 0,
  "metadata": {
    "colab": {
      "provenance": []
    },
    "kernelspec": {
      "name": "python3",
      "display_name": "Python 3"
    }
  },
  "cells": [
    {
      "cell_type": "markdown",
      "metadata": {
        "id": "oPb5eqE0yCJt"
      },
      "source": [
        "### Type of Models\n",
        "\n",
        "sequential vs Functional\n",
        "\n",
        "### Type of Layer\n",
        "\n",
        "Desnse\n",
        "\n",
        "Dropout\n",
        "\n",
        "Conv 2D\n",
        "\n",
        "Flattern\n",
        "\n",
        "MaxPooling\n",
        "\n",
        "ZeroPadding\n",
        "\n",
        "SimpleRNN\n",
        "\n",
        "batch Normalization\n",
        "\n",
        "\n",
        "\n"
      ]
    },
    {
      "cell_type": "code",
      "metadata": {
        "id": "HrjhCn8Kp_fn"
      },
      "source": [
        "from pandas import read_csv\n",
        "import pandas as pd\n",
        "from sklearn.model_selection import train_test_split\n",
        "from sklearn.preprocessing import LabelEncoder\n",
        "from tensorflow.keras import Sequential\n",
        "from tensorflow.keras.layers import Dense, Dropout"
      ],
      "execution_count": null,
      "outputs": []
    },
    {
      "cell_type": "code",
      "metadata": {
        "id": "gKB_e4w_qmgc"
      },
      "source": [
        "path = '/content/lung_data.csv'\n",
        "df = read_csv(path)"
      ],
      "execution_count": null,
      "outputs": []
    },
    {
      "cell_type": "code",
      "source": [
        "df.shape"
      ],
      "metadata": {
        "colab": {
          "base_uri": "https://localhost:8080/"
        },
        "id": "tX5d1MtYdZE-",
        "outputId": "f3dcadfe-54f1-4077-a0c8-f691ad35420e"
      },
      "execution_count": null,
      "outputs": [
        {
          "output_type": "execute_result",
          "data": {
            "text/plain": [
              "(324, 35)"
            ]
          },
          "metadata": {},
          "execution_count": 14
        }
      ]
    },
    {
      "cell_type": "code",
      "metadata": {
        "id": "3oriJK82PxlW",
        "colab": {
          "base_uri": "https://localhost:8080/",
          "height": 402
        },
        "outputId": "ac0fb81b-d9a1-43ef-95f3-4b28625a15c7"
      },
      "source": [
        "df.describe()"
      ],
      "execution_count": null,
      "outputs": [
        {
          "output_type": "execute_result",
          "data": {
            "text/plain": [
              "              age      gender        city  asbestos exposure  type of MM  \\\n",
              "count  324.000000  324.000000  324.000000         324.000000  324.000000   \n",
              "mean    54.743827    0.586420    2.530864           0.864198    0.052469   \n",
              "std     11.002637    0.493237    2.429623           0.343109    0.261622   \n",
              "min     19.000000    0.000000    0.000000           0.000000    0.000000   \n",
              "25%     47.000000    0.000000    0.000000           1.000000    0.000000   \n",
              "50%     55.000000    1.000000    2.000000           1.000000    0.000000   \n",
              "75%     63.000000    1.000000    5.000000           1.000000    0.000000   \n",
              "max     85.000000    1.000000    8.000000           1.000000    2.000000   \n",
              "\n",
              "       duration of asbestos exposure  diagnosis method   keep side  \\\n",
              "count                     324.000000        324.000000  324.000000   \n",
              "mean                       30.188272          0.703704    0.759259   \n",
              "std                        16.419945          0.457330    0.565308   \n",
              "min                         0.000000          0.000000    0.000000   \n",
              "25%                        19.750000          0.000000    0.000000   \n",
              "50%                        34.000000          1.000000    1.000000   \n",
              "75%                        43.000000          1.000000    1.000000   \n",
              "max                        70.000000          1.000000    2.000000   \n",
              "\n",
              "         cytology  duration of symptoms  ...  pleural lactic dehydrogenise  \\\n",
              "count  324.000000            324.000000  ...                    324.000000   \n",
              "mean     0.280864              5.442901  ...                    518.472222   \n",
              "std      0.450116              4.717792  ...                    536.279128   \n",
              "min      0.000000              0.500000  ...                    110.000000   \n",
              "25%      0.000000              2.875000  ...                    322.000000   \n",
              "50%      0.000000              5.000000  ...                    510.000000   \n",
              "75%      1.000000              7.000000  ...                    545.000000   \n",
              "max      1.000000             52.000000  ...                   7541.000000   \n",
              "\n",
              "       pleural protein  pleural albumin  pleural glucose  dead or not  \\\n",
              "count       324.000000       324.000000       324.000000   324.000000   \n",
              "mean          3.937562         2.076883        48.444444     0.944444   \n",
              "std           1.575008         0.915411        27.232516     0.229416   \n",
              "min           0.000000         0.000000         2.000000     0.000000   \n",
              "25%           3.400000         1.607500        29.000000     1.000000   \n",
              "50%           4.200000         2.200000        38.000000     1.000000   \n",
              "75%           4.925000         2.725000        75.000000     1.000000   \n",
              "max           6.700000         4.400000       151.000000     1.000000   \n",
              "\n",
              "       pleural effusion  pleural thickness on tomography  \\\n",
              "count        324.000000                       324.000000   \n",
              "mean           0.870370                         0.595679   \n",
              "std            0.336415                         0.491519   \n",
              "min            0.000000                         0.000000   \n",
              "25%            1.000000                         0.000000   \n",
              "50%            1.000000                         1.000000   \n",
              "75%            1.000000                         1.000000   \n",
              "max            1.000000                         1.000000   \n",
              "\n",
              "       pleural level of acidity (pH)  C-reactive protein (CRP)  \\\n",
              "count                     324.000000                324.000000   \n",
              "mean                        0.521605                 64.188272   \n",
              "std                         0.500306                 22.661837   \n",
              "min                         0.000000                 11.000000   \n",
              "25%                         0.000000                 42.000000   \n",
              "50%                         1.000000                 68.000000   \n",
              "75%                         1.000000                 79.000000   \n",
              "max                         1.000000                103.000000   \n",
              "\n",
              "       class of diagnosis  \n",
              "count          324.000000  \n",
              "mean             1.296296  \n",
              "std              0.457330  \n",
              "min              1.000000  \n",
              "25%              1.000000  \n",
              "50%              1.000000  \n",
              "75%              2.000000  \n",
              "max              2.000000  \n",
              "\n",
              "[8 rows x 35 columns]"
            ],
            "text/html": [
              "\n",
              "  <div id=\"df-3c717745-9045-46e3-9d30-2eea88821028\" class=\"colab-df-container\">\n",
              "    <div>\n",
              "<style scoped>\n",
              "    .dataframe tbody tr th:only-of-type {\n",
              "        vertical-align: middle;\n",
              "    }\n",
              "\n",
              "    .dataframe tbody tr th {\n",
              "        vertical-align: top;\n",
              "    }\n",
              "\n",
              "    .dataframe thead th {\n",
              "        text-align: right;\n",
              "    }\n",
              "</style>\n",
              "<table border=\"1\" class=\"dataframe\">\n",
              "  <thead>\n",
              "    <tr style=\"text-align: right;\">\n",
              "      <th></th>\n",
              "      <th>age</th>\n",
              "      <th>gender</th>\n",
              "      <th>city</th>\n",
              "      <th>asbestos exposure</th>\n",
              "      <th>type of MM</th>\n",
              "      <th>duration of asbestos exposure</th>\n",
              "      <th>diagnosis method</th>\n",
              "      <th>keep side</th>\n",
              "      <th>cytology</th>\n",
              "      <th>duration of symptoms</th>\n",
              "      <th>...</th>\n",
              "      <th>pleural lactic dehydrogenise</th>\n",
              "      <th>pleural protein</th>\n",
              "      <th>pleural albumin</th>\n",
              "      <th>pleural glucose</th>\n",
              "      <th>dead or not</th>\n",
              "      <th>pleural effusion</th>\n",
              "      <th>pleural thickness on tomography</th>\n",
              "      <th>pleural level of acidity (pH)</th>\n",
              "      <th>C-reactive protein (CRP)</th>\n",
              "      <th>class of diagnosis</th>\n",
              "    </tr>\n",
              "  </thead>\n",
              "  <tbody>\n",
              "    <tr>\n",
              "      <th>count</th>\n",
              "      <td>324.000000</td>\n",
              "      <td>324.000000</td>\n",
              "      <td>324.000000</td>\n",
              "      <td>324.000000</td>\n",
              "      <td>324.000000</td>\n",
              "      <td>324.000000</td>\n",
              "      <td>324.000000</td>\n",
              "      <td>324.000000</td>\n",
              "      <td>324.000000</td>\n",
              "      <td>324.000000</td>\n",
              "      <td>...</td>\n",
              "      <td>324.000000</td>\n",
              "      <td>324.000000</td>\n",
              "      <td>324.000000</td>\n",
              "      <td>324.000000</td>\n",
              "      <td>324.000000</td>\n",
              "      <td>324.000000</td>\n",
              "      <td>324.000000</td>\n",
              "      <td>324.000000</td>\n",
              "      <td>324.000000</td>\n",
              "      <td>324.000000</td>\n",
              "    </tr>\n",
              "    <tr>\n",
              "      <th>mean</th>\n",
              "      <td>54.743827</td>\n",
              "      <td>0.586420</td>\n",
              "      <td>2.530864</td>\n",
              "      <td>0.864198</td>\n",
              "      <td>0.052469</td>\n",
              "      <td>30.188272</td>\n",
              "      <td>0.703704</td>\n",
              "      <td>0.759259</td>\n",
              "      <td>0.280864</td>\n",
              "      <td>5.442901</td>\n",
              "      <td>...</td>\n",
              "      <td>518.472222</td>\n",
              "      <td>3.937562</td>\n",
              "      <td>2.076883</td>\n",
              "      <td>48.444444</td>\n",
              "      <td>0.944444</td>\n",
              "      <td>0.870370</td>\n",
              "      <td>0.595679</td>\n",
              "      <td>0.521605</td>\n",
              "      <td>64.188272</td>\n",
              "      <td>1.296296</td>\n",
              "    </tr>\n",
              "    <tr>\n",
              "      <th>std</th>\n",
              "      <td>11.002637</td>\n",
              "      <td>0.493237</td>\n",
              "      <td>2.429623</td>\n",
              "      <td>0.343109</td>\n",
              "      <td>0.261622</td>\n",
              "      <td>16.419945</td>\n",
              "      <td>0.457330</td>\n",
              "      <td>0.565308</td>\n",
              "      <td>0.450116</td>\n",
              "      <td>4.717792</td>\n",
              "      <td>...</td>\n",
              "      <td>536.279128</td>\n",
              "      <td>1.575008</td>\n",
              "      <td>0.915411</td>\n",
              "      <td>27.232516</td>\n",
              "      <td>0.229416</td>\n",
              "      <td>0.336415</td>\n",
              "      <td>0.491519</td>\n",
              "      <td>0.500306</td>\n",
              "      <td>22.661837</td>\n",
              "      <td>0.457330</td>\n",
              "    </tr>\n",
              "    <tr>\n",
              "      <th>min</th>\n",
              "      <td>19.000000</td>\n",
              "      <td>0.000000</td>\n",
              "      <td>0.000000</td>\n",
              "      <td>0.000000</td>\n",
              "      <td>0.000000</td>\n",
              "      <td>0.000000</td>\n",
              "      <td>0.000000</td>\n",
              "      <td>0.000000</td>\n",
              "      <td>0.000000</td>\n",
              "      <td>0.500000</td>\n",
              "      <td>...</td>\n",
              "      <td>110.000000</td>\n",
              "      <td>0.000000</td>\n",
              "      <td>0.000000</td>\n",
              "      <td>2.000000</td>\n",
              "      <td>0.000000</td>\n",
              "      <td>0.000000</td>\n",
              "      <td>0.000000</td>\n",
              "      <td>0.000000</td>\n",
              "      <td>11.000000</td>\n",
              "      <td>1.000000</td>\n",
              "    </tr>\n",
              "    <tr>\n",
              "      <th>25%</th>\n",
              "      <td>47.000000</td>\n",
              "      <td>0.000000</td>\n",
              "      <td>0.000000</td>\n",
              "      <td>1.000000</td>\n",
              "      <td>0.000000</td>\n",
              "      <td>19.750000</td>\n",
              "      <td>0.000000</td>\n",
              "      <td>0.000000</td>\n",
              "      <td>0.000000</td>\n",
              "      <td>2.875000</td>\n",
              "      <td>...</td>\n",
              "      <td>322.000000</td>\n",
              "      <td>3.400000</td>\n",
              "      <td>1.607500</td>\n",
              "      <td>29.000000</td>\n",
              "      <td>1.000000</td>\n",
              "      <td>1.000000</td>\n",
              "      <td>0.000000</td>\n",
              "      <td>0.000000</td>\n",
              "      <td>42.000000</td>\n",
              "      <td>1.000000</td>\n",
              "    </tr>\n",
              "    <tr>\n",
              "      <th>50%</th>\n",
              "      <td>55.000000</td>\n",
              "      <td>1.000000</td>\n",
              "      <td>2.000000</td>\n",
              "      <td>1.000000</td>\n",
              "      <td>0.000000</td>\n",
              "      <td>34.000000</td>\n",
              "      <td>1.000000</td>\n",
              "      <td>1.000000</td>\n",
              "      <td>0.000000</td>\n",
              "      <td>5.000000</td>\n",
              "      <td>...</td>\n",
              "      <td>510.000000</td>\n",
              "      <td>4.200000</td>\n",
              "      <td>2.200000</td>\n",
              "      <td>38.000000</td>\n",
              "      <td>1.000000</td>\n",
              "      <td>1.000000</td>\n",
              "      <td>1.000000</td>\n",
              "      <td>1.000000</td>\n",
              "      <td>68.000000</td>\n",
              "      <td>1.000000</td>\n",
              "    </tr>\n",
              "    <tr>\n",
              "      <th>75%</th>\n",
              "      <td>63.000000</td>\n",
              "      <td>1.000000</td>\n",
              "      <td>5.000000</td>\n",
              "      <td>1.000000</td>\n",
              "      <td>0.000000</td>\n",
              "      <td>43.000000</td>\n",
              "      <td>1.000000</td>\n",
              "      <td>1.000000</td>\n",
              "      <td>1.000000</td>\n",
              "      <td>7.000000</td>\n",
              "      <td>...</td>\n",
              "      <td>545.000000</td>\n",
              "      <td>4.925000</td>\n",
              "      <td>2.725000</td>\n",
              "      <td>75.000000</td>\n",
              "      <td>1.000000</td>\n",
              "      <td>1.000000</td>\n",
              "      <td>1.000000</td>\n",
              "      <td>1.000000</td>\n",
              "      <td>79.000000</td>\n",
              "      <td>2.000000</td>\n",
              "    </tr>\n",
              "    <tr>\n",
              "      <th>max</th>\n",
              "      <td>85.000000</td>\n",
              "      <td>1.000000</td>\n",
              "      <td>8.000000</td>\n",
              "      <td>1.000000</td>\n",
              "      <td>2.000000</td>\n",
              "      <td>70.000000</td>\n",
              "      <td>1.000000</td>\n",
              "      <td>2.000000</td>\n",
              "      <td>1.000000</td>\n",
              "      <td>52.000000</td>\n",
              "      <td>...</td>\n",
              "      <td>7541.000000</td>\n",
              "      <td>6.700000</td>\n",
              "      <td>4.400000</td>\n",
              "      <td>151.000000</td>\n",
              "      <td>1.000000</td>\n",
              "      <td>1.000000</td>\n",
              "      <td>1.000000</td>\n",
              "      <td>1.000000</td>\n",
              "      <td>103.000000</td>\n",
              "      <td>2.000000</td>\n",
              "    </tr>\n",
              "  </tbody>\n",
              "</table>\n",
              "<p>8 rows × 35 columns</p>\n",
              "</div>\n",
              "    <div class=\"colab-df-buttons\">\n",
              "\n",
              "  <div class=\"colab-df-container\">\n",
              "    <button class=\"colab-df-convert\" onclick=\"convertToInteractive('df-3c717745-9045-46e3-9d30-2eea88821028')\"\n",
              "            title=\"Convert this dataframe to an interactive table.\"\n",
              "            style=\"display:none;\">\n",
              "\n",
              "  <svg xmlns=\"http://www.w3.org/2000/svg\" height=\"24px\" viewBox=\"0 -960 960 960\">\n",
              "    <path d=\"M120-120v-720h720v720H120Zm60-500h600v-160H180v160Zm220 220h160v-160H400v160Zm0 220h160v-160H400v160ZM180-400h160v-160H180v160Zm440 0h160v-160H620v160ZM180-180h160v-160H180v160Zm440 0h160v-160H620v160Z\"/>\n",
              "  </svg>\n",
              "    </button>\n",
              "\n",
              "  <style>\n",
              "    .colab-df-container {\n",
              "      display:flex;\n",
              "      gap: 12px;\n",
              "    }\n",
              "\n",
              "    .colab-df-convert {\n",
              "      background-color: #E8F0FE;\n",
              "      border: none;\n",
              "      border-radius: 50%;\n",
              "      cursor: pointer;\n",
              "      display: none;\n",
              "      fill: #1967D2;\n",
              "      height: 32px;\n",
              "      padding: 0 0 0 0;\n",
              "      width: 32px;\n",
              "    }\n",
              "\n",
              "    .colab-df-convert:hover {\n",
              "      background-color: #E2EBFA;\n",
              "      box-shadow: 0px 1px 2px rgba(60, 64, 67, 0.3), 0px 1px 3px 1px rgba(60, 64, 67, 0.15);\n",
              "      fill: #174EA6;\n",
              "    }\n",
              "\n",
              "    .colab-df-buttons div {\n",
              "      margin-bottom: 4px;\n",
              "    }\n",
              "\n",
              "    [theme=dark] .colab-df-convert {\n",
              "      background-color: #3B4455;\n",
              "      fill: #D2E3FC;\n",
              "    }\n",
              "\n",
              "    [theme=dark] .colab-df-convert:hover {\n",
              "      background-color: #434B5C;\n",
              "      box-shadow: 0px 1px 3px 1px rgba(0, 0, 0, 0.15);\n",
              "      filter: drop-shadow(0px 1px 2px rgba(0, 0, 0, 0.3));\n",
              "      fill: #FFFFFF;\n",
              "    }\n",
              "  </style>\n",
              "\n",
              "    <script>\n",
              "      const buttonEl =\n",
              "        document.querySelector('#df-3c717745-9045-46e3-9d30-2eea88821028 button.colab-df-convert');\n",
              "      buttonEl.style.display =\n",
              "        google.colab.kernel.accessAllowed ? 'block' : 'none';\n",
              "\n",
              "      async function convertToInteractive(key) {\n",
              "        const element = document.querySelector('#df-3c717745-9045-46e3-9d30-2eea88821028');\n",
              "        const dataTable =\n",
              "          await google.colab.kernel.invokeFunction('convertToInteractive',\n",
              "                                                    [key], {});\n",
              "        if (!dataTable) return;\n",
              "\n",
              "        const docLinkHtml = 'Like what you see? Visit the ' +\n",
              "          '<a target=\"_blank\" href=https://colab.research.google.com/notebooks/data_table.ipynb>data table notebook</a>'\n",
              "          + ' to learn more about interactive tables.';\n",
              "        element.innerHTML = '';\n",
              "        dataTable['output_type'] = 'display_data';\n",
              "        await google.colab.output.renderOutput(dataTable, element);\n",
              "        const docLink = document.createElement('div');\n",
              "        docLink.innerHTML = docLinkHtml;\n",
              "        element.appendChild(docLink);\n",
              "      }\n",
              "    </script>\n",
              "  </div>\n",
              "\n",
              "\n",
              "<div id=\"df-62e57d46-70cb-40bc-9864-24af6cfae4c7\">\n",
              "  <button class=\"colab-df-quickchart\" onclick=\"quickchart('df-62e57d46-70cb-40bc-9864-24af6cfae4c7')\"\n",
              "            title=\"Suggest charts\"\n",
              "            style=\"display:none;\">\n",
              "\n",
              "<svg xmlns=\"http://www.w3.org/2000/svg\" height=\"24px\"viewBox=\"0 0 24 24\"\n",
              "     width=\"24px\">\n",
              "    <g>\n",
              "        <path d=\"M19 3H5c-1.1 0-2 .9-2 2v14c0 1.1.9 2 2 2h14c1.1 0 2-.9 2-2V5c0-1.1-.9-2-2-2zM9 17H7v-7h2v7zm4 0h-2V7h2v10zm4 0h-2v-4h2v4z\"/>\n",
              "    </g>\n",
              "</svg>\n",
              "  </button>\n",
              "\n",
              "<style>\n",
              "  .colab-df-quickchart {\n",
              "      --bg-color: #E8F0FE;\n",
              "      --fill-color: #1967D2;\n",
              "      --hover-bg-color: #E2EBFA;\n",
              "      --hover-fill-color: #174EA6;\n",
              "      --disabled-fill-color: #AAA;\n",
              "      --disabled-bg-color: #DDD;\n",
              "  }\n",
              "\n",
              "  [theme=dark] .colab-df-quickchart {\n",
              "      --bg-color: #3B4455;\n",
              "      --fill-color: #D2E3FC;\n",
              "      --hover-bg-color: #434B5C;\n",
              "      --hover-fill-color: #FFFFFF;\n",
              "      --disabled-bg-color: #3B4455;\n",
              "      --disabled-fill-color: #666;\n",
              "  }\n",
              "\n",
              "  .colab-df-quickchart {\n",
              "    background-color: var(--bg-color);\n",
              "    border: none;\n",
              "    border-radius: 50%;\n",
              "    cursor: pointer;\n",
              "    display: none;\n",
              "    fill: var(--fill-color);\n",
              "    height: 32px;\n",
              "    padding: 0;\n",
              "    width: 32px;\n",
              "  }\n",
              "\n",
              "  .colab-df-quickchart:hover {\n",
              "    background-color: var(--hover-bg-color);\n",
              "    box-shadow: 0 1px 2px rgba(60, 64, 67, 0.3), 0 1px 3px 1px rgba(60, 64, 67, 0.15);\n",
              "    fill: var(--button-hover-fill-color);\n",
              "  }\n",
              "\n",
              "  .colab-df-quickchart-complete:disabled,\n",
              "  .colab-df-quickchart-complete:disabled:hover {\n",
              "    background-color: var(--disabled-bg-color);\n",
              "    fill: var(--disabled-fill-color);\n",
              "    box-shadow: none;\n",
              "  }\n",
              "\n",
              "  .colab-df-spinner {\n",
              "    border: 2px solid var(--fill-color);\n",
              "    border-color: transparent;\n",
              "    border-bottom-color: var(--fill-color);\n",
              "    animation:\n",
              "      spin 1s steps(1) infinite;\n",
              "  }\n",
              "\n",
              "  @keyframes spin {\n",
              "    0% {\n",
              "      border-color: transparent;\n",
              "      border-bottom-color: var(--fill-color);\n",
              "      border-left-color: var(--fill-color);\n",
              "    }\n",
              "    20% {\n",
              "      border-color: transparent;\n",
              "      border-left-color: var(--fill-color);\n",
              "      border-top-color: var(--fill-color);\n",
              "    }\n",
              "    30% {\n",
              "      border-color: transparent;\n",
              "      border-left-color: var(--fill-color);\n",
              "      border-top-color: var(--fill-color);\n",
              "      border-right-color: var(--fill-color);\n",
              "    }\n",
              "    40% {\n",
              "      border-color: transparent;\n",
              "      border-right-color: var(--fill-color);\n",
              "      border-top-color: var(--fill-color);\n",
              "    }\n",
              "    60% {\n",
              "      border-color: transparent;\n",
              "      border-right-color: var(--fill-color);\n",
              "    }\n",
              "    80% {\n",
              "      border-color: transparent;\n",
              "      border-right-color: var(--fill-color);\n",
              "      border-bottom-color: var(--fill-color);\n",
              "    }\n",
              "    90% {\n",
              "      border-color: transparent;\n",
              "      border-bottom-color: var(--fill-color);\n",
              "    }\n",
              "  }\n",
              "</style>\n",
              "\n",
              "  <script>\n",
              "    async function quickchart(key) {\n",
              "      const quickchartButtonEl =\n",
              "        document.querySelector('#' + key + ' button');\n",
              "      quickchartButtonEl.disabled = true;  // To prevent multiple clicks.\n",
              "      quickchartButtonEl.classList.add('colab-df-spinner');\n",
              "      try {\n",
              "        const charts = await google.colab.kernel.invokeFunction(\n",
              "            'suggestCharts', [key], {});\n",
              "      } catch (error) {\n",
              "        console.error('Error during call to suggestCharts:', error);\n",
              "      }\n",
              "      quickchartButtonEl.classList.remove('colab-df-spinner');\n",
              "      quickchartButtonEl.classList.add('colab-df-quickchart-complete');\n",
              "    }\n",
              "    (() => {\n",
              "      let quickchartButtonEl =\n",
              "        document.querySelector('#df-62e57d46-70cb-40bc-9864-24af6cfae4c7 button');\n",
              "      quickchartButtonEl.style.display =\n",
              "        google.colab.kernel.accessAllowed ? 'block' : 'none';\n",
              "    })();\n",
              "  </script>\n",
              "</div>\n",
              "\n",
              "    </div>\n",
              "  </div>\n"
            ],
            "application/vnd.google.colaboratory.intrinsic+json": {
              "type": "dataframe"
            }
          },
          "metadata": {},
          "execution_count": 15
        }
      ]
    },
    {
      "cell_type": "code",
      "metadata": {
        "id": "r5yyovZ8Pgw6"
      },
      "source": [
        "from sklearn import preprocessing\n",
        "\n",
        "x = df.values #returns a numpy array\n",
        "min_max_scaler = preprocessing.MinMaxScaler()\n",
        "x_scaled = min_max_scaler.fit_transform(x)\n",
        "df = pd.DataFrame(x_scaled,columns=df.columns)"
      ],
      "execution_count": null,
      "outputs": []
    },
    {
      "cell_type": "code",
      "metadata": {
        "id": "Cthho2p6QV9R",
        "colab": {
          "base_uri": "https://localhost:8080/",
          "height": 402
        },
        "outputId": "0267e10e-899b-461b-aead-6f9860520b2f"
      },
      "source": [
        "df.describe()"
      ],
      "execution_count": null,
      "outputs": [
        {
          "output_type": "execute_result",
          "data": {
            "text/plain": [
              "              age      gender        city  asbestos exposure  type of MM  \\\n",
              "count  324.000000  324.000000  324.000000         324.000000  324.000000   \n",
              "mean     0.541573    0.586420    0.316358           0.864198    0.026235   \n",
              "std      0.166707    0.493237    0.303703           0.343109    0.130811   \n",
              "min      0.000000    0.000000    0.000000           0.000000    0.000000   \n",
              "25%      0.424242    0.000000    0.000000           1.000000    0.000000   \n",
              "50%      0.545455    1.000000    0.250000           1.000000    0.000000   \n",
              "75%      0.666667    1.000000    0.625000           1.000000    0.000000   \n",
              "max      1.000000    1.000000    1.000000           1.000000    1.000000   \n",
              "\n",
              "       duration of asbestos exposure  diagnosis method   keep side  \\\n",
              "count                     324.000000        324.000000  324.000000   \n",
              "mean                        0.431261          0.703704    0.379630   \n",
              "std                         0.234571          0.457330    0.282654   \n",
              "min                         0.000000          0.000000    0.000000   \n",
              "25%                         0.282143          0.000000    0.000000   \n",
              "50%                         0.485714          1.000000    0.500000   \n",
              "75%                         0.614286          1.000000    0.500000   \n",
              "max                         1.000000          1.000000    1.000000   \n",
              "\n",
              "         cytology  duration of symptoms  ...  pleural lactic dehydrogenise  \\\n",
              "count  324.000000            324.000000  ...                    324.000000   \n",
              "mean     0.280864              0.095979  ...                      0.054969   \n",
              "std      0.450116              0.091608  ...                      0.072168   \n",
              "min      0.000000              0.000000  ...                      0.000000   \n",
              "25%      0.000000              0.046117  ...                      0.028529   \n",
              "50%      0.000000              0.087379  ...                      0.053829   \n",
              "75%      1.000000              0.126214  ...                      0.058539   \n",
              "max      1.000000              1.000000  ...                      1.000000   \n",
              "\n",
              "       pleural protein  pleural albumin  pleural glucose  dead or not  \\\n",
              "count       324.000000       324.000000       324.000000   324.000000   \n",
              "mean          0.587696         0.472019         0.311708     0.944444   \n",
              "std           0.235076         0.208048         0.182769     0.229416   \n",
              "min           0.000000         0.000000         0.000000     0.000000   \n",
              "25%           0.507463         0.365341         0.181208     1.000000   \n",
              "50%           0.626866         0.500000         0.241611     1.000000   \n",
              "75%           0.735075         0.619318         0.489933     1.000000   \n",
              "max           1.000000         1.000000         1.000000     1.000000   \n",
              "\n",
              "       pleural effusion  pleural thickness on tomography  \\\n",
              "count        324.000000                       324.000000   \n",
              "mean           0.870370                         0.595679   \n",
              "std            0.336415                         0.491519   \n",
              "min            0.000000                         0.000000   \n",
              "25%            1.000000                         0.000000   \n",
              "50%            1.000000                         1.000000   \n",
              "75%            1.000000                         1.000000   \n",
              "max            1.000000                         1.000000   \n",
              "\n",
              "       pleural level of acidity (pH)  C-reactive protein (CRP)  \\\n",
              "count                     324.000000                324.000000   \n",
              "mean                        0.521605                  0.578133   \n",
              "std                         0.500306                  0.246324   \n",
              "min                         0.000000                  0.000000   \n",
              "25%                         0.000000                  0.336957   \n",
              "50%                         1.000000                  0.619565   \n",
              "75%                         1.000000                  0.739130   \n",
              "max                         1.000000                  1.000000   \n",
              "\n",
              "       class of diagnosis  \n",
              "count          324.000000  \n",
              "mean             0.296296  \n",
              "std              0.457330  \n",
              "min              0.000000  \n",
              "25%              0.000000  \n",
              "50%              0.000000  \n",
              "75%              1.000000  \n",
              "max              1.000000  \n",
              "\n",
              "[8 rows x 35 columns]"
            ],
            "text/html": [
              "\n",
              "  <div id=\"df-c5c28b9f-2a36-4360-8f5d-79fe216c8fb9\" class=\"colab-df-container\">\n",
              "    <div>\n",
              "<style scoped>\n",
              "    .dataframe tbody tr th:only-of-type {\n",
              "        vertical-align: middle;\n",
              "    }\n",
              "\n",
              "    .dataframe tbody tr th {\n",
              "        vertical-align: top;\n",
              "    }\n",
              "\n",
              "    .dataframe thead th {\n",
              "        text-align: right;\n",
              "    }\n",
              "</style>\n",
              "<table border=\"1\" class=\"dataframe\">\n",
              "  <thead>\n",
              "    <tr style=\"text-align: right;\">\n",
              "      <th></th>\n",
              "      <th>age</th>\n",
              "      <th>gender</th>\n",
              "      <th>city</th>\n",
              "      <th>asbestos exposure</th>\n",
              "      <th>type of MM</th>\n",
              "      <th>duration of asbestos exposure</th>\n",
              "      <th>diagnosis method</th>\n",
              "      <th>keep side</th>\n",
              "      <th>cytology</th>\n",
              "      <th>duration of symptoms</th>\n",
              "      <th>...</th>\n",
              "      <th>pleural lactic dehydrogenise</th>\n",
              "      <th>pleural protein</th>\n",
              "      <th>pleural albumin</th>\n",
              "      <th>pleural glucose</th>\n",
              "      <th>dead or not</th>\n",
              "      <th>pleural effusion</th>\n",
              "      <th>pleural thickness on tomography</th>\n",
              "      <th>pleural level of acidity (pH)</th>\n",
              "      <th>C-reactive protein (CRP)</th>\n",
              "      <th>class of diagnosis</th>\n",
              "    </tr>\n",
              "  </thead>\n",
              "  <tbody>\n",
              "    <tr>\n",
              "      <th>count</th>\n",
              "      <td>324.000000</td>\n",
              "      <td>324.000000</td>\n",
              "      <td>324.000000</td>\n",
              "      <td>324.000000</td>\n",
              "      <td>324.000000</td>\n",
              "      <td>324.000000</td>\n",
              "      <td>324.000000</td>\n",
              "      <td>324.000000</td>\n",
              "      <td>324.000000</td>\n",
              "      <td>324.000000</td>\n",
              "      <td>...</td>\n",
              "      <td>324.000000</td>\n",
              "      <td>324.000000</td>\n",
              "      <td>324.000000</td>\n",
              "      <td>324.000000</td>\n",
              "      <td>324.000000</td>\n",
              "      <td>324.000000</td>\n",
              "      <td>324.000000</td>\n",
              "      <td>324.000000</td>\n",
              "      <td>324.000000</td>\n",
              "      <td>324.000000</td>\n",
              "    </tr>\n",
              "    <tr>\n",
              "      <th>mean</th>\n",
              "      <td>0.541573</td>\n",
              "      <td>0.586420</td>\n",
              "      <td>0.316358</td>\n",
              "      <td>0.864198</td>\n",
              "      <td>0.026235</td>\n",
              "      <td>0.431261</td>\n",
              "      <td>0.703704</td>\n",
              "      <td>0.379630</td>\n",
              "      <td>0.280864</td>\n",
              "      <td>0.095979</td>\n",
              "      <td>...</td>\n",
              "      <td>0.054969</td>\n",
              "      <td>0.587696</td>\n",
              "      <td>0.472019</td>\n",
              "      <td>0.311708</td>\n",
              "      <td>0.944444</td>\n",
              "      <td>0.870370</td>\n",
              "      <td>0.595679</td>\n",
              "      <td>0.521605</td>\n",
              "      <td>0.578133</td>\n",
              "      <td>0.296296</td>\n",
              "    </tr>\n",
              "    <tr>\n",
              "      <th>std</th>\n",
              "      <td>0.166707</td>\n",
              "      <td>0.493237</td>\n",
              "      <td>0.303703</td>\n",
              "      <td>0.343109</td>\n",
              "      <td>0.130811</td>\n",
              "      <td>0.234571</td>\n",
              "      <td>0.457330</td>\n",
              "      <td>0.282654</td>\n",
              "      <td>0.450116</td>\n",
              "      <td>0.091608</td>\n",
              "      <td>...</td>\n",
              "      <td>0.072168</td>\n",
              "      <td>0.235076</td>\n",
              "      <td>0.208048</td>\n",
              "      <td>0.182769</td>\n",
              "      <td>0.229416</td>\n",
              "      <td>0.336415</td>\n",
              "      <td>0.491519</td>\n",
              "      <td>0.500306</td>\n",
              "      <td>0.246324</td>\n",
              "      <td>0.457330</td>\n",
              "    </tr>\n",
              "    <tr>\n",
              "      <th>min</th>\n",
              "      <td>0.000000</td>\n",
              "      <td>0.000000</td>\n",
              "      <td>0.000000</td>\n",
              "      <td>0.000000</td>\n",
              "      <td>0.000000</td>\n",
              "      <td>0.000000</td>\n",
              "      <td>0.000000</td>\n",
              "      <td>0.000000</td>\n",
              "      <td>0.000000</td>\n",
              "      <td>0.000000</td>\n",
              "      <td>...</td>\n",
              "      <td>0.000000</td>\n",
              "      <td>0.000000</td>\n",
              "      <td>0.000000</td>\n",
              "      <td>0.000000</td>\n",
              "      <td>0.000000</td>\n",
              "      <td>0.000000</td>\n",
              "      <td>0.000000</td>\n",
              "      <td>0.000000</td>\n",
              "      <td>0.000000</td>\n",
              "      <td>0.000000</td>\n",
              "    </tr>\n",
              "    <tr>\n",
              "      <th>25%</th>\n",
              "      <td>0.424242</td>\n",
              "      <td>0.000000</td>\n",
              "      <td>0.000000</td>\n",
              "      <td>1.000000</td>\n",
              "      <td>0.000000</td>\n",
              "      <td>0.282143</td>\n",
              "      <td>0.000000</td>\n",
              "      <td>0.000000</td>\n",
              "      <td>0.000000</td>\n",
              "      <td>0.046117</td>\n",
              "      <td>...</td>\n",
              "      <td>0.028529</td>\n",
              "      <td>0.507463</td>\n",
              "      <td>0.365341</td>\n",
              "      <td>0.181208</td>\n",
              "      <td>1.000000</td>\n",
              "      <td>1.000000</td>\n",
              "      <td>0.000000</td>\n",
              "      <td>0.000000</td>\n",
              "      <td>0.336957</td>\n",
              "      <td>0.000000</td>\n",
              "    </tr>\n",
              "    <tr>\n",
              "      <th>50%</th>\n",
              "      <td>0.545455</td>\n",
              "      <td>1.000000</td>\n",
              "      <td>0.250000</td>\n",
              "      <td>1.000000</td>\n",
              "      <td>0.000000</td>\n",
              "      <td>0.485714</td>\n",
              "      <td>1.000000</td>\n",
              "      <td>0.500000</td>\n",
              "      <td>0.000000</td>\n",
              "      <td>0.087379</td>\n",
              "      <td>...</td>\n",
              "      <td>0.053829</td>\n",
              "      <td>0.626866</td>\n",
              "      <td>0.500000</td>\n",
              "      <td>0.241611</td>\n",
              "      <td>1.000000</td>\n",
              "      <td>1.000000</td>\n",
              "      <td>1.000000</td>\n",
              "      <td>1.000000</td>\n",
              "      <td>0.619565</td>\n",
              "      <td>0.000000</td>\n",
              "    </tr>\n",
              "    <tr>\n",
              "      <th>75%</th>\n",
              "      <td>0.666667</td>\n",
              "      <td>1.000000</td>\n",
              "      <td>0.625000</td>\n",
              "      <td>1.000000</td>\n",
              "      <td>0.000000</td>\n",
              "      <td>0.614286</td>\n",
              "      <td>1.000000</td>\n",
              "      <td>0.500000</td>\n",
              "      <td>1.000000</td>\n",
              "      <td>0.126214</td>\n",
              "      <td>...</td>\n",
              "      <td>0.058539</td>\n",
              "      <td>0.735075</td>\n",
              "      <td>0.619318</td>\n",
              "      <td>0.489933</td>\n",
              "      <td>1.000000</td>\n",
              "      <td>1.000000</td>\n",
              "      <td>1.000000</td>\n",
              "      <td>1.000000</td>\n",
              "      <td>0.739130</td>\n",
              "      <td>1.000000</td>\n",
              "    </tr>\n",
              "    <tr>\n",
              "      <th>max</th>\n",
              "      <td>1.000000</td>\n",
              "      <td>1.000000</td>\n",
              "      <td>1.000000</td>\n",
              "      <td>1.000000</td>\n",
              "      <td>1.000000</td>\n",
              "      <td>1.000000</td>\n",
              "      <td>1.000000</td>\n",
              "      <td>1.000000</td>\n",
              "      <td>1.000000</td>\n",
              "      <td>1.000000</td>\n",
              "      <td>...</td>\n",
              "      <td>1.000000</td>\n",
              "      <td>1.000000</td>\n",
              "      <td>1.000000</td>\n",
              "      <td>1.000000</td>\n",
              "      <td>1.000000</td>\n",
              "      <td>1.000000</td>\n",
              "      <td>1.000000</td>\n",
              "      <td>1.000000</td>\n",
              "      <td>1.000000</td>\n",
              "      <td>1.000000</td>\n",
              "    </tr>\n",
              "  </tbody>\n",
              "</table>\n",
              "<p>8 rows × 35 columns</p>\n",
              "</div>\n",
              "    <div class=\"colab-df-buttons\">\n",
              "\n",
              "  <div class=\"colab-df-container\">\n",
              "    <button class=\"colab-df-convert\" onclick=\"convertToInteractive('df-c5c28b9f-2a36-4360-8f5d-79fe216c8fb9')\"\n",
              "            title=\"Convert this dataframe to an interactive table.\"\n",
              "            style=\"display:none;\">\n",
              "\n",
              "  <svg xmlns=\"http://www.w3.org/2000/svg\" height=\"24px\" viewBox=\"0 -960 960 960\">\n",
              "    <path d=\"M120-120v-720h720v720H120Zm60-500h600v-160H180v160Zm220 220h160v-160H400v160Zm0 220h160v-160H400v160ZM180-400h160v-160H180v160Zm440 0h160v-160H620v160ZM180-180h160v-160H180v160Zm440 0h160v-160H620v160Z\"/>\n",
              "  </svg>\n",
              "    </button>\n",
              "\n",
              "  <style>\n",
              "    .colab-df-container {\n",
              "      display:flex;\n",
              "      gap: 12px;\n",
              "    }\n",
              "\n",
              "    .colab-df-convert {\n",
              "      background-color: #E8F0FE;\n",
              "      border: none;\n",
              "      border-radius: 50%;\n",
              "      cursor: pointer;\n",
              "      display: none;\n",
              "      fill: #1967D2;\n",
              "      height: 32px;\n",
              "      padding: 0 0 0 0;\n",
              "      width: 32px;\n",
              "    }\n",
              "\n",
              "    .colab-df-convert:hover {\n",
              "      background-color: #E2EBFA;\n",
              "      box-shadow: 0px 1px 2px rgba(60, 64, 67, 0.3), 0px 1px 3px 1px rgba(60, 64, 67, 0.15);\n",
              "      fill: #174EA6;\n",
              "    }\n",
              "\n",
              "    .colab-df-buttons div {\n",
              "      margin-bottom: 4px;\n",
              "    }\n",
              "\n",
              "    [theme=dark] .colab-df-convert {\n",
              "      background-color: #3B4455;\n",
              "      fill: #D2E3FC;\n",
              "    }\n",
              "\n",
              "    [theme=dark] .colab-df-convert:hover {\n",
              "      background-color: #434B5C;\n",
              "      box-shadow: 0px 1px 3px 1px rgba(0, 0, 0, 0.15);\n",
              "      filter: drop-shadow(0px 1px 2px rgba(0, 0, 0, 0.3));\n",
              "      fill: #FFFFFF;\n",
              "    }\n",
              "  </style>\n",
              "\n",
              "    <script>\n",
              "      const buttonEl =\n",
              "        document.querySelector('#df-c5c28b9f-2a36-4360-8f5d-79fe216c8fb9 button.colab-df-convert');\n",
              "      buttonEl.style.display =\n",
              "        google.colab.kernel.accessAllowed ? 'block' : 'none';\n",
              "\n",
              "      async function convertToInteractive(key) {\n",
              "        const element = document.querySelector('#df-c5c28b9f-2a36-4360-8f5d-79fe216c8fb9');\n",
              "        const dataTable =\n",
              "          await google.colab.kernel.invokeFunction('convertToInteractive',\n",
              "                                                    [key], {});\n",
              "        if (!dataTable) return;\n",
              "\n",
              "        const docLinkHtml = 'Like what you see? Visit the ' +\n",
              "          '<a target=\"_blank\" href=https://colab.research.google.com/notebooks/data_table.ipynb>data table notebook</a>'\n",
              "          + ' to learn more about interactive tables.';\n",
              "        element.innerHTML = '';\n",
              "        dataTable['output_type'] = 'display_data';\n",
              "        await google.colab.output.renderOutput(dataTable, element);\n",
              "        const docLink = document.createElement('div');\n",
              "        docLink.innerHTML = docLinkHtml;\n",
              "        element.appendChild(docLink);\n",
              "      }\n",
              "    </script>\n",
              "  </div>\n",
              "\n",
              "\n",
              "<div id=\"df-1442a234-49a5-4602-acc1-a20bda90174c\">\n",
              "  <button class=\"colab-df-quickchart\" onclick=\"quickchart('df-1442a234-49a5-4602-acc1-a20bda90174c')\"\n",
              "            title=\"Suggest charts\"\n",
              "            style=\"display:none;\">\n",
              "\n",
              "<svg xmlns=\"http://www.w3.org/2000/svg\" height=\"24px\"viewBox=\"0 0 24 24\"\n",
              "     width=\"24px\">\n",
              "    <g>\n",
              "        <path d=\"M19 3H5c-1.1 0-2 .9-2 2v14c0 1.1.9 2 2 2h14c1.1 0 2-.9 2-2V5c0-1.1-.9-2-2-2zM9 17H7v-7h2v7zm4 0h-2V7h2v10zm4 0h-2v-4h2v4z\"/>\n",
              "    </g>\n",
              "</svg>\n",
              "  </button>\n",
              "\n",
              "<style>\n",
              "  .colab-df-quickchart {\n",
              "      --bg-color: #E8F0FE;\n",
              "      --fill-color: #1967D2;\n",
              "      --hover-bg-color: #E2EBFA;\n",
              "      --hover-fill-color: #174EA6;\n",
              "      --disabled-fill-color: #AAA;\n",
              "      --disabled-bg-color: #DDD;\n",
              "  }\n",
              "\n",
              "  [theme=dark] .colab-df-quickchart {\n",
              "      --bg-color: #3B4455;\n",
              "      --fill-color: #D2E3FC;\n",
              "      --hover-bg-color: #434B5C;\n",
              "      --hover-fill-color: #FFFFFF;\n",
              "      --disabled-bg-color: #3B4455;\n",
              "      --disabled-fill-color: #666;\n",
              "  }\n",
              "\n",
              "  .colab-df-quickchart {\n",
              "    background-color: var(--bg-color);\n",
              "    border: none;\n",
              "    border-radius: 50%;\n",
              "    cursor: pointer;\n",
              "    display: none;\n",
              "    fill: var(--fill-color);\n",
              "    height: 32px;\n",
              "    padding: 0;\n",
              "    width: 32px;\n",
              "  }\n",
              "\n",
              "  .colab-df-quickchart:hover {\n",
              "    background-color: var(--hover-bg-color);\n",
              "    box-shadow: 0 1px 2px rgba(60, 64, 67, 0.3), 0 1px 3px 1px rgba(60, 64, 67, 0.15);\n",
              "    fill: var(--button-hover-fill-color);\n",
              "  }\n",
              "\n",
              "  .colab-df-quickchart-complete:disabled,\n",
              "  .colab-df-quickchart-complete:disabled:hover {\n",
              "    background-color: var(--disabled-bg-color);\n",
              "    fill: var(--disabled-fill-color);\n",
              "    box-shadow: none;\n",
              "  }\n",
              "\n",
              "  .colab-df-spinner {\n",
              "    border: 2px solid var(--fill-color);\n",
              "    border-color: transparent;\n",
              "    border-bottom-color: var(--fill-color);\n",
              "    animation:\n",
              "      spin 1s steps(1) infinite;\n",
              "  }\n",
              "\n",
              "  @keyframes spin {\n",
              "    0% {\n",
              "      border-color: transparent;\n",
              "      border-bottom-color: var(--fill-color);\n",
              "      border-left-color: var(--fill-color);\n",
              "    }\n",
              "    20% {\n",
              "      border-color: transparent;\n",
              "      border-left-color: var(--fill-color);\n",
              "      border-top-color: var(--fill-color);\n",
              "    }\n",
              "    30% {\n",
              "      border-color: transparent;\n",
              "      border-left-color: var(--fill-color);\n",
              "      border-top-color: var(--fill-color);\n",
              "      border-right-color: var(--fill-color);\n",
              "    }\n",
              "    40% {\n",
              "      border-color: transparent;\n",
              "      border-right-color: var(--fill-color);\n",
              "      border-top-color: var(--fill-color);\n",
              "    }\n",
              "    60% {\n",
              "      border-color: transparent;\n",
              "      border-right-color: var(--fill-color);\n",
              "    }\n",
              "    80% {\n",
              "      border-color: transparent;\n",
              "      border-right-color: var(--fill-color);\n",
              "      border-bottom-color: var(--fill-color);\n",
              "    }\n",
              "    90% {\n",
              "      border-color: transparent;\n",
              "      border-bottom-color: var(--fill-color);\n",
              "    }\n",
              "  }\n",
              "</style>\n",
              "\n",
              "  <script>\n",
              "    async function quickchart(key) {\n",
              "      const quickchartButtonEl =\n",
              "        document.querySelector('#' + key + ' button');\n",
              "      quickchartButtonEl.disabled = true;  // To prevent multiple clicks.\n",
              "      quickchartButtonEl.classList.add('colab-df-spinner');\n",
              "      try {\n",
              "        const charts = await google.colab.kernel.invokeFunction(\n",
              "            'suggestCharts', [key], {});\n",
              "      } catch (error) {\n",
              "        console.error('Error during call to suggestCharts:', error);\n",
              "      }\n",
              "      quickchartButtonEl.classList.remove('colab-df-spinner');\n",
              "      quickchartButtonEl.classList.add('colab-df-quickchart-complete');\n",
              "    }\n",
              "    (() => {\n",
              "      let quickchartButtonEl =\n",
              "        document.querySelector('#df-1442a234-49a5-4602-acc1-a20bda90174c button');\n",
              "      quickchartButtonEl.style.display =\n",
              "        google.colab.kernel.accessAllowed ? 'block' : 'none';\n",
              "    })();\n",
              "  </script>\n",
              "</div>\n",
              "\n",
              "    </div>\n",
              "  </div>\n"
            ],
            "application/vnd.google.colaboratory.intrinsic+json": {
              "type": "dataframe"
            }
          },
          "metadata": {},
          "execution_count": 17
        }
      ]
    },
    {
      "cell_type": "code",
      "metadata": {
        "id": "YVq2asBJQ-bg",
        "colab": {
          "base_uri": "https://localhost:8080/"
        },
        "outputId": "e1b29526-4e8e-4bae-98a3-88e46e6ae53e"
      },
      "source": [
        "df.dtypes"
      ],
      "execution_count": null,
      "outputs": [
        {
          "output_type": "execute_result",
          "data": {
            "text/plain": [
              "age                                 float64\n",
              "gender                              float64\n",
              "city                                float64\n",
              "asbestos exposure                   float64\n",
              "type of MM                          float64\n",
              "duration of asbestos exposure       float64\n",
              "diagnosis method                    float64\n",
              "keep side                           float64\n",
              "cytology                            float64\n",
              "duration of symptoms                float64\n",
              "dyspnoea                            float64\n",
              "ache on chest                       float64\n",
              "weakness                            float64\n",
              "habit of cigarette                  float64\n",
              "performance status                  float64\n",
              "white blood                         float64\n",
              "cell count (WBC)                    float64\n",
              "hemoglobin (HGB)                    float64\n",
              "platelet count (PLT)                float64\n",
              "sedimentation                       float64\n",
              "blood lactic dehydrogenise (LDH)    float64\n",
              "alkaline phosphatise (ALP)          float64\n",
              "total protein                       float64\n",
              "albumin                             float64\n",
              "glucose                             float64\n",
              "pleural lactic dehydrogenise        float64\n",
              "pleural protein                     float64\n",
              "pleural albumin                     float64\n",
              "pleural glucose                     float64\n",
              "dead or not                         float64\n",
              "pleural effusion                    float64\n",
              "pleural thickness on tomography     float64\n",
              "pleural level of acidity (pH)       float64\n",
              "C-reactive protein (CRP)            float64\n",
              "class of diagnosis                  float64\n",
              "dtype: object"
            ]
          },
          "metadata": {},
          "execution_count": 18
        }
      ]
    },
    {
      "cell_type": "code",
      "metadata": {
        "id": "npPMpQK69Yob"
      },
      "source": [
        "df.drop(['dead or not'],axis=1,inplace=True)"
      ],
      "execution_count": null,
      "outputs": []
    },
    {
      "cell_type": "markdown",
      "metadata": {
        "id": "E8VMevTqjXHL"
      },
      "source": [
        "# Handle Data Imbalance"
      ]
    },
    {
      "cell_type": "code",
      "metadata": {
        "id": "ZLaMhZkX8C7M",
        "colab": {
          "base_uri": "https://localhost:8080/"
        },
        "outputId": "dcf828d9-52c5-404f-dff4-849d45623017"
      },
      "source": [
        "df['class of diagnosis'].value_counts(normalize=True)"
      ],
      "execution_count": null,
      "outputs": [
        {
          "output_type": "execute_result",
          "data": {
            "text/plain": [
              "class of diagnosis\n",
              "0.0    0.703704\n",
              "1.0    0.296296\n",
              "Name: proportion, dtype: float64"
            ]
          },
          "metadata": {},
          "execution_count": 20
        }
      ]
    },
    {
      "cell_type": "markdown",
      "metadata": {
        "id": "eLEKYXBQjcPn"
      },
      "source": [
        "## Here Subsampling / Undersampling method is used for balancing\n",
        "\n",
        "We took few samples from the majority\n",
        "And all samples from the minority class"
      ]
    },
    {
      "cell_type": "code",
      "metadata": {
        "id": "uveFmeQO_pAM"
      },
      "source": [
        "df_c1 = df.loc[df['class of diagnosis']==0,:]\n",
        "df_c2 = df.loc[df['class of diagnosis']==1,:]"
      ],
      "execution_count": null,
      "outputs": []
    },
    {
      "cell_type": "markdown",
      "metadata": {
        "id": "zf9R7jw0jumX"
      },
      "source": [
        "#### Sample Majority class with number of records in minority class\n",
        "\n",
        "In sampling we randomly select given number of records"
      ]
    },
    {
      "cell_type": "code",
      "metadata": {
        "id": "hdt_UZxG_5Jy"
      },
      "source": [
        "df_c1 = df_c1.sample(df_c2.shape[0],random_state=7)"
      ],
      "execution_count": null,
      "outputs": []
    },
    {
      "cell_type": "code",
      "metadata": {
        "id": "TuKzz4IjAFV7",
        "colab": {
          "base_uri": "https://localhost:8080/"
        },
        "outputId": "a84c6889-7447-4b34-c836-fdbef29d8b63"
      },
      "source": [
        "df_c1.shape , df_c2.shape"
      ],
      "execution_count": null,
      "outputs": [
        {
          "output_type": "execute_result",
          "data": {
            "text/plain": [
              "((96, 34), (96, 34))"
            ]
          },
          "metadata": {},
          "execution_count": 23
        }
      ]
    },
    {
      "cell_type": "code",
      "metadata": {
        "id": "KuV-KCUjAm8t"
      },
      "source": [
        "df_new = pd.concat([df_c1,df_c2])"
      ],
      "execution_count": null,
      "outputs": []
    },
    {
      "cell_type": "code",
      "metadata": {
        "id": "VHJiG6JYAszQ",
        "colab": {
          "base_uri": "https://localhost:8080/"
        },
        "outputId": "44f4d0d4-2fde-4c5f-ab09-127807ecfafa"
      },
      "source": [
        "df_new.shape"
      ],
      "execution_count": null,
      "outputs": [
        {
          "output_type": "execute_result",
          "data": {
            "text/plain": [
              "(192, 34)"
            ]
          },
          "metadata": {},
          "execution_count": 25
        }
      ]
    },
    {
      "cell_type": "code",
      "metadata": {
        "colab": {
          "base_uri": "https://localhost:8080/"
        },
        "id": "QPP22MO-kVbj",
        "outputId": "7ed4fb77-8c99-4288-c24e-bcd6c05e12b2"
      },
      "source": [
        "df_new['class of diagnosis'].value_counts()"
      ],
      "execution_count": null,
      "outputs": [
        {
          "output_type": "execute_result",
          "data": {
            "text/plain": [
              "class of diagnosis\n",
              "0.0    96\n",
              "1.0    96\n",
              "Name: count, dtype: int64"
            ]
          },
          "metadata": {},
          "execution_count": 26
        }
      ]
    },
    {
      "cell_type": "markdown",
      "metadata": {
        "id": "01wF6Rpcmll9"
      },
      "source": [
        "# Separate X & y"
      ]
    },
    {
      "cell_type": "code",
      "metadata": {
        "id": "c4hcVC5JPvWo"
      },
      "source": [
        "# split into input and output columns\n",
        "X, y = df_new.values[:, :-1], df_new.values[:, -1]"
      ],
      "execution_count": null,
      "outputs": []
    },
    {
      "cell_type": "code",
      "metadata": {
        "id": "BpUTracXwv0n",
        "colab": {
          "base_uri": "https://localhost:8080/"
        },
        "outputId": "5a8304a5-3b1e-4834-aef3-4d4b7a083e11"
      },
      "source": [
        "y[:10]"
      ],
      "execution_count": null,
      "outputs": [
        {
          "output_type": "execute_result",
          "data": {
            "text/plain": [
              "array([0., 0., 0., 0., 0., 0., 0., 0., 0., 0.])"
            ]
          },
          "metadata": {},
          "execution_count": 28
        }
      ]
    },
    {
      "cell_type": "markdown",
      "metadata": {
        "id": "F9bTIDNTmoZG"
      },
      "source": [
        "# Train test Split"
      ]
    },
    {
      "cell_type": "code",
      "metadata": {
        "id": "oyxrYRIOw29v",
        "colab": {
          "base_uri": "https://localhost:8080/"
        },
        "outputId": "c7652343-fab2-404e-9598-a626d02df271"
      },
      "source": [
        "# split into train and test datasets\n",
        "#sytatified=y ,y is target ..\n",
        "X_train, X_test, y_train, y_test = train_test_split(X, y, test_size=0.3,random_state=7,stratify=y)\n",
        "print(X_train.shape, X_test.shape, y_train.shape, y_test.shape)"
      ],
      "execution_count": null,
      "outputs": [
        {
          "output_type": "stream",
          "name": "stdout",
          "text": [
            "(134, 33) (58, 33) (134,) (58,)\n"
          ]
        }
      ]
    },
    {
      "cell_type": "markdown",
      "source": [
        "## Configure the input layer"
      ],
      "metadata": {
        "id": "l6_cvIseY65a"
      }
    },
    {
      "cell_type": "code",
      "metadata": {
        "id": "zrD5KvK7w6j-"
      },
      "source": [
        "# determine the number of input features\n",
        "n_features = X_train.shape[1]"
      ],
      "execution_count": null,
      "outputs": []
    },
    {
      "cell_type": "code",
      "source": [
        "n_features"
      ],
      "metadata": {
        "colab": {
          "base_uri": "https://localhost:8080/"
        },
        "id": "eNe0fCqG0lnA",
        "outputId": "bf3b0dec-d9c4-4ce5-e47b-8c03c3832d9a"
      },
      "execution_count": null,
      "outputs": [
        {
          "output_type": "execute_result",
          "data": {
            "text/plain": [
              "33"
            ]
          },
          "metadata": {},
          "execution_count": 53
        }
      ]
    },
    {
      "cell_type": "code",
      "metadata": {
        "id": "1LCDth9OozKD",
        "colab": {
          "base_uri": "https://localhost:8080/"
        },
        "outputId": "4f7602db-c0d9-4b2e-d2aa-f38e170377f4"
      },
      "source": [
        "n_features * 5 + 5 #(bias values)"
      ],
      "execution_count": null,
      "outputs": [
        {
          "output_type": "execute_result",
          "data": {
            "text/plain": [
              "170"
            ]
          },
          "metadata": {},
          "execution_count": 54
        }
      ]
    },
    {
      "cell_type": "markdown",
      "source": [
        "# Size of output layer / no of neurons in output layer\n",
        "\n",
        "classification ::\n",
        "no of classes if we want OHE\n",
        "\n",
        "or 1 neuron if we dont want OHE\n",
        "\n",
        "regression ::\n",
        "\n",
        "1 neuron if we want one output\n",
        "\n",
        "multiple outputs then no of neurons is same as no of outputs"
      ],
      "metadata": {
        "id": "_rvmZMqVh2dC"
      }
    },
    {
      "cell_type": "markdown",
      "metadata": {
        "id": "mX2VadnVoz3E"
      },
      "source": [
        "# Output layer activation:\n",
        "\n",
        "depends on the output ::\n",
        "\n",
        "if 0 or 1 :: use sigmoid\n",
        "\n",
        "if you want one hot encoding :: softmax\n",
        "\n",
        "if you want number use linear"
      ]
    },
    {
      "cell_type": "markdown",
      "metadata": {
        "id": "Y5bEPD8J9jxZ"
      },
      "source": [
        "#### How Many layers to choose ?\n",
        "\n",
        "Each layer is a feature selection step\n",
        "\n",
        "If you want more processing of input data for better feature selection then add more layers."
      ]
    },
    {
      "cell_type": "code",
      "metadata": {
        "id": "nEknQleVxBRG"
      },
      "source": [
        "# define model\n",
        "model1 = Sequential()#we want to build seq model\n",
        "model1.add(Dense(5, activation='relu', input_shape=(n_features,)))#add a layer.dense 1st hidden layer first param is input_shape. , is given bez tuple(,).5 neuron\n",
        "# model1.add(Dense(100, activation='relu'))\n",
        "# model1.add(Dense(800, activation='relu'))\n",
        "# model1.add(Dense(8, activation='relu'))\n",
        "# model1.add(Dropout(0.2))\n",
        "model1.add(Dense(1, activation='sigmoid'))\n",
        "# model1.add(Dense(2, activation='softmax'))"
      ],
      "execution_count": null,
      "outputs": []
    },
    {
      "cell_type": "markdown",
      "source": [
        "## Task ::\n",
        "\n",
        "1. change number of neurons in Hidden layer 1 :: atleast 3 diferent values :: check test accuracy\n",
        "\n",
        "2. Add 1 layer (any no of neurons): check test accuracy\n",
        "\n",
        "3. add two layers (any no of neurons): check test accuracy"
      ],
      "metadata": {
        "id": "odBf9M5q9SP1"
      }
    },
    {
      "cell_type": "code",
      "metadata": {
        "colab": {
          "base_uri": "https://localhost:8080/"
        },
        "id": "eHVwjAK7RUyc",
        "outputId": "0f213d7b-9508-4022-f439-8c68311e40a6"
      },
      "source": [
        "model1.summary()"
      ],
      "execution_count": null,
      "outputs": [
        {
          "output_type": "stream",
          "name": "stdout",
          "text": [
            "Model: \"sequential\"\n",
            "_________________________________________________________________\n",
            " Layer (type)                Output Shape              Param #   \n",
            "=================================================================\n",
            " dense (Dense)               (None, 5)                 170       \n",
            "                                                                 \n",
            " dense_1 (Dense)             (None, 1)                 6         \n",
            "                                                                 \n",
            "=================================================================\n",
            "Total params: 176 (704.00 Byte)\n",
            "Trainable params: 176 (704.00 Byte)\n",
            "Non-trainable params: 0 (0.00 Byte)\n",
            "_________________________________________________________________\n"
          ]
        }
      ]
    },
    {
      "cell_type": "markdown",
      "metadata": {
        "id": "c32LXoxbzZrg"
      },
      "source": [
        "### Optimizers\n",
        "Optimize the error or loss\n",
        "\n",
        "SGD stochastic Gardient Descent\n",
        "\n",
        "** Momentum in SGD\n",
        "\n",
        "Adam  Adaptive Moment Optimization/Estimation :: Best Currently\n",
        "\n",
        "RMSProp Root Mean Square Propogation"
      ]
    },
    {
      "cell_type": "markdown",
      "metadata": {
        "id": "4R1W8k6S2oir"
      },
      "source": [
        "#### Loss\n",
        "\n",
        "binary_crossentropy : when two classes in output\n",
        "\n",
        "Categorical Cross Entropy: for multi class classification problem\n",
        "\n",
        "Sparse Categorical Cross Entropy :: when multi class classification without one hot encoding\n",
        "\n",
        "mse Mean Squared Error : for regression problem"
      ]
    },
    {
      "cell_type": "code",
      "metadata": {
        "id": "M_OesqogxEI_"
      },
      "source": [
        "# compile the model\n",
        "model1.compile(optimizer='adam', loss='binary_crossentropy', metrics=['accuracy'])"
      ],
      "execution_count": null,
      "outputs": []
    },
    {
      "cell_type": "code",
      "metadata": {
        "id": "DZwtbeuLxImG",
        "colab": {
          "base_uri": "https://localhost:8080/"
        },
        "outputId": "251fb7d6-284a-4b64-cbb0-d1ab2d487ccf"
      },
      "source": [
        "# fit the model (traning)\n",
        "history = model1.fit( X_train, y_train, epochs=100, batch_size=32,\n",
        "                     validation_split=0.3, verbose=2,shuffle=False)"
      ],
      "execution_count": null,
      "outputs": [
        {
          "output_type": "stream",
          "name": "stdout",
          "text": [
            "Epoch 1/100\n",
            "3/3 - 1s - loss: 0.6617 - accuracy: 0.5699 - val_loss: 0.6545 - val_accuracy: 0.5610 - 974ms/epoch - 325ms/step\n",
            "Epoch 2/100\n",
            "3/3 - 0s - loss: 0.6577 - accuracy: 0.5699 - val_loss: 0.6552 - val_accuracy: 0.5610 - 49ms/epoch - 16ms/step\n",
            "Epoch 3/100\n",
            "3/3 - 0s - loss: 0.6542 - accuracy: 0.6129 - val_loss: 0.6557 - val_accuracy: 0.5854 - 45ms/epoch - 15ms/step\n",
            "Epoch 4/100\n",
            "3/3 - 0s - loss: 0.6510 - accuracy: 0.6237 - val_loss: 0.6562 - val_accuracy: 0.6341 - 46ms/epoch - 15ms/step\n",
            "Epoch 5/100\n",
            "3/3 - 0s - loss: 0.6481 - accuracy: 0.6237 - val_loss: 0.6568 - val_accuracy: 0.6098 - 53ms/epoch - 18ms/step\n",
            "Epoch 6/100\n",
            "3/3 - 0s - loss: 0.6454 - accuracy: 0.6129 - val_loss: 0.6572 - val_accuracy: 0.5854 - 52ms/epoch - 17ms/step\n",
            "Epoch 7/100\n",
            "3/3 - 0s - loss: 0.6428 - accuracy: 0.6129 - val_loss: 0.6574 - val_accuracy: 0.5854 - 44ms/epoch - 15ms/step\n",
            "Epoch 8/100\n",
            "3/3 - 0s - loss: 0.6402 - accuracy: 0.6237 - val_loss: 0.6573 - val_accuracy: 0.5854 - 37ms/epoch - 12ms/step\n",
            "Epoch 9/100\n",
            "3/3 - 0s - loss: 0.6377 - accuracy: 0.6344 - val_loss: 0.6568 - val_accuracy: 0.5854 - 54ms/epoch - 18ms/step\n",
            "Epoch 10/100\n",
            "3/3 - 0s - loss: 0.6352 - accuracy: 0.6344 - val_loss: 0.6561 - val_accuracy: 0.5854 - 36ms/epoch - 12ms/step\n",
            "Epoch 11/100\n",
            "3/3 - 0s - loss: 0.6328 - accuracy: 0.6344 - val_loss: 0.6550 - val_accuracy: 0.5854 - 56ms/epoch - 19ms/step\n",
            "Epoch 12/100\n",
            "3/3 - 0s - loss: 0.6304 - accuracy: 0.6344 - val_loss: 0.6537 - val_accuracy: 0.5854 - 55ms/epoch - 18ms/step\n",
            "Epoch 13/100\n",
            "3/3 - 0s - loss: 0.6281 - accuracy: 0.6774 - val_loss: 0.6521 - val_accuracy: 0.5854 - 35ms/epoch - 12ms/step\n",
            "Epoch 14/100\n",
            "3/3 - 0s - loss: 0.6258 - accuracy: 0.6774 - val_loss: 0.6505 - val_accuracy: 0.5854 - 35ms/epoch - 12ms/step\n",
            "Epoch 15/100\n",
            "3/3 - 0s - loss: 0.6235 - accuracy: 0.6774 - val_loss: 0.6486 - val_accuracy: 0.5854 - 53ms/epoch - 18ms/step\n",
            "Epoch 16/100\n",
            "3/3 - 0s - loss: 0.6213 - accuracy: 0.6774 - val_loss: 0.6468 - val_accuracy: 0.5854 - 34ms/epoch - 11ms/step\n",
            "Epoch 17/100\n",
            "3/3 - 0s - loss: 0.6190 - accuracy: 0.6774 - val_loss: 0.6451 - val_accuracy: 0.5854 - 40ms/epoch - 13ms/step\n",
            "Epoch 18/100\n",
            "3/3 - 0s - loss: 0.6168 - accuracy: 0.6774 - val_loss: 0.6435 - val_accuracy: 0.5854 - 53ms/epoch - 18ms/step\n",
            "Epoch 19/100\n",
            "3/3 - 0s - loss: 0.6145 - accuracy: 0.6774 - val_loss: 0.6420 - val_accuracy: 0.5610 - 41ms/epoch - 14ms/step\n",
            "Epoch 20/100\n",
            "3/3 - 0s - loss: 0.6123 - accuracy: 0.6882 - val_loss: 0.6405 - val_accuracy: 0.5610 - 53ms/epoch - 18ms/step\n",
            "Epoch 21/100\n",
            "3/3 - 0s - loss: 0.6101 - accuracy: 0.6882 - val_loss: 0.6391 - val_accuracy: 0.5610 - 42ms/epoch - 14ms/step\n",
            "Epoch 22/100\n",
            "3/3 - 0s - loss: 0.6079 - accuracy: 0.6882 - val_loss: 0.6377 - val_accuracy: 0.5854 - 61ms/epoch - 20ms/step\n",
            "Epoch 23/100\n",
            "3/3 - 0s - loss: 0.6058 - accuracy: 0.6882 - val_loss: 0.6362 - val_accuracy: 0.5854 - 49ms/epoch - 16ms/step\n",
            "Epoch 24/100\n",
            "3/3 - 0s - loss: 0.6036 - accuracy: 0.6989 - val_loss: 0.6347 - val_accuracy: 0.5854 - 45ms/epoch - 15ms/step\n",
            "Epoch 25/100\n",
            "3/3 - 0s - loss: 0.6015 - accuracy: 0.7097 - val_loss: 0.6334 - val_accuracy: 0.5854 - 50ms/epoch - 17ms/step\n",
            "Epoch 26/100\n",
            "3/3 - 0s - loss: 0.5994 - accuracy: 0.7097 - val_loss: 0.6322 - val_accuracy: 0.5854 - 44ms/epoch - 15ms/step\n",
            "Epoch 27/100\n",
            "3/3 - 0s - loss: 0.5973 - accuracy: 0.7097 - val_loss: 0.6309 - val_accuracy: 0.5854 - 66ms/epoch - 22ms/step\n",
            "Epoch 28/100\n",
            "3/3 - 0s - loss: 0.5952 - accuracy: 0.7097 - val_loss: 0.6295 - val_accuracy: 0.5854 - 44ms/epoch - 15ms/step\n",
            "Epoch 29/100\n",
            "3/3 - 0s - loss: 0.5931 - accuracy: 0.7097 - val_loss: 0.6282 - val_accuracy: 0.5854 - 38ms/epoch - 13ms/step\n",
            "Epoch 30/100\n",
            "3/3 - 0s - loss: 0.5910 - accuracy: 0.7097 - val_loss: 0.6269 - val_accuracy: 0.5854 - 35ms/epoch - 12ms/step\n",
            "Epoch 31/100\n",
            "3/3 - 0s - loss: 0.5889 - accuracy: 0.7097 - val_loss: 0.6255 - val_accuracy: 0.5854 - 53ms/epoch - 18ms/step\n",
            "Epoch 32/100\n",
            "3/3 - 0s - loss: 0.5869 - accuracy: 0.7097 - val_loss: 0.6242 - val_accuracy: 0.5854 - 36ms/epoch - 12ms/step\n",
            "Epoch 33/100\n",
            "3/3 - 0s - loss: 0.5848 - accuracy: 0.7204 - val_loss: 0.6230 - val_accuracy: 0.5854 - 53ms/epoch - 18ms/step\n",
            "Epoch 34/100\n",
            "3/3 - 0s - loss: 0.5827 - accuracy: 0.7312 - val_loss: 0.6217 - val_accuracy: 0.5854 - 36ms/epoch - 12ms/step\n",
            "Epoch 35/100\n",
            "3/3 - 0s - loss: 0.5806 - accuracy: 0.7312 - val_loss: 0.6205 - val_accuracy: 0.5854 - 53ms/epoch - 18ms/step\n",
            "Epoch 36/100\n",
            "3/3 - 0s - loss: 0.5786 - accuracy: 0.7419 - val_loss: 0.6192 - val_accuracy: 0.5854 - 52ms/epoch - 17ms/step\n",
            "Epoch 37/100\n",
            "3/3 - 0s - loss: 0.5765 - accuracy: 0.7419 - val_loss: 0.6179 - val_accuracy: 0.5854 - 54ms/epoch - 18ms/step\n",
            "Epoch 38/100\n",
            "3/3 - 0s - loss: 0.5744 - accuracy: 0.7419 - val_loss: 0.6167 - val_accuracy: 0.5854 - 37ms/epoch - 12ms/step\n",
            "Epoch 39/100\n",
            "3/3 - 0s - loss: 0.5723 - accuracy: 0.7527 - val_loss: 0.6155 - val_accuracy: 0.5854 - 36ms/epoch - 12ms/step\n",
            "Epoch 40/100\n",
            "3/3 - 0s - loss: 0.5702 - accuracy: 0.7742 - val_loss: 0.6143 - val_accuracy: 0.5854 - 53ms/epoch - 18ms/step\n",
            "Epoch 41/100\n",
            "3/3 - 0s - loss: 0.5682 - accuracy: 0.7849 - val_loss: 0.6131 - val_accuracy: 0.5854 - 52ms/epoch - 17ms/step\n",
            "Epoch 42/100\n",
            "3/3 - 0s - loss: 0.5661 - accuracy: 0.7849 - val_loss: 0.6120 - val_accuracy: 0.6341 - 45ms/epoch - 15ms/step\n",
            "Epoch 43/100\n",
            "3/3 - 0s - loss: 0.5641 - accuracy: 0.7849 - val_loss: 0.6108 - val_accuracy: 0.6341 - 53ms/epoch - 18ms/step\n",
            "Epoch 44/100\n",
            "3/3 - 0s - loss: 0.5620 - accuracy: 0.7957 - val_loss: 0.6097 - val_accuracy: 0.6341 - 44ms/epoch - 15ms/step\n",
            "Epoch 45/100\n",
            "3/3 - 0s - loss: 0.5599 - accuracy: 0.7957 - val_loss: 0.6085 - val_accuracy: 0.6341 - 44ms/epoch - 15ms/step\n",
            "Epoch 46/100\n",
            "3/3 - 0s - loss: 0.5579 - accuracy: 0.7957 - val_loss: 0.6072 - val_accuracy: 0.6341 - 59ms/epoch - 20ms/step\n",
            "Epoch 47/100\n",
            "3/3 - 0s - loss: 0.5558 - accuracy: 0.7957 - val_loss: 0.6058 - val_accuracy: 0.6341 - 39ms/epoch - 13ms/step\n",
            "Epoch 48/100\n",
            "3/3 - 0s - loss: 0.5538 - accuracy: 0.7957 - val_loss: 0.6044 - val_accuracy: 0.6341 - 35ms/epoch - 12ms/step\n",
            "Epoch 49/100\n",
            "3/3 - 0s - loss: 0.5517 - accuracy: 0.7957 - val_loss: 0.6031 - val_accuracy: 0.6341 - 52ms/epoch - 17ms/step\n",
            "Epoch 50/100\n",
            "3/3 - 0s - loss: 0.5497 - accuracy: 0.8065 - val_loss: 0.6017 - val_accuracy: 0.6341 - 34ms/epoch - 11ms/step\n",
            "Epoch 51/100\n",
            "3/3 - 0s - loss: 0.5476 - accuracy: 0.8065 - val_loss: 0.6004 - val_accuracy: 0.6341 - 41ms/epoch - 14ms/step\n",
            "Epoch 52/100\n",
            "3/3 - 0s - loss: 0.5455 - accuracy: 0.8172 - val_loss: 0.5990 - val_accuracy: 0.6341 - 53ms/epoch - 18ms/step\n",
            "Epoch 53/100\n",
            "3/3 - 0s - loss: 0.5435 - accuracy: 0.8172 - val_loss: 0.5977 - val_accuracy: 0.6341 - 35ms/epoch - 12ms/step\n",
            "Epoch 54/100\n",
            "3/3 - 0s - loss: 0.5414 - accuracy: 0.8172 - val_loss: 0.5964 - val_accuracy: 0.6341 - 35ms/epoch - 12ms/step\n",
            "Epoch 55/100\n",
            "3/3 - 0s - loss: 0.5394 - accuracy: 0.8172 - val_loss: 0.5951 - val_accuracy: 0.6341 - 52ms/epoch - 17ms/step\n",
            "Epoch 56/100\n",
            "3/3 - 0s - loss: 0.5373 - accuracy: 0.8172 - val_loss: 0.5938 - val_accuracy: 0.6341 - 52ms/epoch - 17ms/step\n",
            "Epoch 57/100\n",
            "3/3 - 0s - loss: 0.5352 - accuracy: 0.8172 - val_loss: 0.5925 - val_accuracy: 0.6341 - 52ms/epoch - 17ms/step\n",
            "Epoch 58/100\n",
            "3/3 - 0s - loss: 0.5331 - accuracy: 0.8172 - val_loss: 0.5911 - val_accuracy: 0.6585 - 38ms/epoch - 13ms/step\n",
            "Epoch 59/100\n",
            "3/3 - 0s - loss: 0.5311 - accuracy: 0.8172 - val_loss: 0.5897 - val_accuracy: 0.7073 - 51ms/epoch - 17ms/step\n",
            "Epoch 60/100\n",
            "3/3 - 0s - loss: 0.5290 - accuracy: 0.8280 - val_loss: 0.5882 - val_accuracy: 0.7073 - 51ms/epoch - 17ms/step\n",
            "Epoch 61/100\n",
            "3/3 - 0s - loss: 0.5269 - accuracy: 0.8280 - val_loss: 0.5868 - val_accuracy: 0.7073 - 37ms/epoch - 12ms/step\n",
            "Epoch 62/100\n",
            "3/3 - 0s - loss: 0.5248 - accuracy: 0.8280 - val_loss: 0.5853 - val_accuracy: 0.7073 - 61ms/epoch - 20ms/step\n",
            "Epoch 63/100\n",
            "3/3 - 0s - loss: 0.5227 - accuracy: 0.8280 - val_loss: 0.5839 - val_accuracy: 0.7073 - 83ms/epoch - 28ms/step\n",
            "Epoch 64/100\n",
            "3/3 - 0s - loss: 0.5207 - accuracy: 0.8280 - val_loss: 0.5824 - val_accuracy: 0.7073 - 44ms/epoch - 15ms/step\n",
            "Epoch 65/100\n",
            "3/3 - 0s - loss: 0.5185 - accuracy: 0.8387 - val_loss: 0.5809 - val_accuracy: 0.7073 - 44ms/epoch - 15ms/step\n",
            "Epoch 66/100\n",
            "3/3 - 0s - loss: 0.5164 - accuracy: 0.8387 - val_loss: 0.5793 - val_accuracy: 0.7073 - 45ms/epoch - 15ms/step\n",
            "Epoch 67/100\n",
            "3/3 - 0s - loss: 0.5143 - accuracy: 0.8387 - val_loss: 0.5777 - val_accuracy: 0.7073 - 58ms/epoch - 19ms/step\n",
            "Epoch 68/100\n",
            "3/3 - 0s - loss: 0.5122 - accuracy: 0.8387 - val_loss: 0.5761 - val_accuracy: 0.7073 - 39ms/epoch - 13ms/step\n",
            "Epoch 69/100\n",
            "3/3 - 0s - loss: 0.5100 - accuracy: 0.8387 - val_loss: 0.5745 - val_accuracy: 0.7073 - 61ms/epoch - 20ms/step\n",
            "Epoch 70/100\n",
            "3/3 - 0s - loss: 0.5079 - accuracy: 0.8387 - val_loss: 0.5730 - val_accuracy: 0.7073 - 53ms/epoch - 18ms/step\n",
            "Epoch 71/100\n",
            "3/3 - 0s - loss: 0.5057 - accuracy: 0.8387 - val_loss: 0.5714 - val_accuracy: 0.7073 - 52ms/epoch - 17ms/step\n",
            "Epoch 72/100\n",
            "3/3 - 0s - loss: 0.5035 - accuracy: 0.8387 - val_loss: 0.5699 - val_accuracy: 0.7073 - 51ms/epoch - 17ms/step\n",
            "Epoch 73/100\n",
            "3/3 - 0s - loss: 0.5013 - accuracy: 0.8387 - val_loss: 0.5685 - val_accuracy: 0.7073 - 38ms/epoch - 13ms/step\n",
            "Epoch 74/100\n",
            "3/3 - 0s - loss: 0.4991 - accuracy: 0.8495 - val_loss: 0.5670 - val_accuracy: 0.7073 - 73ms/epoch - 24ms/step\n",
            "Epoch 75/100\n",
            "3/3 - 0s - loss: 0.4969 - accuracy: 0.8495 - val_loss: 0.5655 - val_accuracy: 0.7073 - 78ms/epoch - 26ms/step\n",
            "Epoch 76/100\n",
            "3/3 - 0s - loss: 0.4946 - accuracy: 0.8495 - val_loss: 0.5640 - val_accuracy: 0.7073 - 61ms/epoch - 20ms/step\n",
            "Epoch 77/100\n",
            "3/3 - 0s - loss: 0.4923 - accuracy: 0.8495 - val_loss: 0.5625 - val_accuracy: 0.7073 - 78ms/epoch - 26ms/step\n",
            "Epoch 78/100\n",
            "3/3 - 0s - loss: 0.4901 - accuracy: 0.8495 - val_loss: 0.5611 - val_accuracy: 0.7073 - 71ms/epoch - 24ms/step\n",
            "Epoch 79/100\n",
            "3/3 - 0s - loss: 0.4878 - accuracy: 0.8495 - val_loss: 0.5598 - val_accuracy: 0.7073 - 68ms/epoch - 23ms/step\n",
            "Epoch 80/100\n",
            "3/3 - 0s - loss: 0.4854 - accuracy: 0.8495 - val_loss: 0.5585 - val_accuracy: 0.7073 - 81ms/epoch - 27ms/step\n",
            "Epoch 81/100\n",
            "3/3 - 0s - loss: 0.4830 - accuracy: 0.8602 - val_loss: 0.5574 - val_accuracy: 0.7073 - 66ms/epoch - 22ms/step\n",
            "Epoch 82/100\n",
            "3/3 - 0s - loss: 0.4807 - accuracy: 0.8602 - val_loss: 0.5560 - val_accuracy: 0.7073 - 74ms/epoch - 25ms/step\n",
            "Epoch 83/100\n",
            "3/3 - 0s - loss: 0.4782 - accuracy: 0.8710 - val_loss: 0.5547 - val_accuracy: 0.7073 - 64ms/epoch - 21ms/step\n",
            "Epoch 84/100\n",
            "3/3 - 0s - loss: 0.4757 - accuracy: 0.8817 - val_loss: 0.5534 - val_accuracy: 0.7073 - 68ms/epoch - 23ms/step\n",
            "Epoch 85/100\n",
            "3/3 - 0s - loss: 0.4732 - accuracy: 0.8817 - val_loss: 0.5520 - val_accuracy: 0.7073 - 51ms/epoch - 17ms/step\n",
            "Epoch 86/100\n",
            "3/3 - 0s - loss: 0.4707 - accuracy: 0.8817 - val_loss: 0.5505 - val_accuracy: 0.7073 - 79ms/epoch - 26ms/step\n",
            "Epoch 87/100\n",
            "3/3 - 0s - loss: 0.4682 - accuracy: 0.8817 - val_loss: 0.5487 - val_accuracy: 0.7073 - 46ms/epoch - 15ms/step\n",
            "Epoch 88/100\n",
            "3/3 - 0s - loss: 0.4657 - accuracy: 0.8817 - val_loss: 0.5468 - val_accuracy: 0.7317 - 63ms/epoch - 21ms/step\n",
            "Epoch 89/100\n",
            "3/3 - 0s - loss: 0.4632 - accuracy: 0.8925 - val_loss: 0.5448 - val_accuracy: 0.7561 - 48ms/epoch - 16ms/step\n",
            "Epoch 90/100\n",
            "3/3 - 0s - loss: 0.4606 - accuracy: 0.8925 - val_loss: 0.5429 - val_accuracy: 0.7561 - 46ms/epoch - 15ms/step\n",
            "Epoch 91/100\n",
            "3/3 - 0s - loss: 0.4579 - accuracy: 0.9032 - val_loss: 0.5411 - val_accuracy: 0.7805 - 63ms/epoch - 21ms/step\n",
            "Epoch 92/100\n",
            "3/3 - 0s - loss: 0.4553 - accuracy: 0.9032 - val_loss: 0.5391 - val_accuracy: 0.7805 - 66ms/epoch - 22ms/step\n",
            "Epoch 93/100\n",
            "3/3 - 0s - loss: 0.4527 - accuracy: 0.9032 - val_loss: 0.5370 - val_accuracy: 0.7805 - 78ms/epoch - 26ms/step\n",
            "Epoch 94/100\n",
            "3/3 - 0s - loss: 0.4502 - accuracy: 0.9032 - val_loss: 0.5346 - val_accuracy: 0.7805 - 83ms/epoch - 28ms/step\n",
            "Epoch 95/100\n",
            "3/3 - 0s - loss: 0.4476 - accuracy: 0.9140 - val_loss: 0.5320 - val_accuracy: 0.7805 - 87ms/epoch - 29ms/step\n",
            "Epoch 96/100\n",
            "3/3 - 0s - loss: 0.4450 - accuracy: 0.9140 - val_loss: 0.5294 - val_accuracy: 0.7805 - 69ms/epoch - 23ms/step\n",
            "Epoch 97/100\n",
            "3/3 - 0s - loss: 0.4424 - accuracy: 0.9247 - val_loss: 0.5270 - val_accuracy: 0.7805 - 73ms/epoch - 24ms/step\n",
            "Epoch 98/100\n",
            "3/3 - 0s - loss: 0.4398 - accuracy: 0.9247 - val_loss: 0.5247 - val_accuracy: 0.7805 - 46ms/epoch - 15ms/step\n",
            "Epoch 99/100\n",
            "3/3 - 0s - loss: 0.4372 - accuracy: 0.9247 - val_loss: 0.5226 - val_accuracy: 0.7805 - 64ms/epoch - 21ms/step\n",
            "Epoch 100/100\n",
            "3/3 - 0s - loss: 0.4346 - accuracy: 0.9247 - val_loss: 0.5209 - val_accuracy: 0.7805 - 65ms/epoch - 22ms/step\n"
          ]
        }
      ]
    },
    {
      "cell_type": "code",
      "metadata": {
        "id": "ay2zyrMnxVG-",
        "colab": {
          "base_uri": "https://localhost:8080/"
        },
        "outputId": "220f20ea-7ade-43d2-bdcf-30816d637f4f"
      },
      "source": [
        "# evaluate the model\n",
        "loss, acc = model1.evaluate(X_test, y_test, verbose=0)\n",
        "print('Test Accuracy: %.3f' % acc)"
      ],
      "execution_count": null,
      "outputs": [
        {
          "output_type": "stream",
          "name": "stdout",
          "text": [
            "Test Accuracy: 0.862\n"
          ]
        }
      ]
    },
    {
      "cell_type": "code",
      "metadata": {
        "colab": {
          "base_uri": "https://localhost:8080/",
          "height": 447
        },
        "id": "aGvags6QYzwP",
        "outputId": "ac72beba-d803-4a2a-9bad-fa426702c996"
      },
      "source": [
        "import matplotlib.pyplot as plt\n",
        "plt.plot(history.history['loss']) # loss is training loss\n",
        "plt.plot(history.history['val_loss']) # val_loss loss on the validation data / test loss"
      ],
      "execution_count": null,
      "outputs": [
        {
          "output_type": "execute_result",
          "data": {
            "text/plain": [
              "[<matplotlib.lines.Line2D at 0x7e8506a9fdf0>]"
            ]
          },
          "metadata": {},
          "execution_count": 38
        },
        {
          "output_type": "display_data",
          "data": {
            "text/plain": [
              "<Figure size 640x480 with 1 Axes>"
            ],
            "image/png": "[encoded data removed]"
          },
          "metadata": {}
        }
      ]
    },
    {
      "cell_type": "markdown",
      "metadata": {
        "id": "3A3UVQcSaI-O"
      },
      "source": [
        "# Create another model"
      ]
    },
    {
      "cell_type": "code",
      "metadata": {
        "id": "ZhbxOkDSaIfM"
      },
      "source": [
        "# define model\n",
        "model1 = Sequential()\n",
        "model1.add(Dense(5, activation='relu', input_shape=(n_features,)))\n",
        "# model1.add(Dense(100, activation='relu'))\n",
        "# model1.add(Dense(800, activation='relu'))\n",
        "# model1.add(Dense(8, activation='relu'))\n",
        "# model1.add(Dropout(0.2))\n",
        "model1.add(Dense(1, activation='sigmoid'))\n",
        "# model1.add(Dense(2, activation='softmax'))"
      ],
      "execution_count": 161,
      "outputs": []
    },
    {
      "cell_type": "code",
      "metadata": {
        "id": "ChlfSurbjpX7"
      },
      "source": [
        "\n",
        "model1 = build_model()"
      ],
      "execution_count": 162,
      "outputs": []
    },
    {
      "cell_type": "code",
      "metadata": {
        "id": "F8GUsA9DZoEe"
      },
      "source": [
        "# compile the model\n",
        "model1.compile(optimizer='adam', loss='binary_crossentropy', metrics=['accuracy'])"
      ],
      "execution_count": 163,
      "outputs": []
    },
    {
      "cell_type": "code",
      "metadata": {
        "id": "v90HLVlXarfT"
      },
      "source": [
        "# fit the model\n",
        "history = model1.fit(X_train, y_train, epochs=100, batch_size=32, validation_split=0.3, verbose=0,shuffle=False)"
      ],
      "execution_count": 164,
      "outputs": []
    },
    {
      "cell_type": "code",
      "metadata": {
        "colab": {
          "base_uri": "https://localhost:8080/"
        },
        "id": "Dqybqu3Bauu0",
        "outputId": "8000bbf0-013c-4bc1-8874-f891f77d3fe3"
      },
      "source": [
        "\n",
        "# evaluate the model\n",
        "loss, acc = model1.evaluate(X_test, y_test, verbose=0)\n",
        "print('Test Accuracy: %.3f' % acc)"
      ],
      "execution_count": 165,
      "outputs": [
        {
          "output_type": "stream",
          "name": "stdout",
          "text": [
            "Test Accuracy: 0.207\n"
          ]
        }
      ]
    },
    {
      "cell_type": "code",
      "metadata": {
        "colab": {
          "base_uri": "https://localhost:8080/",
          "height": 447
        },
        "id": "RFNzvWrdaxet",
        "outputId": "f362d831-f107-486d-bd9c-375bb72ae754"
      },
      "source": [
        "\n",
        "\n",
        "import matplotlib.pyplot as plt\n",
        "plt.plot(history.history['loss'])\n",
        "plt.plot(history.history['val_loss'])"
      ],
      "execution_count": 166,
      "outputs": [
        {
          "output_type": "execute_result",
          "data": {
            "text/plain": [
              "[<matplotlib.lines.Line2D at 0x7e850f668d60>]"
            ]
          },
          "metadata": {},
          "execution_count": 166
        },
        {
          "output_type": "display_data",
          "data": {
            "text/plain": [
              "<Figure size 640x480 with 1 Axes>"
            ],
            "image/png": "[encoded data removed]"
          },
          "metadata": {}
        }
      ]
    },
    {
      "cell_type": "markdown",
      "metadata": {
        "id": "ZtbWdawRhqyK"
      },
      "source": [
        "# DO multiple iterations to get average performance"
      ]
    },
    {
      "cell_type": "code",
      "source": [
        "from sklearn.metrics import f1_score\n",
        "import tensorflow as tf"
      ],
      "metadata": {
        "id": "xbTos4eVtROa"
      },
      "execution_count": null,
      "outputs": []
    },
    {
      "cell_type": "code",
      "metadata": {
        "colab": {
          "base_uri": "https://localhost:8080/"
        },
        "id": "O7lCG1via0ig",
        "outputId": "568ae225-a6d9-48b3-f15e-8aad03518518"
      },
      "source": [
        "for i in range(10):\n",
        "  model1 = build_model()\n",
        "  model1.compile(optimizer='adam', loss='binary_crossentropy', metrics=['accuracy',\n",
        "                                                                  tf.keras.metrics.Precision()])\n",
        "  history = model1.fit(X_train, y_train, epochs=100, batch_size=32,\n",
        "                       validation_split=0.3, verbose=0,shuffle=False)\n",
        "  loss, acc, precision = model1.evaluate(X_test, y_test, verbose=0)\n",
        "  print(i, 'th Iteration Test Accuracy and precision: ', acc, precision)\n"
      ],
      "execution_count": null,
      "outputs": [
        {
          "output_type": "stream",
          "name": "stdout",
          "text": [
            "0 th Iteration Test Accuracy and precision:  1.0 1.0\n",
            "1 th Iteration Test Accuracy and precision:  0.8620689511299133 0.800000011920929\n",
            "2 th Iteration Test Accuracy and precision:  1.0 1.0\n",
            "3 th Iteration Test Accuracy and precision:  1.0 1.0\n",
            "4 th Iteration Test Accuracy and precision:  1.0 1.0\n",
            "5 th Iteration Test Accuracy and precision:  1.0 1.0\n",
            "6 th Iteration Test Accuracy and precision:  1.0 1.0\n",
            "7 th Iteration Test Accuracy and precision:  1.0 1.0\n",
            "8 th Iteration Test Accuracy and precision:  1.0 1.0\n",
            "9 th Iteration Test Accuracy and precision:  1.0 1.0\n"
          ]
        }
      ]
    },
    {
      "cell_type": "markdown",
      "source": [
        "# Why we get variation in accuracy ?\n",
        "\n",
        "because we randomly initialise the weights\n",
        "\n",
        "weights are initialised using uniform distribution between 0-1 value randomly"
      ],
      "metadata": {
        "id": "V-g9zSE-9Qa7"
      }
    },
    {
      "cell_type": "code",
      "metadata": {
        "id": "vb65suMZg9xU"
      },
      "source": [],
      "execution_count": null,
      "outputs": []
    }
  ]
}