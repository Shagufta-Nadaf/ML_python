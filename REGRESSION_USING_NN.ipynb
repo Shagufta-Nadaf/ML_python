{
  "nbformat": 4,
  "nbformat_minor": 0,
  "metadata": {
    "colab": {
      "provenance": []
    },
    "kernelspec": {
      "name": "python3",
      "display_name": "Python 3"
    },
    "language_info": {
      "name": "python"
    }
  },
  "cells": [
    {
      "cell_type": "code",
      "execution_count": 146,
      "metadata": {
        "id": "0t1jRq9Poyha"
      },
      "outputs": [],
      "source": [
        "import pandas as pd\n",
        "from pandas import read_csv\n",
        "from sklearn.model_selection import train_test_split\n",
        "from sklearn.preprocessing import LabelEncoder\n",
        "from tensorflow.keras import Sequential\n",
        "from tensorflow.keras.layers import Dense, Dropout\n",
        "import matplotlib.pyplot as plt\n",
        "import seaborn as sns\n",
        "import mpl_toolkits\n",
        "%matplotlib inline"
      ]
    },
    {
      "cell_type": "code",
      "source": [
        "data=pd.read_csv('/content/house_price_prediction.csv')"
      ],
      "metadata": {
        "id": "D9M6XMbDo2C_"
      },
      "execution_count": 147,
      "outputs": []
    },
    {
      "cell_type": "code",
      "source": [
        "data.shape"
      ],
      "metadata": {
        "colab": {
          "base_uri": "https://localhost:8080/"
        },
        "id": "X2b_IpGwpE_6",
        "outputId": "64cef1a4-c984-4804-a938-19280effac72"
      },
      "execution_count": 148,
      "outputs": [
        {
          "output_type": "execute_result",
          "data": {
            "text/plain": [
              "(17210, 18)"
            ]
          },
          "metadata": {},
          "execution_count": 148
        }
      ]
    },
    {
      "cell_type": "code",
      "source": [
        "data.describe()"
      ],
      "metadata": {
        "colab": {
          "base_uri": "https://localhost:8080/",
          "height": 320
        },
        "id": "M_IIX2P1pQQQ",
        "outputId": "6bb6f52e-402b-4f5a-c171-fe0b607ea495"
      },
      "execution_count": 149,
      "outputs": [
        {
          "output_type": "execute_result",
          "data": {
            "text/plain": [
              "              price      bedrooms   sqft_living      sqft_lot        floors  \\\n",
              "count  1.721000e+04  17210.000000  17210.000000  1.721000e+04  17210.000000   \n",
              "mean   5.391069e+05      3.373213   2080.172051  1.513545e+04      1.498605   \n",
              "std    3.674218e+05      0.927616    917.995097  4.260361e+04      0.542192   \n",
              "min    7.800000e+04      1.000000    370.000000  5.200000e+02      1.000000   \n",
              "25%    3.200000e+05      3.000000   1420.000000  5.034000e+03      1.000000   \n",
              "50%    4.500000e+05      3.000000   1910.000000  7.620000e+03      1.500000   \n",
              "75%    6.400000e+05      4.000000   2550.000000  1.070075e+04      2.000000   \n",
              "max    7.700000e+06     33.000000  13540.000000  1.651359e+06      3.500000   \n",
              "\n",
              "         waterfront     condition         grade    sqft_above  sqft_basement  \\\n",
              "count  17210.000000  17210.000000  17210.000000  17210.000000   17210.000000   \n",
              "mean       0.008077      3.409587      7.661941   1788.108077     292.063974   \n",
              "std        0.089509      0.646909      1.170044    824.994890     443.397892   \n",
              "min        0.000000      1.000000      3.000000    370.000000       0.000000   \n",
              "25%        0.000000      3.000000      7.000000   1190.000000       0.000000   \n",
              "50%        0.000000      3.000000      7.000000   1560.000000       0.000000   \n",
              "75%        0.000000      4.000000      8.000000   2210.000000     560.000000   \n",
              "max        1.000000      5.000000     13.000000   9410.000000    4820.000000   \n",
              "\n",
              "           yr_built  yr_renovated       zipcode           lat          long  \\\n",
              "count  17210.000000  17210.000000  17210.000000  17210.000000  17210.000000   \n",
              "mean    1971.285880     84.305985  98077.903661     47.559731   -122.213991   \n",
              "std       29.378191    401.454725     53.554500      0.138973      0.140486   \n",
              "min     1900.000000      0.000000  98001.000000     47.155900   -122.519000   \n",
              "25%     1952.000000      0.000000  98033.000000     47.468925   -122.328000   \n",
              "50%     1975.000000      0.000000  98065.000000     47.571900   -122.230000   \n",
              "75%     1997.000000      0.000000  98118.000000     47.678175   -122.125000   \n",
              "max     2015.000000   2015.000000  98199.000000     47.777600   -121.315000   \n",
              "\n",
              "       sqft_living15     sqft_lot15  \n",
              "count   17210.000000   17210.000000  \n",
              "mean     1987.480244   12785.612028  \n",
              "std       684.866281   27294.470122  \n",
              "min       399.000000     659.000000  \n",
              "25%      1490.000000    5100.000000  \n",
              "50%      1840.000000    7620.000000  \n",
              "75%      2368.250000   10092.000000  \n",
              "max      6210.000000  871200.000000  "
            ],
            "text/html": [
              "\n",
              "  <div id=\"df-3f2fd847-9b1f-4997-8dd3-96b700de20d2\" class=\"colab-df-container\">\n",
              "    <div>\n",
              "<style scoped>\n",
              "    .dataframe tbody tr th:only-of-type {\n",
              "        vertical-align: middle;\n",
              "    }\n",
              "\n",
              "    .dataframe tbody tr th {\n",
              "        vertical-align: top;\n",
              "    }\n",
              "\n",
              "    .dataframe thead th {\n",
              "        text-align: right;\n",
              "    }\n",
              "</style>\n",
              "<table border=\"1\" class=\"dataframe\">\n",
              "  <thead>\n",
              "    <tr style=\"text-align: right;\">\n",
              "      <th></th>\n",
              "      <th>price</th>\n",
              "      <th>bedrooms</th>\n",
              "      <th>sqft_living</th>\n",
              "      <th>sqft_lot</th>\n",
              "      <th>floors</th>\n",
              "      <th>waterfront</th>\n",
              "      <th>condition</th>\n",
              "      <th>grade</th>\n",
              "      <th>sqft_above</th>\n",
              "      <th>sqft_basement</th>\n",
              "      <th>yr_built</th>\n",
              "      <th>yr_renovated</th>\n",
              "      <th>zipcode</th>\n",
              "      <th>lat</th>\n",
              "      <th>long</th>\n",
              "      <th>sqft_living15</th>\n",
              "      <th>sqft_lot15</th>\n",
              "    </tr>\n",
              "  </thead>\n",
              "  <tbody>\n",
              "    <tr>\n",
              "      <th>count</th>\n",
              "      <td>1.721000e+04</td>\n",
              "      <td>17210.000000</td>\n",
              "      <td>17210.000000</td>\n",
              "      <td>1.721000e+04</td>\n",
              "      <td>17210.000000</td>\n",
              "      <td>17210.000000</td>\n",
              "      <td>17210.000000</td>\n",
              "      <td>17210.000000</td>\n",
              "      <td>17210.000000</td>\n",
              "      <td>17210.000000</td>\n",
              "      <td>17210.000000</td>\n",
              "      <td>17210.000000</td>\n",
              "      <td>17210.000000</td>\n",
              "      <td>17210.000000</td>\n",
              "      <td>17210.000000</td>\n",
              "      <td>17210.000000</td>\n",
              "      <td>17210.000000</td>\n",
              "    </tr>\n",
              "    <tr>\n",
              "      <th>mean</th>\n",
              "      <td>5.391069e+05</td>\n",
              "      <td>3.373213</td>\n",
              "      <td>2080.172051</td>\n",
              "      <td>1.513545e+04</td>\n",
              "      <td>1.498605</td>\n",
              "      <td>0.008077</td>\n",
              "      <td>3.409587</td>\n",
              "      <td>7.661941</td>\n",
              "      <td>1788.108077</td>\n",
              "      <td>292.063974</td>\n",
              "      <td>1971.285880</td>\n",
              "      <td>84.305985</td>\n",
              "      <td>98077.903661</td>\n",
              "      <td>47.559731</td>\n",
              "      <td>-122.213991</td>\n",
              "      <td>1987.480244</td>\n",
              "      <td>12785.612028</td>\n",
              "    </tr>\n",
              "    <tr>\n",
              "      <th>std</th>\n",
              "      <td>3.674218e+05</td>\n",
              "      <td>0.927616</td>\n",
              "      <td>917.995097</td>\n",
              "      <td>4.260361e+04</td>\n",
              "      <td>0.542192</td>\n",
              "      <td>0.089509</td>\n",
              "      <td>0.646909</td>\n",
              "      <td>1.170044</td>\n",
              "      <td>824.994890</td>\n",
              "      <td>443.397892</td>\n",
              "      <td>29.378191</td>\n",
              "      <td>401.454725</td>\n",
              "      <td>53.554500</td>\n",
              "      <td>0.138973</td>\n",
              "      <td>0.140486</td>\n",
              "      <td>684.866281</td>\n",
              "      <td>27294.470122</td>\n",
              "    </tr>\n",
              "    <tr>\n",
              "      <th>min</th>\n",
              "      <td>7.800000e+04</td>\n",
              "      <td>1.000000</td>\n",
              "      <td>370.000000</td>\n",
              "      <td>5.200000e+02</td>\n",
              "      <td>1.000000</td>\n",
              "      <td>0.000000</td>\n",
              "      <td>1.000000</td>\n",
              "      <td>3.000000</td>\n",
              "      <td>370.000000</td>\n",
              "      <td>0.000000</td>\n",
              "      <td>1900.000000</td>\n",
              "      <td>0.000000</td>\n",
              "      <td>98001.000000</td>\n",
              "      <td>47.155900</td>\n",
              "      <td>-122.519000</td>\n",
              "      <td>399.000000</td>\n",
              "      <td>659.000000</td>\n",
              "    </tr>\n",
              "    <tr>\n",
              "      <th>25%</th>\n",
              "      <td>3.200000e+05</td>\n",
              "      <td>3.000000</td>\n",
              "      <td>1420.000000</td>\n",
              "      <td>5.034000e+03</td>\n",
              "      <td>1.000000</td>\n",
              "      <td>0.000000</td>\n",
              "      <td>3.000000</td>\n",
              "      <td>7.000000</td>\n",
              "      <td>1190.000000</td>\n",
              "      <td>0.000000</td>\n",
              "      <td>1952.000000</td>\n",
              "      <td>0.000000</td>\n",
              "      <td>98033.000000</td>\n",
              "      <td>47.468925</td>\n",
              "      <td>-122.328000</td>\n",
              "      <td>1490.000000</td>\n",
              "      <td>5100.000000</td>\n",
              "    </tr>\n",
              "    <tr>\n",
              "      <th>50%</th>\n",
              "      <td>4.500000e+05</td>\n",
              "      <td>3.000000</td>\n",
              "      <td>1910.000000</td>\n",
              "      <td>7.620000e+03</td>\n",
              "      <td>1.500000</td>\n",
              "      <td>0.000000</td>\n",
              "      <td>3.000000</td>\n",
              "      <td>7.000000</td>\n",
              "      <td>1560.000000</td>\n",
              "      <td>0.000000</td>\n",
              "      <td>1975.000000</td>\n",
              "      <td>0.000000</td>\n",
              "      <td>98065.000000</td>\n",
              "      <td>47.571900</td>\n",
              "      <td>-122.230000</td>\n",
              "      <td>1840.000000</td>\n",
              "      <td>7620.000000</td>\n",
              "    </tr>\n",
              "    <tr>\n",
              "      <th>75%</th>\n",
              "      <td>6.400000e+05</td>\n",
              "      <td>4.000000</td>\n",
              "      <td>2550.000000</td>\n",
              "      <td>1.070075e+04</td>\n",
              "      <td>2.000000</td>\n",
              "      <td>0.000000</td>\n",
              "      <td>4.000000</td>\n",
              "      <td>8.000000</td>\n",
              "      <td>2210.000000</td>\n",
              "      <td>560.000000</td>\n",
              "      <td>1997.000000</td>\n",
              "      <td>0.000000</td>\n",
              "      <td>98118.000000</td>\n",
              "      <td>47.678175</td>\n",
              "      <td>-122.125000</td>\n",
              "      <td>2368.250000</td>\n",
              "      <td>10092.000000</td>\n",
              "    </tr>\n",
              "    <tr>\n",
              "      <th>max</th>\n",
              "      <td>7.700000e+06</td>\n",
              "      <td>33.000000</td>\n",
              "      <td>13540.000000</td>\n",
              "      <td>1.651359e+06</td>\n",
              "      <td>3.500000</td>\n",
              "      <td>1.000000</td>\n",
              "      <td>5.000000</td>\n",
              "      <td>13.000000</td>\n",
              "      <td>9410.000000</td>\n",
              "      <td>4820.000000</td>\n",
              "      <td>2015.000000</td>\n",
              "      <td>2015.000000</td>\n",
              "      <td>98199.000000</td>\n",
              "      <td>47.777600</td>\n",
              "      <td>-121.315000</td>\n",
              "      <td>6210.000000</td>\n",
              "      <td>871200.000000</td>\n",
              "    </tr>\n",
              "  </tbody>\n",
              "</table>\n",
              "</div>\n",
              "    <div class=\"colab-df-buttons\">\n",
              "\n",
              "  <div class=\"colab-df-container\">\n",
              "    <button class=\"colab-df-convert\" onclick=\"convertToInteractive('df-3f2fd847-9b1f-4997-8dd3-96b700de20d2')\"\n",
              "            title=\"Convert this dataframe to an interactive table.\"\n",
              "            style=\"display:none;\">\n",
              "\n",
              "  <svg xmlns=\"http://www.w3.org/2000/svg\" height=\"24px\" viewBox=\"0 -960 960 960\">\n",
              "    <path d=\"M120-120v-720h720v720H120Zm60-500h600v-160H180v160Zm220 220h160v-160H400v160Zm0 220h160v-160H400v160ZM180-400h160v-160H180v160Zm440 0h160v-160H620v160ZM180-180h160v-160H180v160Zm440 0h160v-160H620v160Z\"/>\n",
              "  </svg>\n",
              "    </button>\n",
              "\n",
              "  <style>\n",
              "    .colab-df-container {\n",
              "      display:flex;\n",
              "      gap: 12px;\n",
              "    }\n",
              "\n",
              "    .colab-df-convert {\n",
              "      background-color: #E8F0FE;\n",
              "      border: none;\n",
              "      border-radius: 50%;\n",
              "      cursor: pointer;\n",
              "      display: none;\n",
              "      fill: #1967D2;\n",
              "      height: 32px;\n",
              "      padding: 0 0 0 0;\n",
              "      width: 32px;\n",
              "    }\n",
              "\n",
              "    .colab-df-convert:hover {\n",
              "      background-color: #E2EBFA;\n",
              "      box-shadow: 0px 1px 2px rgba(60, 64, 67, 0.3), 0px 1px 3px 1px rgba(60, 64, 67, 0.15);\n",
              "      fill: #174EA6;\n",
              "    }\n",
              "\n",
              "    .colab-df-buttons div {\n",
              "      margin-bottom: 4px;\n",
              "    }\n",
              "\n",
              "    [theme=dark] .colab-df-convert {\n",
              "      background-color: #3B4455;\n",
              "      fill: #D2E3FC;\n",
              "    }\n",
              "\n",
              "    [theme=dark] .colab-df-convert:hover {\n",
              "      background-color: #434B5C;\n",
              "      box-shadow: 0px 1px 3px 1px rgba(0, 0, 0, 0.15);\n",
              "      filter: drop-shadow(0px 1px 2px rgba(0, 0, 0, 0.3));\n",
              "      fill: #FFFFFF;\n",
              "    }\n",
              "  </style>\n",
              "\n",
              "    <script>\n",
              "      const buttonEl =\n",
              "        document.querySelector('#df-3f2fd847-9b1f-4997-8dd3-96b700de20d2 button.colab-df-convert');\n",
              "      buttonEl.style.display =\n",
              "        google.colab.kernel.accessAllowed ? 'block' : 'none';\n",
              "\n",
              "      async function convertToInteractive(key) {\n",
              "        const element = document.querySelector('#df-3f2fd847-9b1f-4997-8dd3-96b700de20d2');\n",
              "        const dataTable =\n",
              "          await google.colab.kernel.invokeFunction('convertToInteractive',\n",
              "                                                    [key], {});\n",
              "        if (!dataTable) return;\n",
              "\n",
              "        const docLinkHtml = 'Like what you see? Visit the ' +\n",
              "          '<a target=\"_blank\" href=https://colab.research.google.com/notebooks/data_table.ipynb>data table notebook</a>'\n",
              "          + ' to learn more about interactive tables.';\n",
              "        element.innerHTML = '';\n",
              "        dataTable['output_type'] = 'display_data';\n",
              "        await google.colab.output.renderOutput(dataTable, element);\n",
              "        const docLink = document.createElement('div');\n",
              "        docLink.innerHTML = docLinkHtml;\n",
              "        element.appendChild(docLink);\n",
              "      }\n",
              "    </script>\n",
              "  </div>\n",
              "\n",
              "\n",
              "<div id=\"df-8d823e4b-20c0-422c-88a0-025d9ec8ca5f\">\n",
              "  <button class=\"colab-df-quickchart\" onclick=\"quickchart('df-8d823e4b-20c0-422c-88a0-025d9ec8ca5f')\"\n",
              "            title=\"Suggest charts\"\n",
              "            style=\"display:none;\">\n",
              "\n",
              "<svg xmlns=\"http://www.w3.org/2000/svg\" height=\"24px\"viewBox=\"0 0 24 24\"\n",
              "     width=\"24px\">\n",
              "    <g>\n",
              "        <path d=\"M19 3H5c-1.1 0-2 .9-2 2v14c0 1.1.9 2 2 2h14c1.1 0 2-.9 2-2V5c0-1.1-.9-2-2-2zM9 17H7v-7h2v7zm4 0h-2V7h2v10zm4 0h-2v-4h2v4z\"/>\n",
              "    </g>\n",
              "</svg>\n",
              "  </button>\n",
              "\n",
              "<style>\n",
              "  .colab-df-quickchart {\n",
              "      --bg-color: #E8F0FE;\n",
              "      --fill-color: #1967D2;\n",
              "      --hover-bg-color: #E2EBFA;\n",
              "      --hover-fill-color: #174EA6;\n",
              "      --disabled-fill-color: #AAA;\n",
              "      --disabled-bg-color: #DDD;\n",
              "  }\n",
              "\n",
              "  [theme=dark] .colab-df-quickchart {\n",
              "      --bg-color: #3B4455;\n",
              "      --fill-color: #D2E3FC;\n",
              "      --hover-bg-color: #434B5C;\n",
              "      --hover-fill-color: #FFFFFF;\n",
              "      --disabled-bg-color: #3B4455;\n",
              "      --disabled-fill-color: #666;\n",
              "  }\n",
              "\n",
              "  .colab-df-quickchart {\n",
              "    background-color: var(--bg-color);\n",
              "    border: none;\n",
              "    border-radius: 50%;\n",
              "    cursor: pointer;\n",
              "    display: none;\n",
              "    fill: var(--fill-color);\n",
              "    height: 32px;\n",
              "    padding: 0;\n",
              "    width: 32px;\n",
              "  }\n",
              "\n",
              "  .colab-df-quickchart:hover {\n",
              "    background-color: var(--hover-bg-color);\n",
              "    box-shadow: 0 1px 2px rgba(60, 64, 67, 0.3), 0 1px 3px 1px rgba(60, 64, 67, 0.15);\n",
              "    fill: var(--button-hover-fill-color);\n",
              "  }\n",
              "\n",
              "  .colab-df-quickchart-complete:disabled,\n",
              "  .colab-df-quickchart-complete:disabled:hover {\n",
              "    background-color: var(--disabled-bg-color);\n",
              "    fill: var(--disabled-fill-color);\n",
              "    box-shadow: none;\n",
              "  }\n",
              "\n",
              "  .colab-df-spinner {\n",
              "    border: 2px solid var(--fill-color);\n",
              "    border-color: transparent;\n",
              "    border-bottom-color: var(--fill-color);\n",
              "    animation:\n",
              "      spin 1s steps(1) infinite;\n",
              "  }\n",
              "\n",
              "  @keyframes spin {\n",
              "    0% {\n",
              "      border-color: transparent;\n",
              "      border-bottom-color: var(--fill-color);\n",
              "      border-left-color: var(--fill-color);\n",
              "    }\n",
              "    20% {\n",
              "      border-color: transparent;\n",
              "      border-left-color: var(--fill-color);\n",
              "      border-top-color: var(--fill-color);\n",
              "    }\n",
              "    30% {\n",
              "      border-color: transparent;\n",
              "      border-left-color: var(--fill-color);\n",
              "      border-top-color: var(--fill-color);\n",
              "      border-right-color: var(--fill-color);\n",
              "    }\n",
              "    40% {\n",
              "      border-color: transparent;\n",
              "      border-right-color: var(--fill-color);\n",
              "      border-top-color: var(--fill-color);\n",
              "    }\n",
              "    60% {\n",
              "      border-color: transparent;\n",
              "      border-right-color: var(--fill-color);\n",
              "    }\n",
              "    80% {\n",
              "      border-color: transparent;\n",
              "      border-right-color: var(--fill-color);\n",
              "      border-bottom-color: var(--fill-color);\n",
              "    }\n",
              "    90% {\n",
              "      border-color: transparent;\n",
              "      border-bottom-color: var(--fill-color);\n",
              "    }\n",
              "  }\n",
              "</style>\n",
              "\n",
              "  <script>\n",
              "    async function quickchart(key) {\n",
              "      const quickchartButtonEl =\n",
              "        document.querySelector('#' + key + ' button');\n",
              "      quickchartButtonEl.disabled = true;  // To prevent multiple clicks.\n",
              "      quickchartButtonEl.classList.add('colab-df-spinner');\n",
              "      try {\n",
              "        const charts = await google.colab.kernel.invokeFunction(\n",
              "            'suggestCharts', [key], {});\n",
              "      } catch (error) {\n",
              "        console.error('Error during call to suggestCharts:', error);\n",
              "      }\n",
              "      quickchartButtonEl.classList.remove('colab-df-spinner');\n",
              "      quickchartButtonEl.classList.add('colab-df-quickchart-complete');\n",
              "    }\n",
              "    (() => {\n",
              "      let quickchartButtonEl =\n",
              "        document.querySelector('#df-8d823e4b-20c0-422c-88a0-025d9ec8ca5f button');\n",
              "      quickchartButtonEl.style.display =\n",
              "        google.colab.kernel.accessAllowed ? 'block' : 'none';\n",
              "    })();\n",
              "  </script>\n",
              "</div>\n",
              "\n",
              "    </div>\n",
              "  </div>\n"
            ],
            "application/vnd.google.colaboratory.intrinsic+json": {
              "type": "dataframe",
              "summary": "{\n  \"name\": \"data\",\n  \"rows\": 8,\n  \"fields\": [\n    {\n      \"column\": \"price\",\n      \"properties\": {\n        \"dtype\": \"number\",\n        \"std\": 2609203.7065789243,\n        \"min\": 17210.0,\n        \"max\": 7700000.0,\n        \"num_unique_values\": 8,\n        \"samples\": [\n          539106.8507844276,\n          450000.0,\n          17210.0\n        ],\n        \"semantic_type\": \"\",\n        \"description\": \"\"\n      }\n    },\n    {\n      \"column\": \"bedrooms\",\n      \"properties\": {\n        \"dtype\": \"number\",\n        \"std\": 6082.22372163544,\n        \"min\": 0.9276159447780192,\n        \"max\": 17210.0,\n        \"num_unique_values\": 7,\n        \"samples\": [\n          17210.0,\n          3.373213248111563,\n          4.0\n        ],\n        \"semantic_type\": \"\",\n        \"description\": \"\"\n      }\n    },\n    {\n      \"column\": \"sqft_living\",\n      \"properties\": {\n        \"dtype\": \"number\",\n        \"std\": 6513.80686207944,\n        \"min\": 370.0,\n        \"max\": 17210.0,\n        \"num_unique_values\": 8,\n        \"samples\": [\n          2080.1720511330623,\n          1910.0,\n          17210.0\n        ],\n        \"semantic_type\": \"\",\n        \"description\": \"\"\n      }\n    },\n    {\n      \"column\": \"sqft_lot\",\n      \"properties\": {\n        \"dtype\": \"number\",\n        \"std\": 578993.2863734555,\n        \"min\": 520.0,\n        \"max\": 1651359.0,\n        \"num_unique_values\": 8,\n        \"samples\": [\n          15135.445554909937,\n          7620.0,\n          17210.0\n        ],\n        \"semantic_type\": \"\",\n        \"description\": \"\"\n      }\n    },\n    {\n      \"column\": \"floors\",\n      \"properties\": {\n        \"dtype\": \"number\",\n        \"std\": 6084.096273674906,\n        \"min\": 0.5421919756682915,\n        \"max\": 17210.0,\n        \"num_unique_values\": 7,\n        \"samples\": [\n          17210.0,\n          1.498605461940732,\n          2.0\n        ],\n        \"semantic_type\": \"\",\n        \"description\": \"\"\n      }\n    },\n    {\n      \"column\": \"waterfront\",\n      \"properties\": {\n        \"dtype\": \"number\",\n        \"std\": 6084.5984254545965,\n        \"min\": 0.0,\n        \"max\": 17210.0,\n        \"num_unique_values\": 5,\n        \"samples\": [\n          0.008076699593259733,\n          1.0,\n          0.08950939646920225\n        ],\n        \"semantic_type\": \"\",\n        \"description\": \"\"\n      }\n    },\n    {\n      \"column\": \"condition\",\n      \"properties\": {\n        \"dtype\": \"number\",\n        \"std\": 6083.6410172166115,\n        \"min\": 0.6469090932377214,\n        \"max\": 17210.0,\n        \"num_unique_values\": 7,\n        \"samples\": [\n          17210.0,\n          3.4095874491574665,\n          4.0\n        ],\n        \"semantic_type\": \"\",\n        \"description\": \"\"\n      }\n    },\n    {\n      \"column\": \"grade\",\n      \"properties\": {\n        \"dtype\": \"number\",\n        \"std\": 6082.289498509638,\n        \"min\": 1.1700439803228568,\n        \"max\": 17210.0,\n        \"num_unique_values\": 7,\n        \"samples\": [\n          17210.0,\n          7.661940732132481,\n          8.0\n        ],\n        \"semantic_type\": \"\",\n        \"description\": \"\"\n      }\n    },\n    {\n      \"column\": \"sqft_above\",\n      \"properties\": {\n        \"dtype\": \"number\",\n        \"std\": 5954.048277430338,\n        \"min\": 370.0,\n        \"max\": 17210.0,\n        \"num_unique_values\": 8,\n        \"samples\": [\n          1788.1080766995933,\n          1560.0,\n          17210.0\n        ],\n        \"semantic_type\": \"\",\n        \"description\": \"\"\n      }\n    },\n    {\n      \"column\": \"sqft_basement\",\n      \"properties\": {\n        \"dtype\": \"number\",\n        \"std\": 6000.028055258991,\n        \"min\": 0.0,\n        \"max\": 17210.0,\n        \"num_unique_values\": 6,\n        \"samples\": [\n          17210.0,\n          292.0639744334689,\n          4820.0\n        ],\n        \"semantic_type\": \"\",\n        \"description\": \"\"\n      }\n    },\n    {\n      \"column\": \"yr_built\",\n      \"properties\": {\n        \"dtype\": \"number\",\n        \"std\": 5528.558598840056,\n        \"min\": 29.378191331623047,\n        \"max\": 17210.0,\n        \"num_unique_values\": 8,\n        \"samples\": [\n          1971.28588030215,\n          1975.0,\n          17210.0\n        ],\n        \"semantic_type\": \"\",\n        \"description\": \"\"\n      }\n    },\n    {\n      \"column\": \"yr_renovated\",\n      \"properties\": {\n        \"dtype\": \"number\",\n        \"std\": 5998.194221423359,\n        \"min\": 0.0,\n        \"max\": 17210.0,\n        \"num_unique_values\": 5,\n        \"samples\": [\n          84.30598489250436,\n          2015.0,\n          401.4547248950974\n        ],\n        \"semantic_type\": \"\",\n        \"description\": \"\"\n      }\n    },\n    {\n      \"column\": \"zipcode\",\n      \"properties\": {\n        \"dtype\": \"number\",\n        \"std\": 41660.6952994672,\n        \"min\": 53.55450033682344,\n        \"max\": 98199.0,\n        \"num_unique_values\": 8,\n        \"samples\": [\n          98077.9036606624,\n          98065.0,\n          17210.0\n        ],\n        \"semantic_type\": \"\",\n        \"description\": \"\"\n      }\n    },\n    {\n      \"column\": \"lat\",\n      \"properties\": {\n        \"dtype\": \"number\",\n        \"std\": 6070.264099953631,\n        \"min\": 0.1389726352746794,\n        \"max\": 17210.0,\n        \"num_unique_values\": 8,\n        \"samples\": [\n          47.55973066240557,\n          47.5719,\n          17210.0\n        ],\n        \"semantic_type\": \"\",\n        \"description\": \"\"\n      }\n    },\n    {\n      \"column\": \"long\",\n      \"properties\": {\n        \"dtype\": \"number\",\n        \"std\": 6121.804768748832,\n        \"min\": -122.519,\n        \"max\": 17210.0,\n        \"num_unique_values\": 8,\n        \"samples\": [\n          -122.21399140034863,\n          -122.23,\n          17210.0\n        ],\n        \"semantic_type\": \"\",\n        \"description\": \"\"\n      }\n    },\n    {\n      \"column\": \"sqft_living15\",\n      \"properties\": {\n        \"dtype\": \"number\",\n        \"std\": 5619.094526073495,\n        \"min\": 399.0,\n        \"max\": 17210.0,\n        \"num_unique_values\": 8,\n        \"samples\": [\n          1987.4802440441604,\n          1840.0,\n          17210.0\n        ],\n        \"semantic_type\": \"\",\n        \"description\": \"\"\n      }\n    },\n    {\n      \"column\": \"sqft_lot15\",\n      \"properties\": {\n        \"dtype\": \"number\",\n        \"std\": 304044.56991844584,\n        \"min\": 659.0,\n        \"max\": 871200.0,\n        \"num_unique_values\": 8,\n        \"samples\": [\n          12785.612027890762,\n          7620.0,\n          17210.0\n        ],\n        \"semantic_type\": \"\",\n        \"description\": \"\"\n      }\n    }\n  ]\n}"
            }
          },
          "metadata": {},
          "execution_count": 149
        }
      ]
    },
    {
      "cell_type": "code",
      "source": [
        "data.drop('yr_renovated',axis=1)"
      ],
      "metadata": {
        "colab": {
          "base_uri": "https://localhost:8080/",
          "height": 496
        },
        "id": "K52nMW64vVDZ",
        "outputId": "8b82ec39-3f1e-48ee-9772-bec44b55e85b"
      },
      "execution_count": 150,
      "outputs": [
        {
          "output_type": "execute_result",
          "data": {
            "text/plain": [
              "             date   price  bedrooms  sqft_living  sqft_lot  floors  \\\n",
              "0       4/16/2015  479000         2         1730      1037     3.5   \n",
              "1      04-02-2015  525000         3         1730      1074     3.5   \n",
              "2      08-01-2014  435000         3         1440      1350     3.5   \n",
              "3       6/25/2014  563500         3         1400      1312     3.5   \n",
              "4       9/18/2014  525000         2         1310      1268     3.5   \n",
              "...           ...     ...       ...          ...       ...     ...   \n",
              "17205   2/23/2015  425000         3         1360    542322     1.0   \n",
              "17206   3/27/2015  700000         3         2530    623779     1.0   \n",
              "17207   7/30/2014  790000         2         2560    982278     1.0   \n",
              "17208  05-04-2015  190000         2          710   1164794     1.0   \n",
              "17209   3/27/2015  700000         4         1300   1651359     1.0   \n",
              "\n",
              "       waterfront  condition  grade  sqft_above  sqft_basement  yr_built  \\\n",
              "0               0          3      8        1730              0      2008   \n",
              "1               0          3      8        1730              0      2006   \n",
              "2               0          3      8        1440              0      2005   \n",
              "3               0          3      8        1400              0      2007   \n",
              "4               0          3      8        1310              0      2007   \n",
              "...           ...        ...    ...         ...            ...       ...   \n",
              "17205           0          4      7        1140            220      1955   \n",
              "17206           0          4      8        2530              0      1980   \n",
              "17207           0          3      8        2560              0      2004   \n",
              "17208           0          2      5         710              0      1915   \n",
              "17209           0          4      6        1300              0      1920   \n",
              "\n",
              "       zipcode      lat     long  sqft_living15  sqft_lot15  \n",
              "0        98118  47.5594 -122.285           1280        1026  \n",
              "1        98107  47.6692 -122.392           1370        1185  \n",
              "2        98103  47.6525 -122.345           1440        1350  \n",
              "3        98103  47.6534 -122.355           1350        1312  \n",
              "4        98103  47.6534 -122.355           1350        1288  \n",
              "...        ...      ...      ...            ...         ...  \n",
              "17205    98022  47.2069 -122.024           1700       60548  \n",
              "17206    98038  47.4188 -121.949           2120      100623  \n",
              "17207    98014  47.6955 -121.861           1620       40946  \n",
              "17208    98014  47.6888 -121.909           1680       16730  \n",
              "17209    98022  47.2313 -122.023           2560      425581  \n",
              "\n",
              "[17210 rows x 17 columns]"
            ],
            "text/html": [
              "\n",
              "  <div id=\"df-15f6fba4-fda7-46d2-98ce-2f8ba013b74e\" class=\"colab-df-container\">\n",
              "    <div>\n",
              "<style scoped>\n",
              "    .dataframe tbody tr th:only-of-type {\n",
              "        vertical-align: middle;\n",
              "    }\n",
              "\n",
              "    .dataframe tbody tr th {\n",
              "        vertical-align: top;\n",
              "    }\n",
              "\n",
              "    .dataframe thead th {\n",
              "        text-align: right;\n",
              "    }\n",
              "</style>\n",
              "<table border=\"1\" class=\"dataframe\">\n",
              "  <thead>\n",
              "    <tr style=\"text-align: right;\">\n",
              "      <th></th>\n",
              "      <th>date</th>\n",
              "      <th>price</th>\n",
              "      <th>bedrooms</th>\n",
              "      <th>sqft_living</th>\n",
              "      <th>sqft_lot</th>\n",
              "      <th>floors</th>\n",
              "      <th>waterfront</th>\n",
              "      <th>condition</th>\n",
              "      <th>grade</th>\n",
              "      <th>sqft_above</th>\n",
              "      <th>sqft_basement</th>\n",
              "      <th>yr_built</th>\n",
              "      <th>zipcode</th>\n",
              "      <th>lat</th>\n",
              "      <th>long</th>\n",
              "      <th>sqft_living15</th>\n",
              "      <th>sqft_lot15</th>\n",
              "    </tr>\n",
              "  </thead>\n",
              "  <tbody>\n",
              "    <tr>\n",
              "      <th>0</th>\n",
              "      <td>4/16/2015</td>\n",
              "      <td>479000</td>\n",
              "      <td>2</td>\n",
              "      <td>1730</td>\n",
              "      <td>1037</td>\n",
              "      <td>3.5</td>\n",
              "      <td>0</td>\n",
              "      <td>3</td>\n",
              "      <td>8</td>\n",
              "      <td>1730</td>\n",
              "      <td>0</td>\n",
              "      <td>2008</td>\n",
              "      <td>98118</td>\n",
              "      <td>47.5594</td>\n",
              "      <td>-122.285</td>\n",
              "      <td>1280</td>\n",
              "      <td>1026</td>\n",
              "    </tr>\n",
              "    <tr>\n",
              "      <th>1</th>\n",
              "      <td>04-02-2015</td>\n",
              "      <td>525000</td>\n",
              "      <td>3</td>\n",
              "      <td>1730</td>\n",
              "      <td>1074</td>\n",
              "      <td>3.5</td>\n",
              "      <td>0</td>\n",
              "      <td>3</td>\n",
              "      <td>8</td>\n",
              "      <td>1730</td>\n",
              "      <td>0</td>\n",
              "      <td>2006</td>\n",
              "      <td>98107</td>\n",
              "      <td>47.6692</td>\n",
              "      <td>-122.392</td>\n",
              "      <td>1370</td>\n",
              "      <td>1185</td>\n",
              "    </tr>\n",
              "    <tr>\n",
              "      <th>2</th>\n",
              "      <td>08-01-2014</td>\n",
              "      <td>435000</td>\n",
              "      <td>3</td>\n",
              "      <td>1440</td>\n",
              "      <td>1350</td>\n",
              "      <td>3.5</td>\n",
              "      <td>0</td>\n",
              "      <td>3</td>\n",
              "      <td>8</td>\n",
              "      <td>1440</td>\n",
              "      <td>0</td>\n",
              "      <td>2005</td>\n",
              "      <td>98103</td>\n",
              "      <td>47.6525</td>\n",
              "      <td>-122.345</td>\n",
              "      <td>1440</td>\n",
              "      <td>1350</td>\n",
              "    </tr>\n",
              "    <tr>\n",
              "      <th>3</th>\n",
              "      <td>6/25/2014</td>\n",
              "      <td>563500</td>\n",
              "      <td>3</td>\n",
              "      <td>1400</td>\n",
              "      <td>1312</td>\n",
              "      <td>3.5</td>\n",
              "      <td>0</td>\n",
              "      <td>3</td>\n",
              "      <td>8</td>\n",
              "      <td>1400</td>\n",
              "      <td>0</td>\n",
              "      <td>2007</td>\n",
              "      <td>98103</td>\n",
              "      <td>47.6534</td>\n",
              "      <td>-122.355</td>\n",
              "      <td>1350</td>\n",
              "      <td>1312</td>\n",
              "    </tr>\n",
              "    <tr>\n",
              "      <th>4</th>\n",
              "      <td>9/18/2014</td>\n",
              "      <td>525000</td>\n",
              "      <td>2</td>\n",
              "      <td>1310</td>\n",
              "      <td>1268</td>\n",
              "      <td>3.5</td>\n",
              "      <td>0</td>\n",
              "      <td>3</td>\n",
              "      <td>8</td>\n",
              "      <td>1310</td>\n",
              "      <td>0</td>\n",
              "      <td>2007</td>\n",
              "      <td>98103</td>\n",
              "      <td>47.6534</td>\n",
              "      <td>-122.355</td>\n",
              "      <td>1350</td>\n",
              "      <td>1288</td>\n",
              "    </tr>\n",
              "    <tr>\n",
              "      <th>...</th>\n",
              "      <td>...</td>\n",
              "      <td>...</td>\n",
              "      <td>...</td>\n",
              "      <td>...</td>\n",
              "      <td>...</td>\n",
              "      <td>...</td>\n",
              "      <td>...</td>\n",
              "      <td>...</td>\n",
              "      <td>...</td>\n",
              "      <td>...</td>\n",
              "      <td>...</td>\n",
              "      <td>...</td>\n",
              "      <td>...</td>\n",
              "      <td>...</td>\n",
              "      <td>...</td>\n",
              "      <td>...</td>\n",
              "      <td>...</td>\n",
              "    </tr>\n",
              "    <tr>\n",
              "      <th>17205</th>\n",
              "      <td>2/23/2015</td>\n",
              "      <td>425000</td>\n",
              "      <td>3</td>\n",
              "      <td>1360</td>\n",
              "      <td>542322</td>\n",
              "      <td>1.0</td>\n",
              "      <td>0</td>\n",
              "      <td>4</td>\n",
              "      <td>7</td>\n",
              "      <td>1140</td>\n",
              "      <td>220</td>\n",
              "      <td>1955</td>\n",
              "      <td>98022</td>\n",
              "      <td>47.2069</td>\n",
              "      <td>-122.024</td>\n",
              "      <td>1700</td>\n",
              "      <td>60548</td>\n",
              "    </tr>\n",
              "    <tr>\n",
              "      <th>17206</th>\n",
              "      <td>3/27/2015</td>\n",
              "      <td>700000</td>\n",
              "      <td>3</td>\n",
              "      <td>2530</td>\n",
              "      <td>623779</td>\n",
              "      <td>1.0</td>\n",
              "      <td>0</td>\n",
              "      <td>4</td>\n",
              "      <td>8</td>\n",
              "      <td>2530</td>\n",
              "      <td>0</td>\n",
              "      <td>1980</td>\n",
              "      <td>98038</td>\n",
              "      <td>47.4188</td>\n",
              "      <td>-121.949</td>\n",
              "      <td>2120</td>\n",
              "      <td>100623</td>\n",
              "    </tr>\n",
              "    <tr>\n",
              "      <th>17207</th>\n",
              "      <td>7/30/2014</td>\n",
              "      <td>790000</td>\n",
              "      <td>2</td>\n",
              "      <td>2560</td>\n",
              "      <td>982278</td>\n",
              "      <td>1.0</td>\n",
              "      <td>0</td>\n",
              "      <td>3</td>\n",
              "      <td>8</td>\n",
              "      <td>2560</td>\n",
              "      <td>0</td>\n",
              "      <td>2004</td>\n",
              "      <td>98014</td>\n",
              "      <td>47.6955</td>\n",
              "      <td>-121.861</td>\n",
              "      <td>1620</td>\n",
              "      <td>40946</td>\n",
              "    </tr>\n",
              "    <tr>\n",
              "      <th>17208</th>\n",
              "      <td>05-04-2015</td>\n",
              "      <td>190000</td>\n",
              "      <td>2</td>\n",
              "      <td>710</td>\n",
              "      <td>1164794</td>\n",
              "      <td>1.0</td>\n",
              "      <td>0</td>\n",
              "      <td>2</td>\n",
              "      <td>5</td>\n",
              "      <td>710</td>\n",
              "      <td>0</td>\n",
              "      <td>1915</td>\n",
              "      <td>98014</td>\n",
              "      <td>47.6888</td>\n",
              "      <td>-121.909</td>\n",
              "      <td>1680</td>\n",
              "      <td>16730</td>\n",
              "    </tr>\n",
              "    <tr>\n",
              "      <th>17209</th>\n",
              "      <td>3/27/2015</td>\n",
              "      <td>700000</td>\n",
              "      <td>4</td>\n",
              "      <td>1300</td>\n",
              "      <td>1651359</td>\n",
              "      <td>1.0</td>\n",
              "      <td>0</td>\n",
              "      <td>4</td>\n",
              "      <td>6</td>\n",
              "      <td>1300</td>\n",
              "      <td>0</td>\n",
              "      <td>1920</td>\n",
              "      <td>98022</td>\n",
              "      <td>47.2313</td>\n",
              "      <td>-122.023</td>\n",
              "      <td>2560</td>\n",
              "      <td>425581</td>\n",
              "    </tr>\n",
              "  </tbody>\n",
              "</table>\n",
              "<p>17210 rows × 17 columns</p>\n",
              "</div>\n",
              "    <div class=\"colab-df-buttons\">\n",
              "\n",
              "  <div class=\"colab-df-container\">\n",
              "    <button class=\"colab-df-convert\" onclick=\"convertToInteractive('df-15f6fba4-fda7-46d2-98ce-2f8ba013b74e')\"\n",
              "            title=\"Convert this dataframe to an interactive table.\"\n",
              "            style=\"display:none;\">\n",
              "\n",
              "  <svg xmlns=\"http://www.w3.org/2000/svg\" height=\"24px\" viewBox=\"0 -960 960 960\">\n",
              "    <path d=\"M120-120v-720h720v720H120Zm60-500h600v-160H180v160Zm220 220h160v-160H400v160Zm0 220h160v-160H400v160ZM180-400h160v-160H180v160Zm440 0h160v-160H620v160ZM180-180h160v-160H180v160Zm440 0h160v-160H620v160Z\"/>\n",
              "  </svg>\n",
              "    </button>\n",
              "\n",
              "  <style>\n",
              "    .colab-df-container {\n",
              "      display:flex;\n",
              "      gap: 12px;\n",
              "    }\n",
              "\n",
              "    .colab-df-convert {\n",
              "      background-color: #E8F0FE;\n",
              "      border: none;\n",
              "      border-radius: 50%;\n",
              "      cursor: pointer;\n",
              "      display: none;\n",
              "      fill: #1967D2;\n",
              "      height: 32px;\n",
              "      padding: 0 0 0 0;\n",
              "      width: 32px;\n",
              "    }\n",
              "\n",
              "    .colab-df-convert:hover {\n",
              "      background-color: #E2EBFA;\n",
              "      box-shadow: 0px 1px 2px rgba(60, 64, 67, 0.3), 0px 1px 3px 1px rgba(60, 64, 67, 0.15);\n",
              "      fill: #174EA6;\n",
              "    }\n",
              "\n",
              "    .colab-df-buttons div {\n",
              "      margin-bottom: 4px;\n",
              "    }\n",
              "\n",
              "    [theme=dark] .colab-df-convert {\n",
              "      background-color: #3B4455;\n",
              "      fill: #D2E3FC;\n",
              "    }\n",
              "\n",
              "    [theme=dark] .colab-df-convert:hover {\n",
              "      background-color: #434B5C;\n",
              "      box-shadow: 0px 1px 3px 1px rgba(0, 0, 0, 0.15);\n",
              "      filter: drop-shadow(0px 1px 2px rgba(0, 0, 0, 0.3));\n",
              "      fill: #FFFFFF;\n",
              "    }\n",
              "  </style>\n",
              "\n",
              "    <script>\n",
              "      const buttonEl =\n",
              "        document.querySelector('#df-15f6fba4-fda7-46d2-98ce-2f8ba013b74e button.colab-df-convert');\n",
              "      buttonEl.style.display =\n",
              "        google.colab.kernel.accessAllowed ? 'block' : 'none';\n",
              "\n",
              "      async function convertToInteractive(key) {\n",
              "        const element = document.querySelector('#df-15f6fba4-fda7-46d2-98ce-2f8ba013b74e');\n",
              "        const dataTable =\n",
              "          await google.colab.kernel.invokeFunction('convertToInteractive',\n",
              "                                                    [key], {});\n",
              "        if (!dataTable) return;\n",
              "\n",
              "        const docLinkHtml = 'Like what you see? Visit the ' +\n",
              "          '<a target=\"_blank\" href=https://colab.research.google.com/notebooks/data_table.ipynb>data table notebook</a>'\n",
              "          + ' to learn more about interactive tables.';\n",
              "        element.innerHTML = '';\n",
              "        dataTable['output_type'] = 'display_data';\n",
              "        await google.colab.output.renderOutput(dataTable, element);\n",
              "        const docLink = document.createElement('div');\n",
              "        docLink.innerHTML = docLinkHtml;\n",
              "        element.appendChild(docLink);\n",
              "      }\n",
              "    </script>\n",
              "  </div>\n",
              "\n",
              "\n",
              "<div id=\"df-8672160c-f502-4f4c-8eb8-d39f64d5e717\">\n",
              "  <button class=\"colab-df-quickchart\" onclick=\"quickchart('df-8672160c-f502-4f4c-8eb8-d39f64d5e717')\"\n",
              "            title=\"Suggest charts\"\n",
              "            style=\"display:none;\">\n",
              "\n",
              "<svg xmlns=\"http://www.w3.org/2000/svg\" height=\"24px\"viewBox=\"0 0 24 24\"\n",
              "     width=\"24px\">\n",
              "    <g>\n",
              "        <path d=\"M19 3H5c-1.1 0-2 .9-2 2v14c0 1.1.9 2 2 2h14c1.1 0 2-.9 2-2V5c0-1.1-.9-2-2-2zM9 17H7v-7h2v7zm4 0h-2V7h2v10zm4 0h-2v-4h2v4z\"/>\n",
              "    </g>\n",
              "</svg>\n",
              "  </button>\n",
              "\n",
              "<style>\n",
              "  .colab-df-quickchart {\n",
              "      --bg-color: #E8F0FE;\n",
              "      --fill-color: #1967D2;\n",
              "      --hover-bg-color: #E2EBFA;\n",
              "      --hover-fill-color: #174EA6;\n",
              "      --disabled-fill-color: #AAA;\n",
              "      --disabled-bg-color: #DDD;\n",
              "  }\n",
              "\n",
              "  [theme=dark] .colab-df-quickchart {\n",
              "      --bg-color: #3B4455;\n",
              "      --fill-color: #D2E3FC;\n",
              "      --hover-bg-color: #434B5C;\n",
              "      --hover-fill-color: #FFFFFF;\n",
              "      --disabled-bg-color: #3B4455;\n",
              "      --disabled-fill-color: #666;\n",
              "  }\n",
              "\n",
              "  .colab-df-quickchart {\n",
              "    background-color: var(--bg-color);\n",
              "    border: none;\n",
              "    border-radius: 50%;\n",
              "    cursor: pointer;\n",
              "    display: none;\n",
              "    fill: var(--fill-color);\n",
              "    height: 32px;\n",
              "    padding: 0;\n",
              "    width: 32px;\n",
              "  }\n",
              "\n",
              "  .colab-df-quickchart:hover {\n",
              "    background-color: var(--hover-bg-color);\n",
              "    box-shadow: 0 1px 2px rgba(60, 64, 67, 0.3), 0 1px 3px 1px rgba(60, 64, 67, 0.15);\n",
              "    fill: var(--button-hover-fill-color);\n",
              "  }\n",
              "\n",
              "  .colab-df-quickchart-complete:disabled,\n",
              "  .colab-df-quickchart-complete:disabled:hover {\n",
              "    background-color: var(--disabled-bg-color);\n",
              "    fill: var(--disabled-fill-color);\n",
              "    box-shadow: none;\n",
              "  }\n",
              "\n",
              "  .colab-df-spinner {\n",
              "    border: 2px solid var(--fill-color);\n",
              "    border-color: transparent;\n",
              "    border-bottom-color: var(--fill-color);\n",
              "    animation:\n",
              "      spin 1s steps(1) infinite;\n",
              "  }\n",
              "\n",
              "  @keyframes spin {\n",
              "    0% {\n",
              "      border-color: transparent;\n",
              "      border-bottom-color: var(--fill-color);\n",
              "      border-left-color: var(--fill-color);\n",
              "    }\n",
              "    20% {\n",
              "      border-color: transparent;\n",
              "      border-left-color: var(--fill-color);\n",
              "      border-top-color: var(--fill-color);\n",
              "    }\n",
              "    30% {\n",
              "      border-color: transparent;\n",
              "      border-left-color: var(--fill-color);\n",
              "      border-top-color: var(--fill-color);\n",
              "      border-right-color: var(--fill-color);\n",
              "    }\n",
              "    40% {\n",
              "      border-color: transparent;\n",
              "      border-right-color: var(--fill-color);\n",
              "      border-top-color: var(--fill-color);\n",
              "    }\n",
              "    60% {\n",
              "      border-color: transparent;\n",
              "      border-right-color: var(--fill-color);\n",
              "    }\n",
              "    80% {\n",
              "      border-color: transparent;\n",
              "      border-right-color: var(--fill-color);\n",
              "      border-bottom-color: var(--fill-color);\n",
              "    }\n",
              "    90% {\n",
              "      border-color: transparent;\n",
              "      border-bottom-color: var(--fill-color);\n",
              "    }\n",
              "  }\n",
              "</style>\n",
              "\n",
              "  <script>\n",
              "    async function quickchart(key) {\n",
              "      const quickchartButtonEl =\n",
              "        document.querySelector('#' + key + ' button');\n",
              "      quickchartButtonEl.disabled = true;  // To prevent multiple clicks.\n",
              "      quickchartButtonEl.classList.add('colab-df-spinner');\n",
              "      try {\n",
              "        const charts = await google.colab.kernel.invokeFunction(\n",
              "            'suggestCharts', [key], {});\n",
              "      } catch (error) {\n",
              "        console.error('Error during call to suggestCharts:', error);\n",
              "      }\n",
              "      quickchartButtonEl.classList.remove('colab-df-spinner');\n",
              "      quickchartButtonEl.classList.add('colab-df-quickchart-complete');\n",
              "    }\n",
              "    (() => {\n",
              "      let quickchartButtonEl =\n",
              "        document.querySelector('#df-8672160c-f502-4f4c-8eb8-d39f64d5e717 button');\n",
              "      quickchartButtonEl.style.display =\n",
              "        google.colab.kernel.accessAllowed ? 'block' : 'none';\n",
              "    })();\n",
              "  </script>\n",
              "</div>\n",
              "\n",
              "    </div>\n",
              "  </div>\n"
            ],
            "application/vnd.google.colaboratory.intrinsic+json": {
              "type": "dataframe",
              "summary": "{\n  \"name\": \"data\",\n  \"rows\": 17210,\n  \"fields\": [\n    {\n      \"column\": \"date\",\n      \"properties\": {\n        \"dtype\": \"category\",\n        \"num_unique_values\": 366,\n        \"samples\": [\n          \"06-10-2014\",\n          \"06-05-2014\",\n          \"9/21/2014\"\n        ],\n        \"semantic_type\": \"\",\n        \"description\": \"\"\n      }\n    },\n    {\n      \"column\": \"price\",\n      \"properties\": {\n        \"dtype\": \"number\",\n        \"std\": 367421,\n        \"min\": 78000,\n        \"max\": 7700000,\n        \"num_unique_values\": 3206,\n        \"samples\": [\n          377000,\n          238950,\n          159075\n        ],\n        \"semantic_type\": \"\",\n        \"description\": \"\"\n      }\n    },\n    {\n      \"column\": \"bedrooms\",\n      \"properties\": {\n        \"dtype\": \"number\",\n        \"std\": 0,\n        \"min\": 1,\n        \"max\": 33,\n        \"num_unique_values\": 12,\n        \"samples\": [\n          11,\n          10,\n          2\n        ],\n        \"semantic_type\": \"\",\n        \"description\": \"\"\n      }\n    },\n    {\n      \"column\": \"sqft_living\",\n      \"properties\": {\n        \"dtype\": \"number\",\n        \"std\": 917,\n        \"min\": 370,\n        \"max\": 13540,\n        \"num_unique_values\": 950,\n        \"samples\": [\n          6200,\n          2216,\n          1975\n        ],\n        \"semantic_type\": \"\",\n        \"description\": \"\"\n      }\n    },\n    {\n      \"column\": \"sqft_lot\",\n      \"properties\": {\n        \"dtype\": \"number\",\n        \"std\": 42603,\n        \"min\": 520,\n        \"max\": 1651359,\n        \"num_unique_values\": 8514,\n        \"samples\": [\n          24603,\n          29078,\n          5410\n        ],\n        \"semantic_type\": \"\",\n        \"description\": \"\"\n      }\n    },\n    {\n      \"column\": \"floors\",\n      \"properties\": {\n        \"dtype\": \"number\",\n        \"std\": 0.5421919756682915,\n        \"min\": 1.0,\n        \"max\": 3.5,\n        \"num_unique_values\": 6,\n        \"samples\": [\n          3.5,\n          3.0,\n          1.0\n        ],\n        \"semantic_type\": \"\",\n        \"description\": \"\"\n      }\n    },\n    {\n      \"column\": \"waterfront\",\n      \"properties\": {\n        \"dtype\": \"number\",\n        \"std\": 0,\n        \"min\": 0,\n        \"max\": 1,\n        \"num_unique_values\": 2,\n        \"samples\": [\n          1,\n          0\n        ],\n        \"semantic_type\": \"\",\n        \"description\": \"\"\n      }\n    },\n    {\n      \"column\": \"condition\",\n      \"properties\": {\n        \"dtype\": \"number\",\n        \"std\": 0,\n        \"min\": 1,\n        \"max\": 5,\n        \"num_unique_values\": 5,\n        \"samples\": [\n          4,\n          1\n        ],\n        \"semantic_type\": \"\",\n        \"description\": \"\"\n      }\n    },\n    {\n      \"column\": \"grade\",\n      \"properties\": {\n        \"dtype\": \"number\",\n        \"std\": 1,\n        \"min\": 3,\n        \"max\": 13,\n        \"num_unique_values\": 11,\n        \"samples\": [\n          12,\n          8\n        ],\n        \"semantic_type\": \"\",\n        \"description\": \"\"\n      }\n    },\n    {\n      \"column\": \"sqft_above\",\n      \"properties\": {\n        \"dtype\": \"number\",\n        \"std\": 824,\n        \"min\": 370,\n        \"max\": 9410,\n        \"num_unique_values\": 859,\n        \"samples\": [\n          2233,\n          4060\n        ],\n        \"semantic_type\": \"\",\n        \"description\": \"\"\n      }\n    },\n    {\n      \"column\": \"sqft_basement\",\n      \"properties\": {\n        \"dtype\": \"number\",\n        \"std\": 443,\n        \"min\": 0,\n        \"max\": 4820,\n        \"num_unique_values\": 293,\n        \"samples\": [\n          1210,\n          2030\n        ],\n        \"semantic_type\": \"\",\n        \"description\": \"\"\n      }\n    },\n    {\n      \"column\": \"yr_built\",\n      \"properties\": {\n        \"dtype\": \"number\",\n        \"std\": 29,\n        \"min\": 1900,\n        \"max\": 2015,\n        \"num_unique_values\": 116,\n        \"samples\": [\n          1970,\n          1998\n        ],\n        \"semantic_type\": \"\",\n        \"description\": \"\"\n      }\n    },\n    {\n      \"column\": \"zipcode\",\n      \"properties\": {\n        \"dtype\": \"number\",\n        \"std\": 53,\n        \"min\": 98001,\n        \"max\": 98199,\n        \"num_unique_values\": 70,\n        \"samples\": [\n          98075,\n          98118\n        ],\n        \"semantic_type\": \"\",\n        \"description\": \"\"\n      }\n    },\n    {\n      \"column\": \"lat\",\n      \"properties\": {\n        \"dtype\": \"number\",\n        \"std\": 0.1389726352746794,\n        \"min\": 47.1559,\n        \"max\": 47.7776,\n        \"num_unique_values\": 4848,\n        \"samples\": [\n          47.1942,\n          47.394\n        ],\n        \"semantic_type\": \"\",\n        \"description\": \"\"\n      }\n    },\n    {\n      \"column\": \"long\",\n      \"properties\": {\n        \"dtype\": \"number\",\n        \"std\": 0.1404857094892728,\n        \"min\": -122.519,\n        \"max\": -121.315,\n        \"num_unique_values\": 721,\n        \"samples\": [\n          -122.132,\n          -121.803\n        ],\n        \"semantic_type\": \"\",\n        \"description\": \"\"\n      }\n    },\n    {\n      \"column\": \"sqft_living15\",\n      \"properties\": {\n        \"dtype\": \"number\",\n        \"std\": 684,\n        \"min\": 399,\n        \"max\": 6210,\n        \"num_unique_values\": 718,\n        \"samples\": [\n          1200,\n          2095\n        ],\n        \"semantic_type\": \"\",\n        \"description\": \"\"\n      }\n    },\n    {\n      \"column\": \"sqft_lot15\",\n      \"properties\": {\n        \"dtype\": \"number\",\n        \"std\": 27294,\n        \"min\": 659,\n        \"max\": 871200,\n        \"num_unique_values\": 7592,\n        \"samples\": [\n          1917,\n          2343\n        ],\n        \"semantic_type\": \"\",\n        \"description\": \"\"\n      }\n    }\n  ]\n}"
            }
          },
          "metadata": {},
          "execution_count": 150
        }
      ]
    },
    {
      "cell_type": "code",
      "source": [
        "data.nunique()"
      ],
      "metadata": {
        "colab": {
          "base_uri": "https://localhost:8080/"
        },
        "id": "IzY8XkKItHJb",
        "outputId": "028d42c4-78db-4573-a674-683cac16d418"
      },
      "execution_count": 151,
      "outputs": [
        {
          "output_type": "execute_result",
          "data": {
            "text/plain": [
              "date              366\n",
              "price            3206\n",
              "bedrooms           12\n",
              "sqft_living       950\n",
              "sqft_lot         8514\n",
              "floors              6\n",
              "waterfront          2\n",
              "condition           5\n",
              "grade              11\n",
              "sqft_above        859\n",
              "sqft_basement     293\n",
              "yr_built          116\n",
              "yr_renovated       70\n",
              "zipcode            70\n",
              "lat              4848\n",
              "long              721\n",
              "sqft_living15     718\n",
              "sqft_lot15       7592\n",
              "dtype: int64"
            ]
          },
          "metadata": {},
          "execution_count": 151
        }
      ]
    },
    {
      "cell_type": "code",
      "source": [
        "data.loc[:,(data.nunique()>15) & (data.columns != 'zipcode')].hist() #plotting hist of colm which are continuoues\n",
        "#to check normal dist--- shd be less outliers (box plot ) apply skewness and kurtosis for deeper o/p"
      ],
      "metadata": {
        "colab": {
          "base_uri": "https://localhost:8080/",
          "height": 643
        },
        "id": "nO5LxVNAtiO7",
        "outputId": "df587133-1d49-4668-b155-6ec092909b0e"
      },
      "execution_count": 152,
      "outputs": [
        {
          "output_type": "execute_result",
          "data": {
            "text/plain": [
              "array([[<Axes: title={'center': 'price'}>,\n",
              "        <Axes: title={'center': 'sqft_living'}>,\n",
              "        <Axes: title={'center': 'sqft_lot'}>],\n",
              "       [<Axes: title={'center': 'sqft_above'}>,\n",
              "        <Axes: title={'center': 'sqft_basement'}>,\n",
              "        <Axes: title={'center': 'yr_built'}>],\n",
              "       [<Axes: title={'center': 'yr_renovated'}>,\n",
              "        <Axes: title={'center': 'lat'}>,\n",
              "        <Axes: title={'center': 'long'}>],\n",
              "       [<Axes: title={'center': 'sqft_living15'}>,\n",
              "        <Axes: title={'center': 'sqft_lot15'}>, <Axes: >]], dtype=object)"
            ]
          },
          "metadata": {},
          "execution_count": 152
        },
        {
          "output_type": "display_data",
          "data": {
            "text/plain": [
              "<Figure size 640x480 with 12 Axes>"
            ],
            "image/png": "[encoded data removed]"
          },
          "metadata": {}
        }
      ]
    },
    {
      "cell_type": "code",
      "source": [
        "data.loc[:,(data.nunique()>15) & (data.columns != 'zipcode')].boxplot()"
      ],
      "metadata": {
        "colab": {
          "base_uri": "https://localhost:8080/",
          "height": 462
        },
        "id": "xuhENvOdugu6",
        "outputId": "81e05aa2-425a-4393-da97-db59d630d2c9"
      },
      "execution_count": 153,
      "outputs": [
        {
          "output_type": "execute_result",
          "data": {
            "text/plain": [
              "<Axes: >"
            ]
          },
          "metadata": {},
          "execution_count": 153
        },
        {
          "output_type": "display_data",
          "data": {
            "text/plain": [
              "<Figure size 640x480 with 1 Axes>"
            ],
            "image/png": "[encoded data removed]"
          },
          "metadata": {}
        }
      ]
    },
    {
      "cell_type": "code",
      "source": [
        "import matplotlib.pyplot as plt\n",
        "for col in data.columns[(data.nunique()>15) & (data.columns != 'zipcode') &\n",
        "                      (data.columns != 'date')]:\n",
        "  print(\"columns = \", col)\n",
        "  data.loc[:,[col]].boxplot()\n",
        "  plt.show()"
      ],
      "metadata": {
        "colab": {
          "base_uri": "https://localhost:8080/",
          "height": 1000
        },
        "id": "OD9QbrwTvsHo",
        "outputId": "febd1c7b-9dee-4178-dc8b-1d95b8113780"
      },
      "execution_count": 154,
      "outputs": [
        {
          "output_type": "stream",
          "name": "stdout",
          "text": [
            "columns =  price\n"
          ]
        },
        {
          "output_type": "display_data",
          "data": {
            "text/plain": [
              "<Figure size 640x480 with 1 Axes>"
            ],
            "image/png": "[encoded data removed]"
          },
          "metadata": {}
        },
        {
          "output_type": "stream",
          "name": "stdout",
          "text": [
            "columns =  sqft_living\n"
          ]
        },
        {
          "output_type": "display_data",
          "data": {
            "text/plain": [
              "<Figure size 640x480 with 1 Axes>"
            ],
            "image/png": "[encoded data removed]"
          },
          "metadata": {}
        },
        {
          "output_type": "stream",
          "name": "stdout",
          "text": [
            "columns =  sqft_lot\n"
          ]
        },
        {
          "output_type": "display_data",
          "data": {
            "text/plain": [
              "<Figure size 640x480 with 1 Axes>"
            ],
            "image/png": "[encoded data removed]"
          },
          "metadata": {}
        },
        {
          "output_type": "stream",
          "name": "stdout",
          "text": [
            "columns =  sqft_above\n"
          ]
        },
        {
          "output_type": "display_data",
          "data": {
            "text/plain": [
              "<Figure size 640x480 with 1 Axes>"
            ],
            "image/png": "[encoded data removed]"
          },
          "metadata": {}
        },
        {
          "output_type": "stream",
          "name": "stdout",
          "text": [
            "columns =  sqft_basement\n"
          ]
        },
        {
          "output_type": "display_data",
          "data": {
            "text/plain": [
              "<Figure size 640x480 with 1 Axes>"
            ],
            "image/png": "[encoded data removed]"
          },
          "metadata": {}
        },
        {
          "output_type": "stream",
          "name": "stdout",
          "text": [
            "columns =  yr_built\n"
          ]
        },
        {
          "output_type": "display_data",
          "data": {
            "text/plain": [
              "<Figure size 640x480 with 1 Axes>"
            ],
            "image/png": "[encoded data removed]"
          },
          "metadata": {}
        },
        {
          "output_type": "stream",
          "name": "stdout",
          "text": [
            "columns =  yr_renovated\n"
          ]
        },
        {
          "output_type": "display_data",
          "data": {
            "text/plain": [
              "<Figure size 640x480 with 1 Axes>"
            ],
            "image/png": "[encoded data removed]"
          },
          "metadata": {}
        },
        {
          "output_type": "stream",
          "name": "stdout",
          "text": [
            "columns =  lat\n"
          ]
        },
        {
          "output_type": "display_data",
          "data": {
            "text/plain": [
              "<Figure size 640x480 with 1 Axes>"
            ],
            "image/png": "[encoded data removed]"
          },
          "metadata": {}
        },
        {
          "output_type": "stream",
          "name": "stdout",
          "text": [
            "columns =  long\n"
          ]
        },
        {
          "output_type": "display_data",
          "data": {
            "text/plain": [
              "<Figure size 640x480 with 1 Axes>"
            ],
            "image/png": "[encoded data removed]"
          },
          "metadata": {}
        },
        {
          "output_type": "stream",
          "name": "stdout",
          "text": [
            "columns =  sqft_living15\n"
          ]
        },
        {
          "output_type": "display_data",
          "data": {
            "text/plain": [
              "<Figure size 640x480 with 1 Axes>"
            ],
            "image/png": "[encoded data removed]"
          },
          "metadata": {}
        },
        {
          "output_type": "stream",
          "name": "stdout",
          "text": [
            "columns =  sqft_lot15\n"
          ]
        },
        {
          "output_type": "display_data",
          "data": {
            "text/plain": [
              "<Figure size 640x480 with 1 Axes>"
            ],
            "image/png": "[encoded data removed]"
          },
          "metadata": {}
        }
      ]
    },
    {
      "cell_type": "code",
      "source": [
        "for col in data.columns[(data.nunique()<=15) ]:\n",
        "  print(\"columns = \", col)\n",
        "  print(data.loc[:,col].value_counts())\n",
        "  print(\"################\")"
      ],
      "metadata": {
        "colab": {
          "base_uri": "https://localhost:8080/"
        },
        "id": "jTq_TMkH5XUZ",
        "outputId": "fc8e5998-0a5e-418d-cc37-334c189cdf5f"
      },
      "execution_count": 155,
      "outputs": [
        {
          "output_type": "stream",
          "name": "stdout",
          "text": [
            "columns =  bedrooms\n",
            "bedrooms\n",
            "3     7861\n",
            "4     5478\n",
            "2     2186\n",
            "5     1285\n",
            "6      202\n",
            "1      149\n",
            "7       31\n",
            "8        8\n",
            "9        5\n",
            "10       3\n",
            "11       1\n",
            "33       1\n",
            "Name: count, dtype: int64\n",
            "################\n",
            "columns =  floors\n",
            "floors\n",
            "1.0    8448\n",
            "2.0    6584\n",
            "1.5    1530\n",
            "3.0     508\n",
            "2.5     134\n",
            "3.5       6\n",
            "Name: count, dtype: int64\n",
            "################\n",
            "columns =  waterfront\n",
            "waterfront\n",
            "0    17071\n",
            "1      139\n",
            "Name: count, dtype: int64\n",
            "################\n",
            "columns =  condition\n",
            "condition\n",
            "3    11195\n",
            "4     4531\n",
            "5     1340\n",
            "2      126\n",
            "1       18\n",
            "Name: count, dtype: int64\n",
            "################\n",
            "columns =  grade\n",
            "grade\n",
            "7     7183\n",
            "8     4879\n",
            "9     2060\n",
            "6     1568\n",
            "10     895\n",
            "11     331\n",
            "5      193\n",
            "12      69\n",
            "4       21\n",
            "13      10\n",
            "3        1\n",
            "Name: count, dtype: int64\n",
            "################\n"
          ]
        }
      ]
    },
    {
      "cell_type": "code",
      "source": [
        "data['date']=pd.to_datetime(data['date'],format='mixed')\n"
      ],
      "metadata": {
        "id": "hcJVWKbs5hUw"
      },
      "execution_count": 156,
      "outputs": []
    },
    {
      "cell_type": "code",
      "source": [
        "data.dtypes\n"
      ],
      "metadata": {
        "colab": {
          "base_uri": "https://localhost:8080/"
        },
        "id": "A1lo5SiY512t",
        "outputId": "28247f78-8a39-45d8-98f5-6a0eb568a180"
      },
      "execution_count": 157,
      "outputs": [
        {
          "output_type": "execute_result",
          "data": {
            "text/plain": [
              "date             datetime64[ns]\n",
              "price                     int64\n",
              "bedrooms                  int64\n",
              "sqft_living               int64\n",
              "sqft_lot                  int64\n",
              "floors                  float64\n",
              "waterfront                int64\n",
              "condition                 int64\n",
              "grade                     int64\n",
              "sqft_above                int64\n",
              "sqft_basement             int64\n",
              "yr_built                  int64\n",
              "yr_renovated              int64\n",
              "zipcode                   int64\n",
              "lat                     float64\n",
              "long                    float64\n",
              "sqft_living15             int64\n",
              "sqft_lot15                int64\n",
              "dtype: object"
            ]
          },
          "metadata": {},
          "execution_count": 157
        }
      ]
    },
    {
      "cell_type": "code",
      "source": [
        "data.shape"
      ],
      "metadata": {
        "colab": {
          "base_uri": "https://localhost:8080/"
        },
        "id": "s7t5K_LT6GZf",
        "outputId": "3951557f-7de0-4ef9-e5c7-59fba624e254"
      },
      "execution_count": 158,
      "outputs": [
        {
          "output_type": "execute_result",
          "data": {
            "text/plain": [
              "(17210, 18)"
            ]
          },
          "metadata": {},
          "execution_count": 158
        }
      ]
    },
    {
      "cell_type": "code",
      "source": [
        "x=data.drop('price',axis=1)\n",
        "y=data['price']"
      ],
      "metadata": {
        "id": "VbyQbq3i_AGk"
      },
      "execution_count": 159,
      "outputs": []
    },
    {
      "cell_type": "code",
      "source": [
        "x.shape,y.shape"
      ],
      "metadata": {
        "colab": {
          "base_uri": "https://localhost:8080/"
        },
        "id": "PGjweWGS_TNv",
        "outputId": "898dcc16-d7b5-456e-faff-a462dcc3ef3c"
      },
      "execution_count": 160,
      "outputs": [
        {
          "output_type": "execute_result",
          "data": {
            "text/plain": [
              "((17210, 17), (17210,))"
            ]
          },
          "metadata": {},
          "execution_count": 160
        }
      ]
    },
    {
      "cell_type": "code",
      "source": [
        "from sklearn.model_selection import train_test_split\n",
        "x_train,x_test,y_train,y_test=train_test_split(x,y,test_size=0.2,random_state=7)\n"
      ],
      "metadata": {
        "id": "OkXx42P-_k_o"
      },
      "execution_count": 161,
      "outputs": []
    },
    {
      "cell_type": "code",
      "source": [
        "x_train.shape,x_test.shape,y_train.shape,y_test.shape"
      ],
      "metadata": {
        "colab": {
          "base_uri": "https://localhost:8080/"
        },
        "id": "8v70kxL2_v6a",
        "outputId": "421da802-47bd-40be-8ea2-f8bf22153acf"
      },
      "execution_count": 162,
      "outputs": [
        {
          "output_type": "execute_result",
          "data": {
            "text/plain": [
              "((13768, 17), (3442, 17), (13768,), (3442,))"
            ]
          },
          "metadata": {},
          "execution_count": 162
        }
      ]
    },
    {
      "cell_type": "code",
      "source": [
        "cont_cols=['sqft_lot15','sqft_living15','sqft_above','sqft_basement']"
      ],
      "metadata": {
        "id": "RIyGkvqxB9Zb"
      },
      "execution_count": 163,
      "outputs": []
    },
    {
      "cell_type": "code",
      "source": [
        "from sklearn.preprocessing import PowerTransformer\n",
        "pt=PowerTransformer()\n",
        "pt.fit(x_train.loc[:,cont_cols])\n",
        "#transform for only theses 4 colm"
      ],
      "metadata": {
        "colab": {
          "base_uri": "https://localhost:8080/",
          "height": 75
        },
        "id": "SAwgNdSpCRUB",
        "outputId": "6b8cb909-d039-4c38-e068-ba2affff259a"
      },
      "execution_count": 164,
      "outputs": [
        {
          "output_type": "execute_result",
          "data": {
            "text/plain": [
              "PowerTransformer()"
            ],
            "text/html": [
              "<style>#sk-container-id-2 {color: black;background-color: white;}#sk-container-id-2 pre{padding: 0;}#sk-container-id-2 div.sk-toggleable {background-color: white;}#sk-container-id-2 label.sk-toggleable__label {cursor: pointer;display: block;width: 100%;margin-bottom: 0;padding: 0.3em;box-sizing: border-box;text-align: center;}#sk-container-id-2 label.sk-toggleable__label-arrow:before {content: \"▸\";float: left;margin-right: 0.25em;color: #696969;}#sk-container-id-2 label.sk-toggleable__label-arrow:hover:before {color: black;}#sk-container-id-2 div.sk-estimator:hover label.sk-toggleable__label-arrow:before {color: black;}#sk-container-id-2 div.sk-toggleable__content {max-height: 0;max-width: 0;overflow: hidden;text-align: left;background-color: #f0f8ff;}#sk-container-id-2 div.sk-toggleable__content pre {margin: 0.2em;color: black;border-radius: 0.25em;background-color: #f0f8ff;}#sk-container-id-2 input.sk-toggleable__control:checked~div.sk-toggleable__content {max-height: 200px;max-width: 100%;overflow: auto;}#sk-container-id-2 input.sk-toggleable__control:checked~label.sk-toggleable__label-arrow:before {content: \"▾\";}#sk-container-id-2 div.sk-estimator input.sk-toggleable__control:checked~label.sk-toggleable__label {background-color: #d4ebff;}#sk-container-id-2 div.sk-label input.sk-toggleable__control:checked~label.sk-toggleable__label {background-color: #d4ebff;}#sk-container-id-2 input.sk-hidden--visually {border: 0;clip: rect(1px 1px 1px 1px);clip: rect(1px, 1px, 1px, 1px);height: 1px;margin: -1px;overflow: hidden;padding: 0;position: absolute;width: 1px;}#sk-container-id-2 div.sk-estimator {font-family: monospace;background-color: #f0f8ff;border: 1px dotted black;border-radius: 0.25em;box-sizing: border-box;margin-bottom: 0.5em;}#sk-container-id-2 div.sk-estimator:hover {background-color: #d4ebff;}#sk-container-id-2 div.sk-parallel-item::after {content: \"\";width: 100%;border-bottom: 1px solid gray;flex-grow: 1;}#sk-container-id-2 div.sk-label:hover label.sk-toggleable__label {background-color: #d4ebff;}#sk-container-id-2 div.sk-serial::before {content: \"\";position: absolute;border-left: 1px solid gray;box-sizing: border-box;top: 0;bottom: 0;left: 50%;z-index: 0;}#sk-container-id-2 div.sk-serial {display: flex;flex-direction: column;align-items: center;background-color: white;padding-right: 0.2em;padding-left: 0.2em;position: relative;}#sk-container-id-2 div.sk-item {position: relative;z-index: 1;}#sk-container-id-2 div.sk-parallel {display: flex;align-items: stretch;justify-content: center;background-color: white;position: relative;}#sk-container-id-2 div.sk-item::before, #sk-container-id-2 div.sk-parallel-item::before {content: \"\";position: absolute;border-left: 1px solid gray;box-sizing: border-box;top: 0;bottom: 0;left: 50%;z-index: -1;}#sk-container-id-2 div.sk-parallel-item {display: flex;flex-direction: column;z-index: 1;position: relative;background-color: white;}#sk-container-id-2 div.sk-parallel-item:first-child::after {align-self: flex-end;width: 50%;}#sk-container-id-2 div.sk-parallel-item:last-child::after {align-self: flex-start;width: 50%;}#sk-container-id-2 div.sk-parallel-item:only-child::after {width: 0;}#sk-container-id-2 div.sk-dashed-wrapped {border: 1px dashed gray;margin: 0 0.4em 0.5em 0.4em;box-sizing: border-box;padding-bottom: 0.4em;background-color: white;}#sk-container-id-2 div.sk-label label {font-family: monospace;font-weight: bold;display: inline-block;line-height: 1.2em;}#sk-container-id-2 div.sk-label-container {text-align: center;}#sk-container-id-2 div.sk-container {/* jupyter's `normalize.less` sets `[hidden] { display: none; }` but bootstrap.min.css set `[hidden] { display: none !important; }` so we also need the `!important` here to be able to override the default hidden behavior on the sphinx rendered scikit-learn.org. See: https://github.com/scikit-learn/scikit-learn/issues/21755 */display: inline-block !important;position: relative;}#sk-container-id-2 div.sk-text-repr-fallback {display: none;}</style><div id=\"sk-container-id-2\" class=\"sk-top-container\"><div class=\"sk-text-repr-fallback\"><pre>PowerTransformer()</pre><b>In a Jupyter environment, please rerun this cell to show the HTML representation or trust the notebook. <br />On GitHub, the HTML representation is unable to render, please try loading this page with nbviewer.org.</b></div><div class=\"sk-container\" hidden><div class=\"sk-item\"><div class=\"sk-estimator sk-toggleable\"><input class=\"sk-toggleable__control sk-hidden--visually\" id=\"sk-estimator-id-2\" type=\"checkbox\" checked><label for=\"sk-estimator-id-2\" class=\"sk-toggleable__label sk-toggleable__label-arrow\">PowerTransformer</label><div class=\"sk-toggleable__content\"><pre>PowerTransformer()</pre></div></div></div></div></div>"
            ]
          },
          "metadata": {},
          "execution_count": 164
        }
      ]
    },
    {
      "cell_type": "code",
      "source": [
        "pt.feature_names_in_\n"
      ],
      "metadata": {
        "colab": {
          "base_uri": "https://localhost:8080/"
        },
        "id": "t0zWWGf1Ct88",
        "outputId": "d19caac7-2a0d-44cb-b5a2-0730ea0d5c41"
      },
      "execution_count": 165,
      "outputs": [
        {
          "output_type": "execute_result",
          "data": {
            "text/plain": [
              "array(['sqft_lot15', 'sqft_living15', 'sqft_above', 'sqft_basement'],\n",
              "      dtype=object)"
            ]
          },
          "metadata": {},
          "execution_count": 165
        }
      ]
    },
    {
      "cell_type": "code",
      "source": [
        "pt.lambdas_"
      ],
      "metadata": {
        "colab": {
          "base_uri": "https://localhost:8080/"
        },
        "id": "3ny74M7KDKYu",
        "outputId": "9e60e213-7d6b-4749-aba1-92c39a84bd26"
      },
      "execution_count": 166,
      "outputs": [
        {
          "output_type": "execute_result",
          "data": {
            "text/plain": [
              "array([-0.20040303, -0.21304191, -0.24033679, -0.20971686])"
            ]
          },
          "metadata": {},
          "execution_count": 166
        }
      ]
    },
    {
      "cell_type": "code",
      "source": [
        "x_train_pt=x_train.copy()\n",
        "x_train_pt.loc[:,cont_cols]=pt.transform(x_train.loc[:,cont_cols])"
      ],
      "metadata": {
        "id": "6WMh_AaLD6hY"
      },
      "execution_count": 167,
      "outputs": []
    },
    {
      "cell_type": "code",
      "source": [
        "x_train_pt.loc[:,cont_cols].hist()"
      ],
      "metadata": {
        "colab": {
          "base_uri": "https://localhost:8080/",
          "height": 521
        },
        "id": "TVTnue0RELWg",
        "outputId": "8be0c90f-0a15-40ea-a9c4-3b32cafa18b9"
      },
      "execution_count": 168,
      "outputs": [
        {
          "output_type": "execute_result",
          "data": {
            "text/plain": [
              "array([[<Axes: title={'center': 'sqft_lot15'}>,\n",
              "        <Axes: title={'center': 'sqft_living15'}>],\n",
              "       [<Axes: title={'center': 'sqft_above'}>,\n",
              "        <Axes: title={'center': 'sqft_basement'}>]], dtype=object)"
            ]
          },
          "metadata": {},
          "execution_count": 168
        },
        {
          "output_type": "display_data",
          "data": {
            "text/plain": [
              "<Figure size 640x480 with 4 Axes>"
            ],
            "image/png": "[encoded data removed]"
          },
          "metadata": {}
        }
      ]
    },
    {
      "cell_type": "markdown",
      "source": [
        "#power trans to target colm(price)\n"
      ],
      "metadata": {
        "id": "245tnNTzE3Y2"
      }
    },
    {
      "cell_type": "code",
      "source": [
        "y_train.describe()"
      ],
      "metadata": {
        "colab": {
          "base_uri": "https://localhost:8080/"
        },
        "id": "U0ejPpXBE2hA",
        "outputId": "29573b19-452e-4685-8397-afcd2456afad"
      },
      "execution_count": 169,
      "outputs": [
        {
          "output_type": "execute_result",
          "data": {
            "text/plain": [
              "count    1.376800e+04\n",
              "mean     5.388975e+05\n",
              "std      3.697166e+05\n",
              "min      7.800000e+04\n",
              "25%      3.200000e+05\n",
              "50%      4.500000e+05\n",
              "75%      6.400000e+05\n",
              "max      7.700000e+06\n",
              "Name: price, dtype: float64"
            ]
          },
          "metadata": {},
          "execution_count": 169
        }
      ]
    },
    {
      "cell_type": "code",
      "source": [
        "import numpy as np\n",
        "y_train_pt=np.log(y_train+1)#1 bez it shd not be zero\n"
      ],
      "metadata": {
        "id": "0mal47YiYdF0"
      },
      "execution_count": 170,
      "outputs": []
    },
    {
      "cell_type": "code",
      "source": [
        "y_train_pt.describe()"
      ],
      "metadata": {
        "colab": {
          "base_uri": "https://localhost:8080/"
        },
        "id": "pELFZ79wYpIT",
        "outputId": "49423927-3abc-44d1-e54a-1060efcc2cd2"
      },
      "execution_count": 171,
      "outputs": [
        {
          "output_type": "execute_result",
          "data": {
            "text/plain": [
              "count    13768.000000\n",
              "mean        13.044164\n",
              "std          0.528293\n",
              "min         11.264477\n",
              "25%         12.676079\n",
              "50%         13.017005\n",
              "75%         13.369225\n",
              "max         15.856731\n",
              "Name: price, dtype: float64"
            ]
          },
          "metadata": {},
          "execution_count": 171
        }
      ]
    },
    {
      "cell_type": "code",
      "source": [
        "y_train_pt.hist()"
      ],
      "metadata": {
        "colab": {
          "base_uri": "https://localhost:8080/",
          "height": 447
        },
        "id": "gLfAF5hQZA_s",
        "outputId": "bc0521a5-ce80-4c00-87c0-6bd41c862a88"
      },
      "execution_count": 172,
      "outputs": [
        {
          "output_type": "execute_result",
          "data": {
            "text/plain": [
              "<Axes: >"
            ]
          },
          "metadata": {},
          "execution_count": 172
        },
        {
          "output_type": "display_data",
          "data": {
            "text/plain": [
              "<Figure size 640x480 with 1 Axes>"
            ],
            "image/png": "[encoded data removed]"
          },
          "metadata": {}
        }
      ]
    },
    {
      "cell_type": "code",
      "source": [
        "y_train.hist()"
      ],
      "metadata": {
        "colab": {
          "base_uri": "https://localhost:8080/",
          "height": 465
        },
        "id": "lmhEX5x5ZE5c",
        "outputId": "a938b9b7-1131-4090-fc97-30a6dfdeea0a"
      },
      "execution_count": 173,
      "outputs": [
        {
          "output_type": "execute_result",
          "data": {
            "text/plain": [
              "<Axes: >"
            ]
          },
          "metadata": {},
          "execution_count": 173
        },
        {
          "output_type": "display_data",
          "data": {
            "text/plain": [
              "<Figure size 640x480 with 1 Axes>"
            ],
            "image/png": "[encoded data removed]"
          },
          "metadata": {}
        }
      ]
    },
    {
      "cell_type": "markdown",
      "source": [
        "FEATURE SELECTION :\n",
        "FIND TOP 4 FEATURES...\n"
      ],
      "metadata": {
        "id": "wdFY4KmtahY4"
      }
    },
    {
      "cell_type": "code",
      "source": [
        "from sklearn.feature_selection import RFE"
      ],
      "metadata": {
        "id": "6eDENEdfapYM"
      },
      "execution_count": 174,
      "outputs": []
    },
    {
      "cell_type": "code",
      "source": [],
      "metadata": {
        "id": "vwCoirPfaFHh"
      },
      "execution_count": 174,
      "outputs": []
    },
    {
      "cell_type": "code",
      "source": [
        "top_5= ['sqft_living15','sqft_above','grade','condition','bedrooms']"
      ],
      "metadata": {
        "id": "8W3t14NCbL12"
      },
      "execution_count": 175,
      "outputs": []
    },
    {
      "cell_type": "code",
      "source": [
        "x_train_pt_sel = x_train_pt.loc[:,top_5]"
      ],
      "metadata": {
        "id": "BhEHLZGvbNYI"
      },
      "execution_count": 176,
      "outputs": []
    },
    {
      "cell_type": "code",
      "source": [
        "x_train_pt_sel.shape"
      ],
      "metadata": {
        "colab": {
          "base_uri": "https://localhost:8080/"
        },
        "id": "peoGN83ibNSv",
        "outputId": "345b3858-1c33-4fca-c7b3-b7e453d4383c"
      },
      "execution_count": 177,
      "outputs": [
        {
          "output_type": "execute_result",
          "data": {
            "text/plain": [
              "(13768, 5)"
            ]
          },
          "metadata": {},
          "execution_count": 177
        }
      ]
    },
    {
      "cell_type": "markdown",
      "source": [
        "Transform and Feature select test data"
      ],
      "metadata": {
        "id": "LBoZYikKfKub"
      }
    },
    {
      "cell_type": "code",
      "source": [
        "x_test_pt = x_test.copy()\n",
        "x_test_pt.loc[:,cont_cols] = pt.transform(x_test_pt.loc[:,cont_cols])\n",
        "x_test_pt_sel = x_test_pt.loc[:,top_5]"
      ],
      "metadata": {
        "id": "PY0A_RPgbNKB"
      },
      "execution_count": 178,
      "outputs": []
    },
    {
      "cell_type": "code",
      "source": [
        "x_test_pt_sel.shape"
      ],
      "metadata": {
        "colab": {
          "base_uri": "https://localhost:8080/"
        },
        "id": "pFBPBCt4fan5",
        "outputId": "88a904b4-38b9-47fc-9706-14b270d84ca4"
      },
      "execution_count": 179,
      "outputs": [
        {
          "output_type": "execute_result",
          "data": {
            "text/plain": [
              "(3442, 5)"
            ]
          },
          "metadata": {},
          "execution_count": 179
        }
      ]
    },
    {
      "cell_type": "markdown",
      "source": [
        "creating another model"
      ],
      "metadata": {
        "id": "qsNIoeD8gN4B"
      }
    },
    {
      "cell_type": "code",
      "source": [
        "from sklearn.linear_model import Ridge"
      ],
      "metadata": {
        "id": "j6S229PGgP_o"
      },
      "execution_count": 180,
      "outputs": []
    },
    {
      "cell_type": "code",
      "source": [
        "from tensorflow.keras import Sequential\n",
        "from tensorflow.keras.layers import Dense"
      ],
      "metadata": {
        "id": "lJFsJa8lgV6A"
      },
      "execution_count": 181,
      "outputs": []
    },
    {
      "cell_type": "code",
      "source": [
        "# define model\n",
        "def build_model(n_features=5):\n",
        "  model1 = Sequential()\n",
        "  model1.add(Dense(5, activation='relu', input_shape=(n_features,)))\n",
        "  model1.add(Dense(10, activation='relu'))\n",
        "  model1.add(Dense(8, activation='relu'))\n",
        "  # model1.add(Dense(8, activation='relu'))\n",
        "  model1.add(Dense(1, activation='linear'))\n",
        "  return model1"
      ],
      "metadata": {
        "id": "VHbJ3x2VgV2n"
      },
      "execution_count": 182,
      "outputs": []
    },
    {
      "cell_type": "code",
      "source": [
        "model1 = build_model()"
      ],
      "metadata": {
        "id": "yA23CSCKgVzK"
      },
      "execution_count": 183,
      "outputs": []
    },
    {
      "cell_type": "code",
      "source": [
        "model1.summary()"
      ],
      "metadata": {
        "colab": {
          "base_uri": "https://localhost:8080/"
        },
        "id": "EmZ-Ewv0g0af",
        "outputId": "0b0ab4d8-0b3b-492c-fa02-0cfb8f995de8"
      },
      "execution_count": 184,
      "outputs": [
        {
          "output_type": "stream",
          "name": "stdout",
          "text": [
            "Model: \"sequential_4\"\n",
            "_________________________________________________________________\n",
            " Layer (type)                Output Shape              Param #   \n",
            "=================================================================\n",
            " dense_4 (Dense)             (None, 5)                 30        \n",
            "                                                                 \n",
            " dense_5 (Dense)             (None, 10)                60        \n",
            "                                                                 \n",
            " dense_6 (Dense)             (None, 8)                 88        \n",
            "                                                                 \n",
            " dense_7 (Dense)             (None, 1)                 9         \n",
            "                                                                 \n",
            "=================================================================\n",
            "Total params: 187 (748.00 Byte)\n",
            "Trainable params: 187 (748.00 Byte)\n",
            "Non-trainable params: 0 (0.00 Byte)\n",
            "_________________________________________________________________\n"
          ]
        }
      ]
    },
    {
      "cell_type": "code",
      "source": [
        "# compile the model\n",
        "model1.compile(optimizer='adam', loss='mse', metrics=['mae'])"
      ],
      "metadata": {
        "id": "tC8qVx2hgVvw"
      },
      "execution_count": 185,
      "outputs": []
    },
    {
      "cell_type": "code",
      "source": [
        "# fit the model\n",
        "history = model1.fit(x_train_pt_sel, y_train, epochs=100,\n",
        "                     batch_size=32, validation_split=0.3, verbose=0,shuffle=False)"
      ],
      "metadata": {
        "id": "VY8g5J0cg0HI"
      },
      "execution_count": 186,
      "outputs": []
    },
    {
      "cell_type": "code",
      "source": [
        "# evaluate the model\n",
        "loss, score = model1.evaluate(x_test_pt_sel, y_test, verbose=0)\n",
        "print('Test MAE: %.3f' % score)"
      ],
      "metadata": {
        "colab": {
          "base_uri": "https://localhost:8080/"
        },
        "id": "Xar467hnhpNk",
        "outputId": "2b8aa000-94f8-4112-faef-2ff35fa37935"
      },
      "execution_count": 190,
      "outputs": [
        {
          "output_type": "stream",
          "name": "stdout",
          "text": [
            "Test MAE: 178663.109\n"
          ]
        }
      ]
    },
    {
      "cell_type": "code",
      "source": [
        "import matplotlib.pyplot as plt\n",
        "plt.plot(history.history['loss'])\n",
        "plt.plot(history.history['val_loss'])"
      ],
      "metadata": {
        "colab": {
          "base_uri": "https://localhost:8080/",
          "height": 462
        },
        "id": "VGdJannChpK-",
        "outputId": "add6b163-c1a3-40bb-cc76-846f894b7ec1"
      },
      "execution_count": 191,
      "outputs": [
        {
          "output_type": "execute_result",
          "data": {
            "text/plain": [
              "[<matplotlib.lines.Line2D at 0x7dc66996e950>]"
            ]
          },
          "metadata": {},
          "execution_count": 191
        },
        {
          "output_type": "display_data",
          "data": {
            "text/plain": [
              "<Figure size 640x480 with 1 Axes>"
            ],
            "image/png": "[encoded data removed]"
          },
          "metadata": {}
        }
      ]
    },
    {
      "cell_type": "code",
      "source": [
        "model2 = build_model()"
      ],
      "metadata": {
        "id": "MTUW-nKWhpH4"
      },
      "execution_count": 192,
      "outputs": []
    },
    {
      "cell_type": "code",
      "source": [
        "model2.summary()"
      ],
      "metadata": {
        "colab": {
          "base_uri": "https://localhost:8080/"
        },
        "id": "Yrh80-7lhpEo",
        "outputId": "fb09acdc-7d3f-41bf-bf72-4c31a8957299"
      },
      "execution_count": 193,
      "outputs": [
        {
          "output_type": "stream",
          "name": "stdout",
          "text": [
            "Model: \"sequential_5\"\n",
            "_________________________________________________________________\n",
            " Layer (type)                Output Shape              Param #   \n",
            "=================================================================\n",
            " dense_8 (Dense)             (None, 5)                 30        \n",
            "                                                                 \n",
            " dense_9 (Dense)             (None, 10)                60        \n",
            "                                                                 \n",
            " dense_10 (Dense)            (None, 8)                 88        \n",
            "                                                                 \n",
            " dense_11 (Dense)            (None, 1)                 9         \n",
            "                                                                 \n",
            "=================================================================\n",
            "Total params: 187 (748.00 Byte)\n",
            "Trainable params: 187 (748.00 Byte)\n",
            "Non-trainable params: 0 (0.00 Byte)\n",
            "_________________________________________________________________\n"
          ]
        }
      ]
    },
    {
      "cell_type": "code",
      "source": [
        "model2.compile(optimizer='adam', loss='mse', metrics=['mae'])"
      ],
      "metadata": {
        "id": "3ubqhYwzh0OU"
      },
      "execution_count": 201,
      "outputs": []
    },
    {
      "cell_type": "code",
      "source": [
        "# fit the model\n",
        "history = model2.fit(x_train_pt_sel, y_train, epochs=100,\n",
        "                     batch_size=32, validation_split=0.3, verbose=0,shuffle=False)"
      ],
      "metadata": {
        "id": "g62IxKH5h0Lj"
      },
      "execution_count": 202,
      "outputs": []
    },
    {
      "cell_type": "code",
      "source": [
        "# evaluate the model\n",
        "loss, score = model1.evaluate(x_test_pt_sel, y_test, verbose=0)\n",
        "print('Test MAE: %.3f' % score)"
      ],
      "metadata": {
        "colab": {
          "base_uri": "https://localhost:8080/"
        },
        "id": "slnl7mTbh0Ix",
        "outputId": "3777292f-df6e-46ee-8b75-689f40a85801"
      },
      "execution_count": 203,
      "outputs": [
        {
          "output_type": "stream",
          "name": "stdout",
          "text": [
            "Test MAE: 172502.797\n"
          ]
        }
      ]
    },
    {
      "cell_type": "code",
      "source": [
        "import matplotlib.pyplot as plt\n",
        "plt.plot(history.history['loss'])\n",
        "plt.plot(history.history['val_loss'])"
      ],
      "metadata": {
        "colab": {
          "base_uri": "https://localhost:8080/",
          "height": 462
        },
        "id": "u6XQbWfRkQ3O",
        "outputId": "b0483273-25ed-4e4e-9a4f-778acc520de3"
      },
      "execution_count": 204,
      "outputs": [
        {
          "output_type": "execute_result",
          "data": {
            "text/plain": [
              "[<matplotlib.lines.Line2D at 0x7dc66a0aace0>]"
            ]
          },
          "metadata": {},
          "execution_count": 204
        },
        {
          "output_type": "display_data",
          "data": {
            "text/plain": [
              "<Figure size 640x480 with 1 Axes>"
            ],
            "image/png": "[encoded data removed]"
          },
          "metadata": {}
        }
      ]
    },
    {
      "cell_type": "code",
      "source": [
        "model2 = build_model()"
      ],
      "metadata": {
        "id": "513TNb79kUiW"
      },
      "execution_count": 205,
      "outputs": []
    },
    {
      "cell_type": "code",
      "source": [
        "model2.summary()"
      ],
      "metadata": {
        "colab": {
          "base_uri": "https://localhost:8080/"
        },
        "id": "w9fiuk6IkUfw",
        "outputId": "abb9f434-cdec-466b-99c3-290547da74f8"
      },
      "execution_count": 206,
      "outputs": [
        {
          "output_type": "stream",
          "name": "stdout",
          "text": [
            "Model: \"sequential_6\"\n",
            "_________________________________________________________________\n",
            " Layer (type)                Output Shape              Param #   \n",
            "=================================================================\n",
            " dense_12 (Dense)            (None, 5)                 30        \n",
            "                                                                 \n",
            " dense_13 (Dense)            (None, 10)                60        \n",
            "                                                                 \n",
            " dense_14 (Dense)            (None, 8)                 88        \n",
            "                                                                 \n",
            " dense_15 (Dense)            (None, 1)                 9         \n",
            "                                                                 \n",
            "=================================================================\n",
            "Total params: 187 (748.00 Byte)\n",
            "Trainable params: 187 (748.00 Byte)\n",
            "Non-trainable params: 0 (0.00 Byte)\n",
            "_________________________________________________________________\n"
          ]
        }
      ]
    },
    {
      "cell_type": "code",
      "source": [
        "model2.compile(optimizer='adam', loss='mse', metrics=['mae'])"
      ],
      "metadata": {
        "id": "zxcYSA4JkUc9"
      },
      "execution_count": 207,
      "outputs": []
    },
    {
      "cell_type": "code",
      "source": [
        "# fit the model\n",
        "history = model2.fit(x_train_pt_sel, y_train_pt, epochs=100,\n",
        "                     batch_size=32, validation_split=0.3, verbose=2,shuffle=False)"
      ],
      "metadata": {
        "colab": {
          "base_uri": "https://localhost:8080/"
        },
        "id": "aHAG4Ec-kUaV",
        "outputId": "e81f4ec5-4866-41dc-8866-d1f76d4c8b3b"
      },
      "execution_count": 208,
      "outputs": [
        {
          "output_type": "stream",
          "name": "stdout",
          "text": [
            "Epoch 1/100\n",
            "302/302 - 5s - loss: 70.6853 - mae: 6.6794 - val_loss: 1.1326 - val_mae: 0.8299 - 5s/epoch - 16ms/step\n",
            "Epoch 2/100\n",
            "302/302 - 1s - loss: 1.0269 - mae: 0.7694 - val_loss: 0.8790 - val_mae: 0.7323 - 783ms/epoch - 3ms/step\n",
            "Epoch 3/100\n",
            "302/302 - 1s - loss: 0.8442 - mae: 0.7046 - val_loss: 0.7578 - val_mae: 0.6822 - 809ms/epoch - 3ms/step\n",
            "Epoch 4/100\n",
            "302/302 - 1s - loss: 0.7493 - mae: 0.6685 - val_loss: 0.6897 - val_mae: 0.6527 - 833ms/epoch - 3ms/step\n",
            "Epoch 5/100\n",
            "302/302 - 1s - loss: 0.6918 - mae: 0.6452 - val_loss: 0.6423 - val_mae: 0.6313 - 669ms/epoch - 2ms/step\n",
            "Epoch 6/100\n",
            "302/302 - 1s - loss: 0.6484 - mae: 0.6262 - val_loss: 0.6029 - val_mae: 0.6122 - 682ms/epoch - 2ms/step\n",
            "Epoch 7/100\n",
            "302/302 - 1s - loss: 0.6105 - mae: 0.6079 - val_loss: 0.5667 - val_mae: 0.5936 - 672ms/epoch - 2ms/step\n",
            "Epoch 8/100\n",
            "302/302 - 1s - loss: 0.5736 - mae: 0.5891 - val_loss: 0.5283 - val_mae: 0.5728 - 800ms/epoch - 3ms/step\n",
            "Epoch 9/100\n",
            "302/302 - 1s - loss: 0.5333 - mae: 0.5676 - val_loss: 0.4859 - val_mae: 0.5492 - 1s/epoch - 4ms/step\n",
            "Epoch 10/100\n",
            "302/302 - 1s - loss: 0.4895 - mae: 0.5432 - val_loss: 0.4405 - val_mae: 0.5231 - 1s/epoch - 4ms/step\n",
            "Epoch 11/100\n",
            "302/302 - 1s - loss: 0.4439 - mae: 0.5172 - val_loss: 0.3959 - val_mae: 0.4960 - 1s/epoch - 3ms/step\n",
            "Epoch 12/100\n",
            "302/302 - 1s - loss: 0.3994 - mae: 0.4908 - val_loss: 0.3521 - val_mae: 0.4677 - 843ms/epoch - 3ms/step\n",
            "Epoch 13/100\n",
            "302/302 - 1s - loss: 0.3525 - mae: 0.4624 - val_loss: 0.3085 - val_mae: 0.4387 - 833ms/epoch - 3ms/step\n",
            "Epoch 14/100\n",
            "302/302 - 1s - loss: 0.3044 - mae: 0.4310 - val_loss: 0.2687 - val_mae: 0.4112 - 706ms/epoch - 2ms/step\n",
            "Epoch 15/100\n",
            "302/302 - 1s - loss: 0.2531 - mae: 0.3947 - val_loss: 0.2368 - val_mae: 0.3884 - 828ms/epoch - 3ms/step\n",
            "Epoch 16/100\n",
            "302/302 - 1s - loss: 0.2086 - mae: 0.3592 - val_loss: 0.2068 - val_mae: 0.3642 - 675ms/epoch - 2ms/step\n",
            "Epoch 17/100\n",
            "302/302 - 1s - loss: 0.1743 - mae: 0.3290 - val_loss: 0.1707 - val_mae: 0.3309 - 842ms/epoch - 3ms/step\n",
            "Epoch 18/100\n",
            "302/302 - 1s - loss: 0.1512 - mae: 0.3071 - val_loss: 0.1444 - val_mae: 0.3044 - 696ms/epoch - 2ms/step\n",
            "Epoch 19/100\n",
            "302/302 - 1s - loss: 0.1386 - mae: 0.2954 - val_loss: 0.1341 - val_mae: 0.2941 - 798ms/epoch - 3ms/step\n",
            "Epoch 20/100\n",
            "302/302 - 1s - loss: 0.1332 - mae: 0.2908 - val_loss: 0.1310 - val_mae: 0.2912 - 682ms/epoch - 2ms/step\n",
            "Epoch 21/100\n",
            "302/302 - 1s - loss: 0.1314 - mae: 0.2893 - val_loss: 0.1302 - val_mae: 0.2904 - 816ms/epoch - 3ms/step\n",
            "Epoch 22/100\n",
            "302/302 - 1s - loss: 0.1308 - mae: 0.2889 - val_loss: 0.1300 - val_mae: 0.2904 - 685ms/epoch - 2ms/step\n",
            "Epoch 23/100\n",
            "302/302 - 1s - loss: 0.1307 - mae: 0.2890 - val_loss: 0.1301 - val_mae: 0.2906 - 806ms/epoch - 3ms/step\n",
            "Epoch 24/100\n",
            "302/302 - 1s - loss: 0.1307 - mae: 0.2890 - val_loss: 0.1302 - val_mae: 0.2907 - 679ms/epoch - 2ms/step\n",
            "Epoch 25/100\n",
            "302/302 - 1s - loss: 0.1307 - mae: 0.2891 - val_loss: 0.1303 - val_mae: 0.2908 - 871ms/epoch - 3ms/step\n",
            "Epoch 26/100\n",
            "302/302 - 1s - loss: 0.1307 - mae: 0.2891 - val_loss: 0.1303 - val_mae: 0.2908 - 1s/epoch - 4ms/step\n",
            "Epoch 27/100\n",
            "302/302 - 1s - loss: 0.1307 - mae: 0.2891 - val_loss: 0.1303 - val_mae: 0.2908 - 1s/epoch - 4ms/step\n",
            "Epoch 28/100\n",
            "302/302 - 1s - loss: 0.1306 - mae: 0.2891 - val_loss: 0.1303 - val_mae: 0.2908 - 1s/epoch - 4ms/step\n",
            "Epoch 29/100\n",
            "302/302 - 1s - loss: 0.1306 - mae: 0.2891 - val_loss: 0.1302 - val_mae: 0.2908 - 657ms/epoch - 2ms/step\n",
            "Epoch 30/100\n",
            "302/302 - 1s - loss: 0.1306 - mae: 0.2890 - val_loss: 0.1302 - val_mae: 0.2908 - 806ms/epoch - 3ms/step\n",
            "Epoch 31/100\n",
            "302/302 - 1s - loss: 0.1306 - mae: 0.2890 - val_loss: 0.1302 - val_mae: 0.2907 - 821ms/epoch - 3ms/step\n",
            "Epoch 32/100\n",
            "302/302 - 1s - loss: 0.1306 - mae: 0.2890 - val_loss: 0.1301 - val_mae: 0.2907 - 692ms/epoch - 2ms/step\n",
            "Epoch 33/100\n",
            "302/302 - 1s - loss: 0.1306 - mae: 0.2890 - val_loss: 0.1301 - val_mae: 0.2906 - 820ms/epoch - 3ms/step\n",
            "Epoch 34/100\n",
            "302/302 - 1s - loss: 0.1305 - mae: 0.2889 - val_loss: 0.1300 - val_mae: 0.2906 - 684ms/epoch - 2ms/step\n",
            "Epoch 35/100\n",
            "302/302 - 1s - loss: 0.1305 - mae: 0.2889 - val_loss: 0.1300 - val_mae: 0.2905 - 688ms/epoch - 2ms/step\n",
            "Epoch 36/100\n",
            "302/302 - 1s - loss: 0.1305 - mae: 0.2889 - val_loss: 0.1299 - val_mae: 0.2905 - 825ms/epoch - 3ms/step\n",
            "Epoch 37/100\n",
            "302/302 - 1s - loss: 0.1305 - mae: 0.2889 - val_loss: 0.1299 - val_mae: 0.2905 - 656ms/epoch - 2ms/step\n",
            "Epoch 38/100\n",
            "302/302 - 1s - loss: 0.1304 - mae: 0.2888 - val_loss: 0.1299 - val_mae: 0.2904 - 720ms/epoch - 2ms/step\n",
            "Epoch 39/100\n",
            "302/302 - 1s - loss: 0.1304 - mae: 0.2888 - val_loss: 0.1299 - val_mae: 0.2904 - 673ms/epoch - 2ms/step\n",
            "Epoch 40/100\n",
            "302/302 - 1s - loss: 0.1304 - mae: 0.2888 - val_loss: 0.1298 - val_mae: 0.2904 - 670ms/epoch - 2ms/step\n",
            "Epoch 41/100\n",
            "302/302 - 1s - loss: 0.1304 - mae: 0.2888 - val_loss: 0.1298 - val_mae: 0.2903 - 820ms/epoch - 3ms/step\n",
            "Epoch 42/100\n",
            "302/302 - 1s - loss: 0.1304 - mae: 0.2887 - val_loss: 0.1297 - val_mae: 0.2903 - 1s/epoch - 4ms/step\n",
            "Epoch 43/100\n",
            "302/302 - 1s - loss: 0.1303 - mae: 0.2887 - val_loss: 0.1297 - val_mae: 0.2902 - 1s/epoch - 4ms/step\n",
            "Epoch 44/100\n",
            "302/302 - 1s - loss: 0.1303 - mae: 0.2887 - val_loss: 0.1296 - val_mae: 0.2902 - 1s/epoch - 4ms/step\n",
            "Epoch 45/100\n",
            "302/302 - 1s - loss: 0.1303 - mae: 0.2887 - val_loss: 0.1296 - val_mae: 0.2901 - 920ms/epoch - 3ms/step\n",
            "Epoch 46/100\n",
            "302/302 - 1s - loss: 0.1303 - mae: 0.2886 - val_loss: 0.1296 - val_mae: 0.2901 - 656ms/epoch - 2ms/step\n",
            "Epoch 47/100\n",
            "302/302 - 1s - loss: 0.1302 - mae: 0.2886 - val_loss: 0.1295 - val_mae: 0.2900 - 821ms/epoch - 3ms/step\n",
            "Epoch 48/100\n",
            "302/302 - 1s - loss: 0.1302 - mae: 0.2885 - val_loss: 0.1295 - val_mae: 0.2900 - 799ms/epoch - 3ms/step\n",
            "Epoch 49/100\n",
            "302/302 - 1s - loss: 0.1302 - mae: 0.2885 - val_loss: 0.1295 - val_mae: 0.2900 - 869ms/epoch - 3ms/step\n",
            "Epoch 50/100\n",
            "302/302 - 1s - loss: 0.1302 - mae: 0.2885 - val_loss: 0.1295 - val_mae: 0.2900 - 809ms/epoch - 3ms/step\n",
            "Epoch 51/100\n",
            "302/302 - 1s - loss: 0.1301 - mae: 0.2885 - val_loss: 0.1295 - val_mae: 0.2900 - 677ms/epoch - 2ms/step\n",
            "Epoch 52/100\n",
            "302/302 - 1s - loss: 0.1301 - mae: 0.2885 - val_loss: 0.1295 - val_mae: 0.2900 - 682ms/epoch - 2ms/step\n",
            "Epoch 53/100\n",
            "302/302 - 1s - loss: 0.1301 - mae: 0.2885 - val_loss: 0.1294 - val_mae: 0.2900 - 654ms/epoch - 2ms/step\n",
            "Epoch 54/100\n",
            "302/302 - 1s - loss: 0.1301 - mae: 0.2885 - val_loss: 0.1294 - val_mae: 0.2899 - 697ms/epoch - 2ms/step\n",
            "Epoch 55/100\n",
            "302/302 - 1s - loss: 0.1301 - mae: 0.2884 - val_loss: 0.1294 - val_mae: 0.2899 - 694ms/epoch - 2ms/step\n",
            "Epoch 56/100\n",
            "302/302 - 1s - loss: 0.1301 - mae: 0.2884 - val_loss: 0.1294 - val_mae: 0.2899 - 807ms/epoch - 3ms/step\n",
            "Epoch 57/100\n",
            "302/302 - 1s - loss: 0.1301 - mae: 0.2884 - val_loss: 0.1293 - val_mae: 0.2899 - 679ms/epoch - 2ms/step\n",
            "Epoch 58/100\n",
            "302/302 - 1s - loss: 0.1301 - mae: 0.2885 - val_loss: 0.1293 - val_mae: 0.2898 - 891ms/epoch - 3ms/step\n",
            "Epoch 59/100\n",
            "302/302 - 1s - loss: 0.1300 - mae: 0.2884 - val_loss: 0.1293 - val_mae: 0.2898 - 1s/epoch - 4ms/step\n",
            "Epoch 60/100\n",
            "302/302 - 1s - loss: 0.1300 - mae: 0.2883 - val_loss: 0.1293 - val_mae: 0.2898 - 1s/epoch - 4ms/step\n",
            "Epoch 61/100\n",
            "302/302 - 1s - loss: 0.1300 - mae: 0.2883 - val_loss: 0.1293 - val_mae: 0.2898 - 1s/epoch - 4ms/step\n",
            "Epoch 62/100\n",
            "302/302 - 1s - loss: 0.1300 - mae: 0.2883 - val_loss: 0.1292 - val_mae: 0.2898 - 684ms/epoch - 2ms/step\n",
            "Epoch 63/100\n",
            "302/302 - 1s - loss: 0.1300 - mae: 0.2882 - val_loss: 0.1292 - val_mae: 0.2897 - 826ms/epoch - 3ms/step\n",
            "Epoch 64/100\n",
            "302/302 - 1s - loss: 0.1299 - mae: 0.2882 - val_loss: 0.1292 - val_mae: 0.2897 - 819ms/epoch - 3ms/step\n",
            "Epoch 65/100\n",
            "302/302 - 1s - loss: 0.1299 - mae: 0.2882 - val_loss: 0.1292 - val_mae: 0.2897 - 813ms/epoch - 3ms/step\n",
            "Epoch 66/100\n",
            "302/302 - 1s - loss: 0.1299 - mae: 0.2882 - val_loss: 0.1292 - val_mae: 0.2897 - 696ms/epoch - 2ms/step\n",
            "Epoch 67/100\n",
            "302/302 - 1s - loss: 0.1299 - mae: 0.2881 - val_loss: 0.1292 - val_mae: 0.2897 - 680ms/epoch - 2ms/step\n",
            "Epoch 68/100\n",
            "302/302 - 1s - loss: 0.1299 - mae: 0.2881 - val_loss: 0.1291 - val_mae: 0.2896 - 670ms/epoch - 2ms/step\n",
            "Epoch 69/100\n",
            "302/302 - 1s - loss: 0.1298 - mae: 0.2881 - val_loss: 0.1291 - val_mae: 0.2896 - 685ms/epoch - 2ms/step\n",
            "Epoch 70/100\n",
            "302/302 - 1s - loss: 0.1298 - mae: 0.2881 - val_loss: 0.1291 - val_mae: 0.2896 - 707ms/epoch - 2ms/step\n",
            "Epoch 71/100\n",
            "302/302 - 1s - loss: 0.1298 - mae: 0.2881 - val_loss: 0.1291 - val_mae: 0.2896 - 1s/epoch - 4ms/step\n",
            "Epoch 72/100\n",
            "302/302 - 1s - loss: 0.1298 - mae: 0.2881 - val_loss: 0.1291 - val_mae: 0.2896 - 1s/epoch - 3ms/step\n",
            "Epoch 73/100\n",
            "302/302 - 1s - loss: 0.1298 - mae: 0.2881 - val_loss: 0.1291 - val_mae: 0.2896 - 821ms/epoch - 3ms/step\n",
            "Epoch 74/100\n",
            "302/302 - 1s - loss: 0.1298 - mae: 0.2880 - val_loss: 0.1290 - val_mae: 0.2895 - 1s/epoch - 4ms/step\n",
            "Epoch 75/100\n",
            "302/302 - 1s - loss: 0.1297 - mae: 0.2880 - val_loss: 0.1290 - val_mae: 0.2895 - 1s/epoch - 4ms/step\n",
            "Epoch 76/100\n",
            "302/302 - 1s - loss: 0.1297 - mae: 0.2880 - val_loss: 0.1290 - val_mae: 0.2895 - 1s/epoch - 4ms/step\n",
            "Epoch 77/100\n",
            "302/302 - 1s - loss: 0.1298 - mae: 0.2881 - val_loss: 0.1290 - val_mae: 0.2895 - 895ms/epoch - 3ms/step\n",
            "Epoch 78/100\n",
            "302/302 - 1s - loss: 0.1297 - mae: 0.2879 - val_loss: 0.1290 - val_mae: 0.2895 - 865ms/epoch - 3ms/step\n",
            "Epoch 79/100\n",
            "302/302 - 1s - loss: 0.1297 - mae: 0.2879 - val_loss: 0.1290 - val_mae: 0.2895 - 702ms/epoch - 2ms/step\n",
            "Epoch 80/100\n",
            "302/302 - 1s - loss: 0.1297 - mae: 0.2879 - val_loss: 0.1290 - val_mae: 0.2895 - 740ms/epoch - 2ms/step\n",
            "Epoch 81/100\n",
            "302/302 - 1s - loss: 0.1296 - mae: 0.2879 - val_loss: 0.1290 - val_mae: 0.2895 - 872ms/epoch - 3ms/step\n",
            "Epoch 82/100\n",
            "302/302 - 1s - loss: 0.1296 - mae: 0.2878 - val_loss: 0.1289 - val_mae: 0.2895 - 749ms/epoch - 2ms/step\n",
            "Epoch 83/100\n",
            "302/302 - 1s - loss: 0.1296 - mae: 0.2878 - val_loss: 0.1289 - val_mae: 0.2894 - 845ms/epoch - 3ms/step\n",
            "Epoch 84/100\n",
            "302/302 - 1s - loss: 0.1296 - mae: 0.2878 - val_loss: 0.1289 - val_mae: 0.2894 - 845ms/epoch - 3ms/step\n",
            "Epoch 85/100\n",
            "302/302 - 1s - loss: 0.1296 - mae: 0.2878 - val_loss: 0.1289 - val_mae: 0.2894 - 872ms/epoch - 3ms/step\n",
            "Epoch 86/100\n",
            "302/302 - 1s - loss: 0.1295 - mae: 0.2877 - val_loss: 0.1289 - val_mae: 0.2894 - 817ms/epoch - 3ms/step\n",
            "Epoch 87/100\n",
            "302/302 - 1s - loss: 0.1295 - mae: 0.2877 - val_loss: 0.1289 - val_mae: 0.2894 - 969ms/epoch - 3ms/step\n",
            "Epoch 88/100\n",
            "302/302 - 1s - loss: 0.1295 - mae: 0.2877 - val_loss: 0.1289 - val_mae: 0.2894 - 984ms/epoch - 3ms/step\n",
            "Epoch 89/100\n",
            "302/302 - 1s - loss: 0.1295 - mae: 0.2877 - val_loss: 0.1289 - val_mae: 0.2894 - 1s/epoch - 4ms/step\n",
            "Epoch 90/100\n",
            "302/302 - 1s - loss: 0.1295 - mae: 0.2877 - val_loss: 0.1288 - val_mae: 0.2894 - 1s/epoch - 4ms/step\n",
            "Epoch 91/100\n",
            "302/302 - 1s - loss: 0.1294 - mae: 0.2876 - val_loss: 0.1288 - val_mae: 0.2894 - 1s/epoch - 4ms/step\n",
            "Epoch 92/100\n",
            "302/302 - 1s - loss: 0.1296 - mae: 0.2878 - val_loss: 0.1288 - val_mae: 0.2893 - 847ms/epoch - 3ms/step\n",
            "Epoch 93/100\n",
            "302/302 - 1s - loss: 0.1294 - mae: 0.2876 - val_loss: 0.1288 - val_mae: 0.2893 - 867ms/epoch - 3ms/step\n",
            "Epoch 94/100\n",
            "302/302 - 1s - loss: 0.1293 - mae: 0.2875 - val_loss: 0.1288 - val_mae: 0.2893 - 741ms/epoch - 2ms/step\n",
            "Epoch 95/100\n",
            "302/302 - 1s - loss: 0.1293 - mae: 0.2875 - val_loss: 0.1288 - val_mae: 0.2893 - 884ms/epoch - 3ms/step\n",
            "Epoch 96/100\n",
            "302/302 - 1s - loss: 0.1293 - mae: 0.2875 - val_loss: 0.1287 - val_mae: 0.2893 - 872ms/epoch - 3ms/step\n",
            "Epoch 97/100\n",
            "302/302 - 1s - loss: 0.1293 - mae: 0.2875 - val_loss: 0.1287 - val_mae: 0.2893 - 751ms/epoch - 2ms/step\n",
            "Epoch 98/100\n",
            "302/302 - 1s - loss: 0.1293 - mae: 0.2875 - val_loss: 0.1287 - val_mae: 0.2893 - 866ms/epoch - 3ms/step\n",
            "Epoch 99/100\n",
            "302/302 - 1s - loss: 0.1292 - mae: 0.2874 - val_loss: 0.1287 - val_mae: 0.2893 - 884ms/epoch - 3ms/step\n",
            "Epoch 100/100\n",
            "302/302 - 1s - loss: 0.1292 - mae: 0.2874 - val_loss: 0.1287 - val_mae: 0.2893 - 716ms/epoch - 2ms/step\n"
          ]
        }
      ]
    },
    {
      "cell_type": "code",
      "source": [
        "import matplotlib.pyplot as plt\n",
        "plt.plot(history.history['loss'])\n",
        "plt.plot(history.history['val_loss'])"
      ],
      "metadata": {
        "colab": {
          "base_uri": "https://localhost:8080/",
          "height": 447
        },
        "id": "JlmZ9E5dkUX2",
        "outputId": "b206d31c-271c-4d25-d493-f6164caeaf12"
      },
      "execution_count": 209,
      "outputs": [
        {
          "output_type": "execute_result",
          "data": {
            "text/plain": [
              "[<matplotlib.lines.Line2D at 0x7dc6767f4b50>]"
            ]
          },
          "metadata": {},
          "execution_count": 209
        },
        {
          "output_type": "display_data",
          "data": {
            "text/plain": [
              "<Figure size 640x480 with 1 Axes>"
            ],
            "image/png": "[encoded data removed]"
          },
          "metadata": {}
        }
      ]
    },
    {
      "cell_type": "markdown",
      "source": [
        "## Ridge\n",
        "\n"
      ],
      "metadata": {
        "id": "Pi4DzFsLkmIg"
      }
    },
    {
      "cell_type": "code",
      "source": [
        "from sklearn.linear_model import Ridge"
      ],
      "metadata": {
        "id": "RFBScomskUVO"
      },
      "execution_count": 249,
      "outputs": []
    },
    {
      "cell_type": "code",
      "source": [
        "from sklearn.metrics import mean_squared_error, mean_absolute_error"
      ],
      "metadata": {
        "id": "ZbrSQIdCkUPG"
      },
      "execution_count": 250,
      "outputs": []
    },
    {
      "cell_type": "code",
      "source": [
        "rd1 = Ridge(random_state=7)\n",
        "rd1.fit(x_train_pt_sel,y_train)\n",
        "y_pred = rd1.predict(x_test_pt_sel)\n",
        "mean_squared_error(y_test,y_pred), mean_absolute_error(y_test,y_pred)"
      ],
      "metadata": {
        "colab": {
          "base_uri": "https://localhost:8080/"
        },
        "id": "1KFXOkLAlSck",
        "outputId": "a0c86077-cb6a-4d6f-ca5a-29c0fb29bf16"
      },
      "execution_count": 251,
      "outputs": [
        {
          "output_type": "execute_result",
          "data": {
            "text/plain": [
              "(64524779204.28737, 170446.12983181226)"
            ]
          },
          "metadata": {},
          "execution_count": 251
        }
      ]
    },
    {
      "cell_type": "code",
      "source": [
        "# power transform Y_test\n",
        "y_test_pt = np.log(y_test)"
      ],
      "metadata": {
        "id": "JN0kAUFtloMU"
      },
      "execution_count": 252,
      "outputs": []
    },
    {
      "cell_type": "code",
      "source": [
        "rd2 = Ridge(random_state=7)\n",
        "rd2.fit(x_train_pt_sel,y_train_pt)\n",
        "y_pred_pt = rd2.predict(x_test_pt_sel)\n",
        "mean_squared_error(y_test_pt,y_pred_pt), mean_absolute_error(y_test_pt,y_pred_pt)"
      ],
      "metadata": {
        "colab": {
          "base_uri": "https://localhost:8080/"
        },
        "id": "xSjVG3x0l6mn",
        "outputId": "aaa09258-2c11-4518-85da-e46fba2bc3c4"
      },
      "execution_count": 253,
      "outputs": [
        {
          "output_type": "execute_result",
          "data": {
            "text/plain": [
              "(0.1285302475734743, 0.2867508683927554)"
            ]
          },
          "metadata": {},
          "execution_count": 253
        }
      ]
    },
    {
      "cell_type": "code",
      "source": [
        "y_test_pt.mean(),y_test_pt.min(),y_test_pt.max(),y_test_pt.std()"
      ],
      "metadata": {
        "colab": {
          "base_uri": "https://localhost:8080/"
        },
        "id": "6hviuxQTmJHL",
        "outputId": "b77c272c-bd7c-4356-cc24-fbc18ada1438"
      },
      "execution_count": 254,
      "outputs": [
        {
          "output_type": "execute_result",
          "data": {
            "text/plain": [
              "(13.046253959205588,\n",
              " 11.314474526246391,\n",
              " 15.150511624696614,\n",
              " 0.5308771876358557)"
            ]
          },
          "metadata": {},
          "execution_count": 254
        }
      ]
    },
    {
      "cell_type": "markdown",
      "source": [
        "DEBUG THE MODEL"
      ],
      "metadata": {
        "id": "QdOzOgwvo_gq"
      }
    },
    {
      "cell_type": "code",
      "source": [
        "res=pd.DataFrame([y_test,pd.Series(y_pred)]).T"
      ],
      "metadata": {
        "id": "A7bjfVYyoYUo"
      },
      "execution_count": 255,
      "outputs": []
    },
    {
      "cell_type": "code",
      "source": [
        "res.columns = ['Y_test','Y_pred']"
      ],
      "metadata": {
        "id": "ZuHI64MTqiXJ"
      },
      "execution_count": 256,
      "outputs": []
    },
    {
      "cell_type": "code",
      "source": [
        "res.shape"
      ],
      "metadata": {
        "colab": {
          "base_uri": "https://localhost:8080/"
        },
        "id": "ZQlnhsiwpWxd",
        "outputId": "76ae5508-29c7-4eba-a7e8-89a8bc53fe14"
      },
      "execution_count": 257,
      "outputs": [
        {
          "output_type": "execute_result",
          "data": {
            "text/plain": [
              "(6193, 2)"
            ]
          },
          "metadata": {},
          "execution_count": 257
        }
      ]
    },
    {
      "cell_type": "code",
      "source": [
        "res.describe()"
      ],
      "metadata": {
        "colab": {
          "base_uri": "https://localhost:8080/",
          "height": 300
        },
        "id": "BjeIaQuIpY8N",
        "outputId": "4ac90ff7-f4e5-4387-e162-35aff6e4e52c"
      },
      "execution_count": 258,
      "outputs": [
        {
          "output_type": "execute_result",
          "data": {
            "text/plain": [
              "             Y_test        Y_pred\n",
              "count  3.442000e+03  3.442000e+03\n",
              "mean   5.399442e+05  5.393570e+05\n",
              "std    3.581471e+05  2.592435e+05\n",
              "min    8.200000e+04 -2.970181e+05\n",
              "25%    3.200000e+05  3.713340e+05\n",
              "50%    4.520000e+05  5.042776e+05\n",
              "75%    6.450000e+05  6.676283e+05\n",
              "max    3.800000e+06  1.735413e+06"
            ],
            "text/html": [
              "\n",
              "  <div id=\"df-b4dc2845-f23e-4499-8f45-9265547360d6\" class=\"colab-df-container\">\n",
              "    <div>\n",
              "<style scoped>\n",
              "    .dataframe tbody tr th:only-of-type {\n",
              "        vertical-align: middle;\n",
              "    }\n",
              "\n",
              "    .dataframe tbody tr th {\n",
              "        vertical-align: top;\n",
              "    }\n",
              "\n",
              "    .dataframe thead th {\n",
              "        text-align: right;\n",
              "    }\n",
              "</style>\n",
              "<table border=\"1\" class=\"dataframe\">\n",
              "  <thead>\n",
              "    <tr style=\"text-align: right;\">\n",
              "      <th></th>\n",
              "      <th>Y_test</th>\n",
              "      <th>Y_pred</th>\n",
              "    </tr>\n",
              "  </thead>\n",
              "  <tbody>\n",
              "    <tr>\n",
              "      <th>count</th>\n",
              "      <td>3.442000e+03</td>\n",
              "      <td>3.442000e+03</td>\n",
              "    </tr>\n",
              "    <tr>\n",
              "      <th>mean</th>\n",
              "      <td>5.399442e+05</td>\n",
              "      <td>5.393570e+05</td>\n",
              "    </tr>\n",
              "    <tr>\n",
              "      <th>std</th>\n",
              "      <td>3.581471e+05</td>\n",
              "      <td>2.592435e+05</td>\n",
              "    </tr>\n",
              "    <tr>\n",
              "      <th>min</th>\n",
              "      <td>8.200000e+04</td>\n",
              "      <td>-2.970181e+05</td>\n",
              "    </tr>\n",
              "    <tr>\n",
              "      <th>25%</th>\n",
              "      <td>3.200000e+05</td>\n",
              "      <td>3.713340e+05</td>\n",
              "    </tr>\n",
              "    <tr>\n",
              "      <th>50%</th>\n",
              "      <td>4.520000e+05</td>\n",
              "      <td>5.042776e+05</td>\n",
              "    </tr>\n",
              "    <tr>\n",
              "      <th>75%</th>\n",
              "      <td>6.450000e+05</td>\n",
              "      <td>6.676283e+05</td>\n",
              "    </tr>\n",
              "    <tr>\n",
              "      <th>max</th>\n",
              "      <td>3.800000e+06</td>\n",
              "      <td>1.735413e+06</td>\n",
              "    </tr>\n",
              "  </tbody>\n",
              "</table>\n",
              "</div>\n",
              "    <div class=\"colab-df-buttons\">\n",
              "\n",
              "  <div class=\"colab-df-container\">\n",
              "    <button class=\"colab-df-convert\" onclick=\"convertToInteractive('df-b4dc2845-f23e-4499-8f45-9265547360d6')\"\n",
              "            title=\"Convert this dataframe to an interactive table.\"\n",
              "            style=\"display:none;\">\n",
              "\n",
              "  <svg xmlns=\"http://www.w3.org/2000/svg\" height=\"24px\" viewBox=\"0 -960 960 960\">\n",
              "    <path d=\"M120-120v-720h720v720H120Zm60-500h600v-160H180v160Zm220 220h160v-160H400v160Zm0 220h160v-160H400v160ZM180-400h160v-160H180v160Zm440 0h160v-160H620v160ZM180-180h160v-160H180v160Zm440 0h160v-160H620v160Z\"/>\n",
              "  </svg>\n",
              "    </button>\n",
              "\n",
              "  <style>\n",
              "    .colab-df-container {\n",
              "      display:flex;\n",
              "      gap: 12px;\n",
              "    }\n",
              "\n",
              "    .colab-df-convert {\n",
              "      background-color: #E8F0FE;\n",
              "      border: none;\n",
              "      border-radius: 50%;\n",
              "      cursor: pointer;\n",
              "      display: none;\n",
              "      fill: #1967D2;\n",
              "      height: 32px;\n",
              "      padding: 0 0 0 0;\n",
              "      width: 32px;\n",
              "    }\n",
              "\n",
              "    .colab-df-convert:hover {\n",
              "      background-color: #E2EBFA;\n",
              "      box-shadow: 0px 1px 2px rgba(60, 64, 67, 0.3), 0px 1px 3px 1px rgba(60, 64, 67, 0.15);\n",
              "      fill: #174EA6;\n",
              "    }\n",
              "\n",
              "    .colab-df-buttons div {\n",
              "      margin-bottom: 4px;\n",
              "    }\n",
              "\n",
              "    [theme=dark] .colab-df-convert {\n",
              "      background-color: #3B4455;\n",
              "      fill: #D2E3FC;\n",
              "    }\n",
              "\n",
              "    [theme=dark] .colab-df-convert:hover {\n",
              "      background-color: #434B5C;\n",
              "      box-shadow: 0px 1px 3px 1px rgba(0, 0, 0, 0.15);\n",
              "      filter: drop-shadow(0px 1px 2px rgba(0, 0, 0, 0.3));\n",
              "      fill: #FFFFFF;\n",
              "    }\n",
              "  </style>\n",
              "\n",
              "    <script>\n",
              "      const buttonEl =\n",
              "        document.querySelector('#df-b4dc2845-f23e-4499-8f45-9265547360d6 button.colab-df-convert');\n",
              "      buttonEl.style.display =\n",
              "        google.colab.kernel.accessAllowed ? 'block' : 'none';\n",
              "\n",
              "      async function convertToInteractive(key) {\n",
              "        const element = document.querySelector('#df-b4dc2845-f23e-4499-8f45-9265547360d6');\n",
              "        const dataTable =\n",
              "          await google.colab.kernel.invokeFunction('convertToInteractive',\n",
              "                                                    [key], {});\n",
              "        if (!dataTable) return;\n",
              "\n",
              "        const docLinkHtml = 'Like what you see? Visit the ' +\n",
              "          '<a target=\"_blank\" href=https://colab.research.google.com/notebooks/data_table.ipynb>data table notebook</a>'\n",
              "          + ' to learn more about interactive tables.';\n",
              "        element.innerHTML = '';\n",
              "        dataTable['output_type'] = 'display_data';\n",
              "        await google.colab.output.renderOutput(dataTable, element);\n",
              "        const docLink = document.createElement('div');\n",
              "        docLink.innerHTML = docLinkHtml;\n",
              "        element.appendChild(docLink);\n",
              "      }\n",
              "    </script>\n",
              "  </div>\n",
              "\n",
              "\n",
              "<div id=\"df-cf2429ce-e78a-4038-8a4f-4aaf3eed0718\">\n",
              "  <button class=\"colab-df-quickchart\" onclick=\"quickchart('df-cf2429ce-e78a-4038-8a4f-4aaf3eed0718')\"\n",
              "            title=\"Suggest charts\"\n",
              "            style=\"display:none;\">\n",
              "\n",
              "<svg xmlns=\"http://www.w3.org/2000/svg\" height=\"24px\"viewBox=\"0 0 24 24\"\n",
              "     width=\"24px\">\n",
              "    <g>\n",
              "        <path d=\"M19 3H5c-1.1 0-2 .9-2 2v14c0 1.1.9 2 2 2h14c1.1 0 2-.9 2-2V5c0-1.1-.9-2-2-2zM9 17H7v-7h2v7zm4 0h-2V7h2v10zm4 0h-2v-4h2v4z\"/>\n",
              "    </g>\n",
              "</svg>\n",
              "  </button>\n",
              "\n",
              "<style>\n",
              "  .colab-df-quickchart {\n",
              "      --bg-color: #E8F0FE;\n",
              "      --fill-color: #1967D2;\n",
              "      --hover-bg-color: #E2EBFA;\n",
              "      --hover-fill-color: #174EA6;\n",
              "      --disabled-fill-color: #AAA;\n",
              "      --disabled-bg-color: #DDD;\n",
              "  }\n",
              "\n",
              "  [theme=dark] .colab-df-quickchart {\n",
              "      --bg-color: #3B4455;\n",
              "      --fill-color: #D2E3FC;\n",
              "      --hover-bg-color: #434B5C;\n",
              "      --hover-fill-color: #FFFFFF;\n",
              "      --disabled-bg-color: #3B4455;\n",
              "      --disabled-fill-color: #666;\n",
              "  }\n",
              "\n",
              "  .colab-df-quickchart {\n",
              "    background-color: var(--bg-color);\n",
              "    border: none;\n",
              "    border-radius: 50%;\n",
              "    cursor: pointer;\n",
              "    display: none;\n",
              "    fill: var(--fill-color);\n",
              "    height: 32px;\n",
              "    padding: 0;\n",
              "    width: 32px;\n",
              "  }\n",
              "\n",
              "  .colab-df-quickchart:hover {\n",
              "    background-color: var(--hover-bg-color);\n",
              "    box-shadow: 0 1px 2px rgba(60, 64, 67, 0.3), 0 1px 3px 1px rgba(60, 64, 67, 0.15);\n",
              "    fill: var(--button-hover-fill-color);\n",
              "  }\n",
              "\n",
              "  .colab-df-quickchart-complete:disabled,\n",
              "  .colab-df-quickchart-complete:disabled:hover {\n",
              "    background-color: var(--disabled-bg-color);\n",
              "    fill: var(--disabled-fill-color);\n",
              "    box-shadow: none;\n",
              "  }\n",
              "\n",
              "  .colab-df-spinner {\n",
              "    border: 2px solid var(--fill-color);\n",
              "    border-color: transparent;\n",
              "    border-bottom-color: var(--fill-color);\n",
              "    animation:\n",
              "      spin 1s steps(1) infinite;\n",
              "  }\n",
              "\n",
              "  @keyframes spin {\n",
              "    0% {\n",
              "      border-color: transparent;\n",
              "      border-bottom-color: var(--fill-color);\n",
              "      border-left-color: var(--fill-color);\n",
              "    }\n",
              "    20% {\n",
              "      border-color: transparent;\n",
              "      border-left-color: var(--fill-color);\n",
              "      border-top-color: var(--fill-color);\n",
              "    }\n",
              "    30% {\n",
              "      border-color: transparent;\n",
              "      border-left-color: var(--fill-color);\n",
              "      border-top-color: var(--fill-color);\n",
              "      border-right-color: var(--fill-color);\n",
              "    }\n",
              "    40% {\n",
              "      border-color: transparent;\n",
              "      border-right-color: var(--fill-color);\n",
              "      border-top-color: var(--fill-color);\n",
              "    }\n",
              "    60% {\n",
              "      border-color: transparent;\n",
              "      border-right-color: var(--fill-color);\n",
              "    }\n",
              "    80% {\n",
              "      border-color: transparent;\n",
              "      border-right-color: var(--fill-color);\n",
              "      border-bottom-color: var(--fill-color);\n",
              "    }\n",
              "    90% {\n",
              "      border-color: transparent;\n",
              "      border-bottom-color: var(--fill-color);\n",
              "    }\n",
              "  }\n",
              "</style>\n",
              "\n",
              "  <script>\n",
              "    async function quickchart(key) {\n",
              "      const quickchartButtonEl =\n",
              "        document.querySelector('#' + key + ' button');\n",
              "      quickchartButtonEl.disabled = true;  // To prevent multiple clicks.\n",
              "      quickchartButtonEl.classList.add('colab-df-spinner');\n",
              "      try {\n",
              "        const charts = await google.colab.kernel.invokeFunction(\n",
              "            'suggestCharts', [key], {});\n",
              "      } catch (error) {\n",
              "        console.error('Error during call to suggestCharts:', error);\n",
              "      }\n",
              "      quickchartButtonEl.classList.remove('colab-df-spinner');\n",
              "      quickchartButtonEl.classList.add('colab-df-quickchart-complete');\n",
              "    }\n",
              "    (() => {\n",
              "      let quickchartButtonEl =\n",
              "        document.querySelector('#df-cf2429ce-e78a-4038-8a4f-4aaf3eed0718 button');\n",
              "      quickchartButtonEl.style.display =\n",
              "        google.colab.kernel.accessAllowed ? 'block' : 'none';\n",
              "    })();\n",
              "  </script>\n",
              "</div>\n",
              "\n",
              "    </div>\n",
              "  </div>\n"
            ],
            "application/vnd.google.colaboratory.intrinsic+json": {
              "type": "dataframe",
              "summary": "{\n  \"name\": \"res\",\n  \"rows\": 8,\n  \"fields\": [\n    {\n      \"column\": \"Y_test\",\n      \"properties\": {\n        \"dtype\": \"number\",\n        \"std\": 1241165.7690743834,\n        \"min\": 3442.0,\n        \"max\": 3800000.0,\n        \"num_unique_values\": 8,\n        \"samples\": [\n          539944.2158628704,\n          452000.0,\n          3442.0\n        ],\n        \"semantic_type\": \"\",\n        \"description\": \"\"\n      }\n    },\n    {\n      \"column\": \"Y_pred\",\n      \"properties\": {\n        \"dtype\": \"number\",\n        \"std\": 598377.5520350204,\n        \"min\": -297018.05385161156,\n        \"max\": 1735413.4912404572,\n        \"num_unique_values\": 8,\n        \"samples\": [\n          539356.95150469,\n          504277.566280219,\n          3442.0\n        ],\n        \"semantic_type\": \"\",\n        \"description\": \"\"\n      }\n    }\n  ]\n}"
            }
          },
          "metadata": {},
          "execution_count": 258
        }
      ]
    },
    {
      "cell_type": "code",
      "source": [
        "#THERE ARE SOME OUTLIERS MAX T_TEST AND Y_PRED HAVE MORE DIFF ION VAL"
      ],
      "metadata": {
        "id": "kXEiJKezpcMt"
      },
      "execution_count": 238,
      "outputs": []
    },
    {
      "cell_type": "code",
      "source": [
        "abs(y_test-y_pred).describe()"
      ],
      "metadata": {
        "colab": {
          "base_uri": "https://localhost:8080/"
        },
        "id": "t0Rz7KlTra07",
        "outputId": "8e01d9f5-8083-4c52-fd7e-a9b08a47f489"
      },
      "execution_count": 259,
      "outputs": [
        {
          "output_type": "execute_result",
          "data": {
            "text/plain": [
              "count    3.442000e+03\n",
              "mean     1.704461e+05\n",
              "std      1.883699e+05\n",
              "min      1.865517e+01\n",
              "25%      6.201866e+04\n",
              "50%      1.267095e+05\n",
              "75%      2.199023e+05\n",
              "max      2.243506e+06\n",
              "Name: price, dtype: float64"
            ]
          },
          "metadata": {},
          "execution_count": 259
        }
      ]
    },
    {
      "cell_type": "code",
      "source": [
        "err_per_record=np.array(abs(y_test-y_pred))"
      ],
      "metadata": {
        "id": "RwVU68YdrcRH"
      },
      "execution_count": 260,
      "outputs": []
    },
    {
      "cell_type": "code",
      "source": [
        "err_per_record.max()"
      ],
      "metadata": {
        "colab": {
          "base_uri": "https://localhost:8080/"
        },
        "id": "9RxYm4BIrcOv",
        "outputId": "67970637-169e-444b-a68f-6a1a6136e2bc"
      },
      "execution_count": 261,
      "outputs": [
        {
          "output_type": "execute_result",
          "data": {
            "text/plain": [
              "2243506.4883554964"
            ]
          },
          "metadata": {},
          "execution_count": 261
        }
      ]
    },
    {
      "cell_type": "code",
      "source": [
        "res['Err'] = abs(res['Y_test']-res['Y_pred'])"
      ],
      "metadata": {
        "id": "9TG-VQ7DuPdK"
      },
      "execution_count": 264,
      "outputs": []
    },
    {
      "cell_type": "code",
      "source": [
        "err_index=res.sort_values(['Err'],ascending=False).head(10).index"
      ],
      "metadata": {
        "id": "k_T4SZrhrcJo"
      },
      "execution_count": 269,
      "outputs": []
    },
    {
      "cell_type": "code",
      "source": [
        "x_test.iloc[err_index,:]"
      ],
      "metadata": {
        "colab": {
          "base_uri": "https://localhost:8080/",
          "height": 557
        },
        "id": "kncBEoykrcHG",
        "outputId": "5889e140-0331-4560-e5eb-184afad2db2c"
      },
      "execution_count": 270,
      "outputs": [
        {
          "output_type": "execute_result",
          "data": {
            "text/plain": [
              "            date  bedrooms  sqft_living  sqft_lot  floors  waterfront  \\\n",
              "154   2014-10-15         3         1510      1245     3.0           0   \n",
              "13474 2014-08-13         3          960      8100     1.0           0   \n",
              "2671  2015-04-14         3         1670      4220     2.0           0   \n",
              "6442  2015-04-09         5         4700     22326     2.0           0   \n",
              "16179 2015-03-17         3         1010     15701     1.0           0   \n",
              "4711  2014-08-21         2         1510      7280     2.0           0   \n",
              "13781 2015-01-26         4         2130      9579     1.0           0   \n",
              "13173 2014-07-22         3         1200      8040     1.0           0   \n",
              "14376 2015-04-22         3         1470      9570     1.0           0   \n",
              "10531 2014-08-12         2          670      5140     1.0           0   \n",
              "\n",
              "       condition  grade  sqft_above  sqft_basement  yr_built  yr_renovated  \\\n",
              "154            3      7        1510              0      2007             0   \n",
              "13474          3      7         960              0      1955             0   \n",
              "2671           3      7        1670              0      2002             0   \n",
              "6442           3     11        4700              0      2002             0   \n",
              "16179          4      7        1010              0      1949             0   \n",
              "4711           3      7        1510              0      1987             0   \n",
              "13781          4      7        1250            880      1968             0   \n",
              "13173          4      7        1200              0      1959             0   \n",
              "14376          3      7        1280            190      1941             0   \n",
              "10531          3      6         670              0      1926             0   \n",
              "\n",
              "       zipcode      lat     long  sqft_living15  sqft_lot15  \n",
              "154      98133  47.7293 -122.343           1510        1245  \n",
              "13474    98155  47.7763 -122.305           1080        8100  \n",
              "2671     98038  47.3834 -122.028           1670        4238  \n",
              "6442     98006  47.5417 -122.111           4730       27110  \n",
              "16179    98188  47.4518 -122.292           1260        9800  \n",
              "4711     98074  47.6264 -122.058           1510        8120  \n",
              "13781    98001  47.3069 -122.271           1590        9800  \n",
              "13173    98146  47.4901 -122.341           1450        9315  \n",
              "14376    98125  47.7032 -122.306           1390        9570  \n",
              "10531    98126  47.5387 -122.371            850        5140  "
            ],
            "text/html": [
              "\n",
              "  <div id=\"df-9abdd53b-5842-4198-ba5d-a181bb22a05e\" class=\"colab-df-container\">\n",
              "    <div>\n",
              "<style scoped>\n",
              "    .dataframe tbody tr th:only-of-type {\n",
              "        vertical-align: middle;\n",
              "    }\n",
              "\n",
              "    .dataframe tbody tr th {\n",
              "        vertical-align: top;\n",
              "    }\n",
              "\n",
              "    .dataframe thead th {\n",
              "        text-align: right;\n",
              "    }\n",
              "</style>\n",
              "<table border=\"1\" class=\"dataframe\">\n",
              "  <thead>\n",
              "    <tr style=\"text-align: right;\">\n",
              "      <th></th>\n",
              "      <th>date</th>\n",
              "      <th>bedrooms</th>\n",
              "      <th>sqft_living</th>\n",
              "      <th>sqft_lot</th>\n",
              "      <th>floors</th>\n",
              "      <th>waterfront</th>\n",
              "      <th>condition</th>\n",
              "      <th>grade</th>\n",
              "      <th>sqft_above</th>\n",
              "      <th>sqft_basement</th>\n",
              "      <th>yr_built</th>\n",
              "      <th>yr_renovated</th>\n",
              "      <th>zipcode</th>\n",
              "      <th>lat</th>\n",
              "      <th>long</th>\n",
              "      <th>sqft_living15</th>\n",
              "      <th>sqft_lot15</th>\n",
              "    </tr>\n",
              "  </thead>\n",
              "  <tbody>\n",
              "    <tr>\n",
              "      <th>154</th>\n",
              "      <td>2014-10-15</td>\n",
              "      <td>3</td>\n",
              "      <td>1510</td>\n",
              "      <td>1245</td>\n",
              "      <td>3.0</td>\n",
              "      <td>0</td>\n",
              "      <td>3</td>\n",
              "      <td>7</td>\n",
              "      <td>1510</td>\n",
              "      <td>0</td>\n",
              "      <td>2007</td>\n",
              "      <td>0</td>\n",
              "      <td>98133</td>\n",
              "      <td>47.7293</td>\n",
              "      <td>-122.343</td>\n",
              "      <td>1510</td>\n",
              "      <td>1245</td>\n",
              "    </tr>\n",
              "    <tr>\n",
              "      <th>13474</th>\n",
              "      <td>2014-08-13</td>\n",
              "      <td>3</td>\n",
              "      <td>960</td>\n",
              "      <td>8100</td>\n",
              "      <td>1.0</td>\n",
              "      <td>0</td>\n",
              "      <td>3</td>\n",
              "      <td>7</td>\n",
              "      <td>960</td>\n",
              "      <td>0</td>\n",
              "      <td>1955</td>\n",
              "      <td>0</td>\n",
              "      <td>98155</td>\n",
              "      <td>47.7763</td>\n",
              "      <td>-122.305</td>\n",
              "      <td>1080</td>\n",
              "      <td>8100</td>\n",
              "    </tr>\n",
              "    <tr>\n",
              "      <th>2671</th>\n",
              "      <td>2015-04-14</td>\n",
              "      <td>3</td>\n",
              "      <td>1670</td>\n",
              "      <td>4220</td>\n",
              "      <td>2.0</td>\n",
              "      <td>0</td>\n",
              "      <td>3</td>\n",
              "      <td>7</td>\n",
              "      <td>1670</td>\n",
              "      <td>0</td>\n",
              "      <td>2002</td>\n",
              "      <td>0</td>\n",
              "      <td>98038</td>\n",
              "      <td>47.3834</td>\n",
              "      <td>-122.028</td>\n",
              "      <td>1670</td>\n",
              "      <td>4238</td>\n",
              "    </tr>\n",
              "    <tr>\n",
              "      <th>6442</th>\n",
              "      <td>2015-04-09</td>\n",
              "      <td>5</td>\n",
              "      <td>4700</td>\n",
              "      <td>22326</td>\n",
              "      <td>2.0</td>\n",
              "      <td>0</td>\n",
              "      <td>3</td>\n",
              "      <td>11</td>\n",
              "      <td>4700</td>\n",
              "      <td>0</td>\n",
              "      <td>2002</td>\n",
              "      <td>0</td>\n",
              "      <td>98006</td>\n",
              "      <td>47.5417</td>\n",
              "      <td>-122.111</td>\n",
              "      <td>4730</td>\n",
              "      <td>27110</td>\n",
              "    </tr>\n",
              "    <tr>\n",
              "      <th>16179</th>\n",
              "      <td>2015-03-17</td>\n",
              "      <td>3</td>\n",
              "      <td>1010</td>\n",
              "      <td>15701</td>\n",
              "      <td>1.0</td>\n",
              "      <td>0</td>\n",
              "      <td>4</td>\n",
              "      <td>7</td>\n",
              "      <td>1010</td>\n",
              "      <td>0</td>\n",
              "      <td>1949</td>\n",
              "      <td>0</td>\n",
              "      <td>98188</td>\n",
              "      <td>47.4518</td>\n",
              "      <td>-122.292</td>\n",
              "      <td>1260</td>\n",
              "      <td>9800</td>\n",
              "    </tr>\n",
              "    <tr>\n",
              "      <th>4711</th>\n",
              "      <td>2014-08-21</td>\n",
              "      <td>2</td>\n",
              "      <td>1510</td>\n",
              "      <td>7280</td>\n",
              "      <td>2.0</td>\n",
              "      <td>0</td>\n",
              "      <td>3</td>\n",
              "      <td>7</td>\n",
              "      <td>1510</td>\n",
              "      <td>0</td>\n",
              "      <td>1987</td>\n",
              "      <td>0</td>\n",
              "      <td>98074</td>\n",
              "      <td>47.6264</td>\n",
              "      <td>-122.058</td>\n",
              "      <td>1510</td>\n",
              "      <td>8120</td>\n",
              "    </tr>\n",
              "    <tr>\n",
              "      <th>13781</th>\n",
              "      <td>2015-01-26</td>\n",
              "      <td>4</td>\n",
              "      <td>2130</td>\n",
              "      <td>9579</td>\n",
              "      <td>1.0</td>\n",
              "      <td>0</td>\n",
              "      <td>4</td>\n",
              "      <td>7</td>\n",
              "      <td>1250</td>\n",
              "      <td>880</td>\n",
              "      <td>1968</td>\n",
              "      <td>0</td>\n",
              "      <td>98001</td>\n",
              "      <td>47.3069</td>\n",
              "      <td>-122.271</td>\n",
              "      <td>1590</td>\n",
              "      <td>9800</td>\n",
              "    </tr>\n",
              "    <tr>\n",
              "      <th>13173</th>\n",
              "      <td>2014-07-22</td>\n",
              "      <td>3</td>\n",
              "      <td>1200</td>\n",
              "      <td>8040</td>\n",
              "      <td>1.0</td>\n",
              "      <td>0</td>\n",
              "      <td>4</td>\n",
              "      <td>7</td>\n",
              "      <td>1200</td>\n",
              "      <td>0</td>\n",
              "      <td>1959</td>\n",
              "      <td>0</td>\n",
              "      <td>98146</td>\n",
              "      <td>47.4901</td>\n",
              "      <td>-122.341</td>\n",
              "      <td>1450</td>\n",
              "      <td>9315</td>\n",
              "    </tr>\n",
              "    <tr>\n",
              "      <th>14376</th>\n",
              "      <td>2015-04-22</td>\n",
              "      <td>3</td>\n",
              "      <td>1470</td>\n",
              "      <td>9570</td>\n",
              "      <td>1.0</td>\n",
              "      <td>0</td>\n",
              "      <td>3</td>\n",
              "      <td>7</td>\n",
              "      <td>1280</td>\n",
              "      <td>190</td>\n",
              "      <td>1941</td>\n",
              "      <td>0</td>\n",
              "      <td>98125</td>\n",
              "      <td>47.7032</td>\n",
              "      <td>-122.306</td>\n",
              "      <td>1390</td>\n",
              "      <td>9570</td>\n",
              "    </tr>\n",
              "    <tr>\n",
              "      <th>10531</th>\n",
              "      <td>2014-08-12</td>\n",
              "      <td>2</td>\n",
              "      <td>670</td>\n",
              "      <td>5140</td>\n",
              "      <td>1.0</td>\n",
              "      <td>0</td>\n",
              "      <td>3</td>\n",
              "      <td>6</td>\n",
              "      <td>670</td>\n",
              "      <td>0</td>\n",
              "      <td>1926</td>\n",
              "      <td>0</td>\n",
              "      <td>98126</td>\n",
              "      <td>47.5387</td>\n",
              "      <td>-122.371</td>\n",
              "      <td>850</td>\n",
              "      <td>5140</td>\n",
              "    </tr>\n",
              "  </tbody>\n",
              "</table>\n",
              "</div>\n",
              "    <div class=\"colab-df-buttons\">\n",
              "\n",
              "  <div class=\"colab-df-container\">\n",
              "    <button class=\"colab-df-convert\" onclick=\"convertToInteractive('df-9abdd53b-5842-4198-ba5d-a181bb22a05e')\"\n",
              "            title=\"Convert this dataframe to an interactive table.\"\n",
              "            style=\"display:none;\">\n",
              "\n",
              "  <svg xmlns=\"http://www.w3.org/2000/svg\" height=\"24px\" viewBox=\"0 -960 960 960\">\n",
              "    <path d=\"M120-120v-720h720v720H120Zm60-500h600v-160H180v160Zm220 220h160v-160H400v160Zm0 220h160v-160H400v160ZM180-400h160v-160H180v160Zm440 0h160v-160H620v160ZM180-180h160v-160H180v160Zm440 0h160v-160H620v160Z\"/>\n",
              "  </svg>\n",
              "    </button>\n",
              "\n",
              "  <style>\n",
              "    .colab-df-container {\n",
              "      display:flex;\n",
              "      gap: 12px;\n",
              "    }\n",
              "\n",
              "    .colab-df-convert {\n",
              "      background-color: #E8F0FE;\n",
              "      border: none;\n",
              "      border-radius: 50%;\n",
              "      cursor: pointer;\n",
              "      display: none;\n",
              "      fill: #1967D2;\n",
              "      height: 32px;\n",
              "      padding: 0 0 0 0;\n",
              "      width: 32px;\n",
              "    }\n",
              "\n",
              "    .colab-df-convert:hover {\n",
              "      background-color: #E2EBFA;\n",
              "      box-shadow: 0px 1px 2px rgba(60, 64, 67, 0.3), 0px 1px 3px 1px rgba(60, 64, 67, 0.15);\n",
              "      fill: #174EA6;\n",
              "    }\n",
              "\n",
              "    .colab-df-buttons div {\n",
              "      margin-bottom: 4px;\n",
              "    }\n",
              "\n",
              "    [theme=dark] .colab-df-convert {\n",
              "      background-color: #3B4455;\n",
              "      fill: #D2E3FC;\n",
              "    }\n",
              "\n",
              "    [theme=dark] .colab-df-convert:hover {\n",
              "      background-color: #434B5C;\n",
              "      box-shadow: 0px 1px 3px 1px rgba(0, 0, 0, 0.15);\n",
              "      filter: drop-shadow(0px 1px 2px rgba(0, 0, 0, 0.3));\n",
              "      fill: #FFFFFF;\n",
              "    }\n",
              "  </style>\n",
              "\n",
              "    <script>\n",
              "      const buttonEl =\n",
              "        document.querySelector('#df-9abdd53b-5842-4198-ba5d-a181bb22a05e button.colab-df-convert');\n",
              "      buttonEl.style.display =\n",
              "        google.colab.kernel.accessAllowed ? 'block' : 'none';\n",
              "\n",
              "      async function convertToInteractive(key) {\n",
              "        const element = document.querySelector('#df-9abdd53b-5842-4198-ba5d-a181bb22a05e');\n",
              "        const dataTable =\n",
              "          await google.colab.kernel.invokeFunction('convertToInteractive',\n",
              "                                                    [key], {});\n",
              "        if (!dataTable) return;\n",
              "\n",
              "        const docLinkHtml = 'Like what you see? Visit the ' +\n",
              "          '<a target=\"_blank\" href=https://colab.research.google.com/notebooks/data_table.ipynb>data table notebook</a>'\n",
              "          + ' to learn more about interactive tables.';\n",
              "        element.innerHTML = '';\n",
              "        dataTable['output_type'] = 'display_data';\n",
              "        await google.colab.output.renderOutput(dataTable, element);\n",
              "        const docLink = document.createElement('div');\n",
              "        docLink.innerHTML = docLinkHtml;\n",
              "        element.appendChild(docLink);\n",
              "      }\n",
              "    </script>\n",
              "  </div>\n",
              "\n",
              "\n",
              "<div id=\"df-c88ec993-af6d-4145-938a-c4a248796cf7\">\n",
              "  <button class=\"colab-df-quickchart\" onclick=\"quickchart('df-c88ec993-af6d-4145-938a-c4a248796cf7')\"\n",
              "            title=\"Suggest charts\"\n",
              "            style=\"display:none;\">\n",
              "\n",
              "<svg xmlns=\"http://www.w3.org/2000/svg\" height=\"24px\"viewBox=\"0 0 24 24\"\n",
              "     width=\"24px\">\n",
              "    <g>\n",
              "        <path d=\"M19 3H5c-1.1 0-2 .9-2 2v14c0 1.1.9 2 2 2h14c1.1 0 2-.9 2-2V5c0-1.1-.9-2-2-2zM9 17H7v-7h2v7zm4 0h-2V7h2v10zm4 0h-2v-4h2v4z\"/>\n",
              "    </g>\n",
              "</svg>\n",
              "  </button>\n",
              "\n",
              "<style>\n",
              "  .colab-df-quickchart {\n",
              "      --bg-color: #E8F0FE;\n",
              "      --fill-color: #1967D2;\n",
              "      --hover-bg-color: #E2EBFA;\n",
              "      --hover-fill-color: #174EA6;\n",
              "      --disabled-fill-color: #AAA;\n",
              "      --disabled-bg-color: #DDD;\n",
              "  }\n",
              "\n",
              "  [theme=dark] .colab-df-quickchart {\n",
              "      --bg-color: #3B4455;\n",
              "      --fill-color: #D2E3FC;\n",
              "      --hover-bg-color: #434B5C;\n",
              "      --hover-fill-color: #FFFFFF;\n",
              "      --disabled-bg-color: #3B4455;\n",
              "      --disabled-fill-color: #666;\n",
              "  }\n",
              "\n",
              "  .colab-df-quickchart {\n",
              "    background-color: var(--bg-color);\n",
              "    border: none;\n",
              "    border-radius: 50%;\n",
              "    cursor: pointer;\n",
              "    display: none;\n",
              "    fill: var(--fill-color);\n",
              "    height: 32px;\n",
              "    padding: 0;\n",
              "    width: 32px;\n",
              "  }\n",
              "\n",
              "  .colab-df-quickchart:hover {\n",
              "    background-color: var(--hover-bg-color);\n",
              "    box-shadow: 0 1px 2px rgba(60, 64, 67, 0.3), 0 1px 3px 1px rgba(60, 64, 67, 0.15);\n",
              "    fill: var(--button-hover-fill-color);\n",
              "  }\n",
              "\n",
              "  .colab-df-quickchart-complete:disabled,\n",
              "  .colab-df-quickchart-complete:disabled:hover {\n",
              "    background-color: var(--disabled-bg-color);\n",
              "    fill: var(--disabled-fill-color);\n",
              "    box-shadow: none;\n",
              "  }\n",
              "\n",
              "  .colab-df-spinner {\n",
              "    border: 2px solid var(--fill-color);\n",
              "    border-color: transparent;\n",
              "    border-bottom-color: var(--fill-color);\n",
              "    animation:\n",
              "      spin 1s steps(1) infinite;\n",
              "  }\n",
              "\n",
              "  @keyframes spin {\n",
              "    0% {\n",
              "      border-color: transparent;\n",
              "      border-bottom-color: var(--fill-color);\n",
              "      border-left-color: var(--fill-color);\n",
              "    }\n",
              "    20% {\n",
              "      border-color: transparent;\n",
              "      border-left-color: var(--fill-color);\n",
              "      border-top-color: var(--fill-color);\n",
              "    }\n",
              "    30% {\n",
              "      border-color: transparent;\n",
              "      border-left-color: var(--fill-color);\n",
              "      border-top-color: var(--fill-color);\n",
              "      border-right-color: var(--fill-color);\n",
              "    }\n",
              "    40% {\n",
              "      border-color: transparent;\n",
              "      border-right-color: var(--fill-color);\n",
              "      border-top-color: var(--fill-color);\n",
              "    }\n",
              "    60% {\n",
              "      border-color: transparent;\n",
              "      border-right-color: var(--fill-color);\n",
              "    }\n",
              "    80% {\n",
              "      border-color: transparent;\n",
              "      border-right-color: var(--fill-color);\n",
              "      border-bottom-color: var(--fill-color);\n",
              "    }\n",
              "    90% {\n",
              "      border-color: transparent;\n",
              "      border-bottom-color: var(--fill-color);\n",
              "    }\n",
              "  }\n",
              "</style>\n",
              "\n",
              "  <script>\n",
              "    async function quickchart(key) {\n",
              "      const quickchartButtonEl =\n",
              "        document.querySelector('#' + key + ' button');\n",
              "      quickchartButtonEl.disabled = true;  // To prevent multiple clicks.\n",
              "      quickchartButtonEl.classList.add('colab-df-spinner');\n",
              "      try {\n",
              "        const charts = await google.colab.kernel.invokeFunction(\n",
              "            'suggestCharts', [key], {});\n",
              "      } catch (error) {\n",
              "        console.error('Error during call to suggestCharts:', error);\n",
              "      }\n",
              "      quickchartButtonEl.classList.remove('colab-df-spinner');\n",
              "      quickchartButtonEl.classList.add('colab-df-quickchart-complete');\n",
              "    }\n",
              "    (() => {\n",
              "      let quickchartButtonEl =\n",
              "        document.querySelector('#df-c88ec993-af6d-4145-938a-c4a248796cf7 button');\n",
              "      quickchartButtonEl.style.display =\n",
              "        google.colab.kernel.accessAllowed ? 'block' : 'none';\n",
              "    })();\n",
              "  </script>\n",
              "</div>\n",
              "\n",
              "    </div>\n",
              "  </div>\n"
            ],
            "application/vnd.google.colaboratory.intrinsic+json": {
              "type": "dataframe",
              "summary": "{\n  \"name\": \"x_test\",\n  \"rows\": 10,\n  \"fields\": [\n    {\n      \"column\": \"date\",\n      \"properties\": {\n        \"dtype\": \"date\",\n        \"min\": \"2014-07-22 00:00:00\",\n        \"max\": \"2015-04-22 00:00:00\",\n        \"num_unique_values\": 10,\n        \"samples\": [\n          \"2015-04-22 00:00:00\",\n          \"2014-08-13 00:00:00\",\n          \"2014-08-21 00:00:00\"\n        ],\n        \"semantic_type\": \"\",\n        \"description\": \"\"\n      }\n    },\n    {\n      \"column\": \"bedrooms\",\n      \"properties\": {\n        \"dtype\": \"number\",\n        \"std\": 0,\n        \"min\": 2,\n        \"max\": 5,\n        \"num_unique_values\": 4,\n        \"samples\": [\n          5,\n          4,\n          3\n        ],\n        \"semantic_type\": \"\",\n        \"description\": \"\"\n      }\n    },\n    {\n      \"column\": \"sqft_living\",\n      \"properties\": {\n        \"dtype\": \"number\",\n        \"std\": 1137,\n        \"min\": 670,\n        \"max\": 4700,\n        \"num_unique_values\": 9,\n        \"samples\": [\n          1470,\n          960,\n          2130\n        ],\n        \"semantic_type\": \"\",\n        \"description\": \"\"\n      }\n    },\n    {\n      \"column\": \"sqft_lot\",\n      \"properties\": {\n        \"dtype\": \"number\",\n        \"std\": 6014,\n        \"min\": 1245,\n        \"max\": 22326,\n        \"num_unique_values\": 10,\n        \"samples\": [\n          9570,\n          8100,\n          7280\n        ],\n        \"semantic_type\": \"\",\n        \"description\": \"\"\n      }\n    },\n    {\n      \"column\": \"floors\",\n      \"properties\": {\n        \"dtype\": \"number\",\n        \"std\": 0.7071067811865476,\n        \"min\": 1.0,\n        \"max\": 3.0,\n        \"num_unique_values\": 3,\n        \"samples\": [\n          3.0,\n          1.0,\n          2.0\n        ],\n        \"semantic_type\": \"\",\n        \"description\": \"\"\n      }\n    },\n    {\n      \"column\": \"waterfront\",\n      \"properties\": {\n        \"dtype\": \"number\",\n        \"std\": 0,\n        \"min\": 0,\n        \"max\": 0,\n        \"num_unique_values\": 1,\n        \"samples\": [\n          0\n        ],\n        \"semantic_type\": \"\",\n        \"description\": \"\"\n      }\n    },\n    {\n      \"column\": \"condition\",\n      \"properties\": {\n        \"dtype\": \"number\",\n        \"std\": 0,\n        \"min\": 3,\n        \"max\": 4,\n        \"num_unique_values\": 2,\n        \"samples\": [\n          4\n        ],\n        \"semantic_type\": \"\",\n        \"description\": \"\"\n      }\n    },\n    {\n      \"column\": \"grade\",\n      \"properties\": {\n        \"dtype\": \"number\",\n        \"std\": 1,\n        \"min\": 6,\n        \"max\": 11,\n        \"num_unique_values\": 3,\n        \"samples\": [\n          7\n        ],\n        \"semantic_type\": \"\",\n        \"description\": \"\"\n      }\n    },\n    {\n      \"column\": \"sqft_above\",\n      \"properties\": {\n        \"dtype\": \"number\",\n        \"std\": 1136,\n        \"min\": 670,\n        \"max\": 4700,\n        \"num_unique_values\": 9,\n        \"samples\": [\n          1280\n        ],\n        \"semantic_type\": \"\",\n        \"description\": \"\"\n      }\n    },\n    {\n      \"column\": \"sqft_basement\",\n      \"properties\": {\n        \"dtype\": \"number\",\n        \"std\": 278,\n        \"min\": 0,\n        \"max\": 880,\n        \"num_unique_values\": 3,\n        \"samples\": [\n          0\n        ],\n        \"semantic_type\": \"\",\n        \"description\": \"\"\n      }\n    },\n    {\n      \"column\": \"yr_built\",\n      \"properties\": {\n        \"dtype\": \"number\",\n        \"std\": 28,\n        \"min\": 1926,\n        \"max\": 2007,\n        \"num_unique_values\": 9,\n        \"samples\": [\n          1941\n        ],\n        \"semantic_type\": \"\",\n        \"description\": \"\"\n      }\n    },\n    {\n      \"column\": \"yr_renovated\",\n      \"properties\": {\n        \"dtype\": \"number\",\n        \"std\": 0,\n        \"min\": 0,\n        \"max\": 0,\n        \"num_unique_values\": 1,\n        \"samples\": [\n          0\n        ],\n        \"semantic_type\": \"\",\n        \"description\": \"\"\n      }\n    },\n    {\n      \"column\": \"zipcode\",\n      \"properties\": {\n        \"dtype\": \"number\",\n        \"std\": 65,\n        \"min\": 98001,\n        \"max\": 98188,\n        \"num_unique_values\": 10,\n        \"samples\": [\n          98125\n        ],\n        \"semantic_type\": \"\",\n        \"description\": \"\"\n      }\n    },\n    {\n      \"column\": \"lat\",\n      \"properties\": {\n        \"dtype\": \"number\",\n        \"std\": 0.15373855729777136,\n        \"min\": 47.3069,\n        \"max\": 47.7763,\n        \"num_unique_values\": 10,\n        \"samples\": [\n          47.7032\n        ],\n        \"semantic_type\": \"\",\n        \"description\": \"\"\n      }\n    },\n    {\n      \"column\": \"long\",\n      \"properties\": {\n        \"dtype\": \"number\",\n        \"std\": 0.12686755998984525,\n        \"min\": -122.371,\n        \"max\": -122.028,\n        \"num_unique_values\": 10,\n        \"samples\": [\n          -122.306\n        ],\n        \"semantic_type\": \"\",\n        \"description\": \"\"\n      }\n    },\n    {\n      \"column\": \"sqft_living15\",\n      \"properties\": {\n        \"dtype\": \"number\",\n        \"std\": 1091,\n        \"min\": 850,\n        \"max\": 4730,\n        \"num_unique_values\": 9,\n        \"samples\": [\n          1390\n        ],\n        \"semantic_type\": \"\",\n        \"description\": \"\"\n      }\n    },\n    {\n      \"column\": \"sqft_lot15\",\n      \"properties\": {\n        \"dtype\": \"number\",\n        \"std\": 6899,\n        \"min\": 1245,\n        \"max\": 27110,\n        \"num_unique_values\": 9,\n        \"samples\": [\n          9570\n        ],\n        \"semantic_type\": \"\",\n        \"description\": \"\"\n      }\n    }\n  ]\n}"
            }
          },
          "metadata": {},
          "execution_count": 270
        }
      ]
    },
    {
      "cell_type": "code",
      "source": [],
      "metadata": {
        "id": "G0nZo5MkrcEe"
      },
      "execution_count": null,
      "outputs": []
    }
  ]
}